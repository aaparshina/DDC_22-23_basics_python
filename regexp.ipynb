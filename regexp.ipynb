{
 "cells": [
  {
   "cell_type": "markdown",
   "metadata": {},
   "source": [
    "# «Python для сбора данных» \n",
    "*Автор: Анастасия Паршина, НИУ ВШЭ* \n",
    "\n",
    "E-mail: a.a.parshina@ya.ru\n",
    "\n",
    "## Регулярные выражения. Сбор данных с помощью регулярных выражений."
   ]
  },
  {
   "cell_type": "code",
   "execution_count": 2,
   "metadata": {},
   "outputs": [],
   "source": [
    "import re"
   ]
  },
  {
   "cell_type": "code",
   "execution_count": 1,
   "metadata": {},
   "outputs": [],
   "source": [
    "text = 'Александр Невский. \\\n",
    "Родился: 13 мая 1221 г., Переславль-Залесский, Великое княжество Владимирское. \\\n",
    "Умер: 14 ноября 1263 г. (42 года), Городец, Великое княжество Владимирское'\n",
    "\n"
   ]
  },
  {
   "cell_type": "code",
   "execution_count": null,
   "metadata": {},
   "outputs": [],
   "source": []
  },
  {
   "cell_type": "code",
   "execution_count": 12,
   "metadata": {},
   "outputs": [],
   "source": [
    "employees = ['Вронский Алексей Кириллович, vronsak@count.ru', \n",
    "             'Лёвин Константин Дмитриевич, 4kostya-32@kd.ru',\n",
    "             'Облонская Дарья Александровна, OblonskayD@dolly.ru',\n",
    "             'Тверская Елизавета Фёдоровна, BetsyDuchess@tversk.ru'\n",
    "            ]\n",
    "\n",
    "# Мы хотим заменить в нем все, что идет после знака `@` на корпоративный адрес `roman.com`. "
   ]
  },
  {
   "cell_type": "code",
   "execution_count": 22,
   "metadata": {},
   "outputs": [],
   "source": [
    "# Предположим, что у нас есть список персонажей, и мы хотим создать новую переменную — пол. \n",
    "characters = ['Ростов Илья Андреевич', 'Болконский Андрей Николаевич', \n",
    "              'Мейнен Елизавета Карловна', 'Курагин Василий Сергеевич', \n",
    "              'Курагин Анатолий Васильевич', 'Безухов Пётр Кириллович',\n",
    "              'Друбецкая Анна Михайловна', 'Дохолов Федор Иванович']"
   ]
  },
  {
   "cell_type": "code",
   "execution_count": 54,
   "metadata": {},
   "outputs": [],
   "source": [
    "data_emperors.to_csv('data_emperors.csv')"
   ]
  }
 ],
 "metadata": {
  "kernelspec": {
   "display_name": "Python 3 (ipykernel)",
   "language": "python",
   "name": "python3"
  },
  "language_info": {
   "codemirror_mode": {
    "name": "ipython",
    "version": 3
   },
   "file_extension": ".py",
   "mimetype": "text/x-python",
   "name": "python",
   "nbconvert_exporter": "python",
   "pygments_lexer": "ipython3",
   "version": "3.9.7"
  }
 },
 "nbformat": 4,
 "nbformat_minor": 4
}
