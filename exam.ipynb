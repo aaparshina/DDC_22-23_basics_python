{
 "cells": [
  {
   "cell_type": "markdown",
   "id": "36bff9a9",
   "metadata": {},
   "source": [
    "# Основы прикладной математики и информатики\n",
    "\n",
    "# Экзамен | Python \n",
    "\n",
    "[Источник данных - Kaggle](https://www.kaggle.com/datasets/jarredpriester/california-wine-production-19802020)\n",
    "\n",
    "**Производство вин в Калифорнии 1980 - 2020 гг.**\n",
    "\n",
    "Данные содержат следующие признаки:\n",
    "\n",
    "* `Year` - Год\n",
    "* `County` - Округ, где произвели вино\n",
    "* `CountyCode` - Номер округа\n",
    "* `HarvestedAcres` - Собранные акры винограда\n",
    "* `Yield` - Урожайность на акр\n",
    "* `Production` - Произведенная продукция (в тоннах)\n",
    "* `Price` - Цена в далларах за тонну продукции\n",
    "\n",
    "Пользоваться можно всем, кроме помощи одногруппников. Время на экзамен -- 2 пары.  \n",
    "\n",
    "Файл надо загрузить по ссылке на Dropbox в виде ipynb-файла. *Получить ipynb-файл можно, выбрав в Jupyter пункт меню File → Download as → Notebook (.ipynb) или Файл → Скачать как → Notebook (.ipynb)*\n",
    "\n",
    "Грузить сюда: https://www.dropbox.com/request/z5Thz0xlKTq958EWyS4B"
   ]
  },
  {
   "cell_type": "code",
   "execution_count": 1,
   "id": "3d5e6a03",
   "metadata": {},
   "outputs": [
    {
     "data": {
      "text/html": [
       "<div>\n",
       "<style scoped>\n",
       "    .dataframe tbody tr th:only-of-type {\n",
       "        vertical-align: middle;\n",
       "    }\n",
       "\n",
       "    .dataframe tbody tr th {\n",
       "        vertical-align: top;\n",
       "    }\n",
       "\n",
       "    .dataframe thead th {\n",
       "        text-align: right;\n",
       "    }\n",
       "</style>\n",
       "<table border=\"1\" class=\"dataframe\">\n",
       "  <thead>\n",
       "    <tr style=\"text-align: right;\">\n",
       "      <th></th>\n",
       "      <th>Year</th>\n",
       "      <th>CountyCode</th>\n",
       "      <th>County</th>\n",
       "      <th>HarvestedAcres</th>\n",
       "      <th>Yield</th>\n",
       "      <th>Production</th>\n",
       "      <th>Price</th>\n",
       "    </tr>\n",
       "  </thead>\n",
       "  <tbody>\n",
       "    <tr>\n",
       "      <th>0</th>\n",
       "      <td>2020</td>\n",
       "      <td>1</td>\n",
       "      <td>Alameda</td>\n",
       "      <td>2530.0</td>\n",
       "      <td>5.14</td>\n",
       "      <td>13000.0</td>\n",
       "      <td>1497.69</td>\n",
       "    </tr>\n",
       "    <tr>\n",
       "      <th>1</th>\n",
       "      <td>2020</td>\n",
       "      <td>5</td>\n",
       "      <td>Amador</td>\n",
       "      <td>5360.0</td>\n",
       "      <td>2.31</td>\n",
       "      <td>12400.0</td>\n",
       "      <td>1318.31</td>\n",
       "    </tr>\n",
       "    <tr>\n",
       "      <th>2</th>\n",
       "      <td>2020</td>\n",
       "      <td>9</td>\n",
       "      <td>Calaveras</td>\n",
       "      <td>579.0</td>\n",
       "      <td>3.06</td>\n",
       "      <td>1770.0</td>\n",
       "      <td>1325.99</td>\n",
       "    </tr>\n",
       "    <tr>\n",
       "      <th>3</th>\n",
       "      <td>2020</td>\n",
       "      <td>11</td>\n",
       "      <td>Colusa</td>\n",
       "      <td>747.0</td>\n",
       "      <td>6.02</td>\n",
       "      <td>4500.0</td>\n",
       "      <td>684.67</td>\n",
       "    </tr>\n",
       "    <tr>\n",
       "      <th>4</th>\n",
       "      <td>2020</td>\n",
       "      <td>13</td>\n",
       "      <td>ContraCosta</td>\n",
       "      <td>1940.0</td>\n",
       "      <td>4.69</td>\n",
       "      <td>9090.0</td>\n",
       "      <td>751.27</td>\n",
       "    </tr>\n",
       "  </tbody>\n",
       "</table>\n",
       "</div>"
      ],
      "text/plain": [
       "   Year  CountyCode       County  HarvestedAcres  Yield  Production    Price\n",
       "0  2020           1      Alameda          2530.0   5.14     13000.0  1497.69\n",
       "1  2020           5       Amador          5360.0   2.31     12400.0  1318.31\n",
       "2  2020           9    Calaveras           579.0   3.06      1770.0  1325.99\n",
       "3  2020          11       Colusa           747.0   6.02      4500.0   684.67\n",
       "4  2020          13  ContraCosta          1940.0   4.69      9090.0   751.27"
      ]
     },
     "execution_count": 1,
     "metadata": {},
     "output_type": "execute_result"
    }
   ],
   "source": [
    "import pandas as pd\n",
    "import re\n",
    "import plotly.graph_objects as go\n",
    "from bs4 import BeautifulSoup\n",
    "\n",
    "data = pd.read_csv('https://raw.githubusercontent.com/aaparshina/DDC_22-23_basics_python/main/data/wine.csv')\n",
    "data.head()"
   ]
  },
  {
   "cell_type": "markdown",
   "id": "0bfbf683",
   "metadata": {},
   "source": [
    "## Часть 1. Работа с данными - фильтрация, сортировка, группировка, создание новых признаков"
   ]
  },
  {
   "cell_type": "markdown",
   "id": "0cf6c373",
   "metadata": {},
   "source": [
    "**1. *(0.25 балла)* Сколько всего округов, где производят вино? Сколько всего округов когда-либо производило больше 500 000 тонн продукции?**"
   ]
  },
  {
   "cell_type": "code",
   "execution_count": 1,
   "id": "682bbe47",
   "metadata": {},
   "outputs": [],
   "source": [
    "# your code here"
   ]
  },
  {
   "cell_type": "markdown",
   "id": "38ad0eb3",
   "metadata": {},
   "source": [
    "**2. *(0.25 балла)* Сравните производство округа Калаверас (Calaveras) в 2000 и 2020 годах. Верно ли, что цена за тонну продукции увеличилась на 325 долларов?**"
   ]
  },
  {
   "cell_type": "code",
   "execution_count": 2,
   "id": "05edf2bb",
   "metadata": {},
   "outputs": [],
   "source": [
    "# your code here"
   ]
  },
  {
   "cell_type": "markdown",
   "id": "99c16c47",
   "metadata": {},
   "source": [
    "**3. *(0.25 балла)* В каком году округ Колуса (Colusa) произвел наибольшее/наименьшее количество продукции?**"
   ]
  },
  {
   "cell_type": "code",
   "execution_count": 3,
   "id": "a3d517d7",
   "metadata": {},
   "outputs": [],
   "source": [
    "# your code here"
   ]
  },
  {
   "cell_type": "markdown",
   "id": "f25518f7",
   "metadata": {},
   "source": [
    "**4. *(0.5 балла)* Создайте столбец с выручкой окргуа (количество продукции в тоннах умножаем на цену за тонну). Какой округ заработал больше остальных в 1999 году?**"
   ]
  },
  {
   "cell_type": "code",
   "execution_count": 4,
   "id": "02aa3dd9",
   "metadata": {},
   "outputs": [],
   "source": [
    "# your code here"
   ]
  },
  {
   "cell_type": "markdown",
   "id": "c26a6bde",
   "metadata": {},
   "source": [
    "**5. *(0.5 балла)* Выберите только 1985 - 1989 года. Сгруппируйте данные по округу и году, посчитайте максимальную выручку. Выведите результат в виде таблицы. Какой округ начал производство только в 1990 году (ответ на вопрос запишите комментарием к коду)?**"
   ]
  },
  {
   "cell_type": "code",
   "execution_count": 5,
   "id": "bb8ed0be",
   "metadata": {},
   "outputs": [],
   "source": [
    "# your code here"
   ]
  },
  {
   "cell_type": "markdown",
   "id": "b227b2a6",
   "metadata": {},
   "source": [
    "## Часть 2. Меры центральной тенденции и меры разброса, корреляция"
   ]
  },
  {
   "cell_type": "markdown",
   "id": "a5d765c2",
   "metadata": {},
   "source": [
    "**6. *(0.25 балла)* Какова средняя урожайность на акр в 2020 году?**"
   ]
  },
  {
   "cell_type": "code",
   "execution_count": 6,
   "id": "b2a8ff1d",
   "metadata": {},
   "outputs": [],
   "source": [
    "# your code here"
   ]
  },
  {
   "cell_type": "markdown",
   "id": "18255b9e",
   "metadata": {},
   "source": [
    "**7. *(0.5 балла)* Выберите только 2015 год. Найдите выбросы по переменной, отвечающей за количество собранных акров винограда, используя межквартильный размах. Какие округи попадают в выбросы?**"
   ]
  },
  {
   "cell_type": "code",
   "execution_count": 7,
   "id": "627ad1ac",
   "metadata": {},
   "outputs": [],
   "source": [
    "# your code here"
   ]
  },
  {
   "cell_type": "markdown",
   "id": "444eda04",
   "metadata": {},
   "source": [
    "**8. *(0.25 балла)* Посчитайте среднее и медиану по цене за тонну до и после удаления выбросов (предыдущий пункт). Как изменились меры?**"
   ]
  },
  {
   "cell_type": "code",
   "execution_count": 8,
   "id": "4b53d0e9",
   "metadata": {},
   "outputs": [],
   "source": [
    "# your code here"
   ]
  },
  {
   "cell_type": "markdown",
   "id": "fa5ee478",
   "metadata": {},
   "source": [
    "**9. *(0.25 балла)* В каком году и каким округом было произведено максимальное/минимальное количество продукции?**"
   ]
  },
  {
   "cell_type": "code",
   "execution_count": 9,
   "id": "91908e72",
   "metadata": {},
   "outputs": [],
   "source": [
    "# your code here"
   ]
  },
  {
   "cell_type": "markdown",
   "id": "f8052885",
   "metadata": {},
   "source": [
    "**10. *(0.5 балла)* Выберите только 2020 год. Постройте корреляционную матрицу для урожайности на акр, произведенной продукции и цене за тонну. Прокомментируйте каждый коэффициент корреляции (укажите тип взаимосвязи и силу).**"
   ]
  },
  {
   "cell_type": "code",
   "execution_count": 10,
   "id": "4f63bc1e",
   "metadata": {},
   "outputs": [],
   "source": [
    "# your code here"
   ]
  },
  {
   "cell_type": "markdown",
   "id": "3835937f",
   "metadata": {},
   "source": [
    "**11. *(0.5 балла)* Верно ли, что округ Фресно (Fresno) с 1980 года стабильно производит продукцию больше медианного показателя?**"
   ]
  },
  {
   "cell_type": "code",
   "execution_count": 11,
   "id": "6be93c16",
   "metadata": {},
   "outputs": [],
   "source": [
    "# your code here"
   ]
  },
  {
   "cell_type": "markdown",
   "id": "7aa6fbe7",
   "metadata": {},
   "source": [
    "**12. *(0.5 балла)* В столбце Yield заполните пропущенные значения нулями. Затем создайте новый признак со значением 0 или 1, где 0 - урожайность ниже среднего значения, а 1 - урожайность выше среднего. Каких округов больше? Какой округ во все года попадал в категорию 0 (урожайность ниже среднего значения)?**"
   ]
  },
  {
   "cell_type": "code",
   "execution_count": 12,
   "id": "dc3185ef",
   "metadata": {},
   "outputs": [],
   "source": [
    "# your code here"
   ]
  },
  {
   "cell_type": "markdown",
   "id": "00477f0c",
   "metadata": {},
   "source": [
    "## Часть 3. Визуализация"
   ]
  },
  {
   "cell_type": "markdown",
   "id": "72d76a70",
   "metadata": {},
   "source": [
    "**13. *(1.5 балла)* Обратите внимание на округ Мерсед (Merced) и округ Сакраменто (Sacramento). Постройте линейный график, где по оси Х -- года, по оси Y -- количество произведенной продукции.**\n",
    "\n",
    "1. Cделайте по датафрейму для каждого округа.\n",
    "2. Используйте функцию Scatter(), где в качестве х укажите столбец с годами, а по у -- столбец с количеством произведенной продукции.\n",
    "3. Поменяйте цвета линий. Добавьте загловок, подпись осей. \n",
    "4. Подпишите каждую линию на графике, согласно тому, к какому округу она относится (обратите на параметр name).\n",
    "\n",
    "**С какого года производство в округе Сакраменто стало выше, чем в округе Мерсед?**"
   ]
  },
  {
   "cell_type": "code",
   "execution_count": 20,
   "id": "02800c35",
   "metadata": {},
   "outputs": [],
   "source": [
    "# your code here"
   ]
  },
  {
   "cell_type": "markdown",
   "id": "4036cf73",
   "metadata": {},
   "source": [
    "## Часть 4. Регулярные выражения\n"
   ]
  },
  {
   "cell_type": "markdown",
   "id": "fda58731",
   "metadata": {},
   "source": [
    "**14. *(2 балла)* Дан текст. Используйте регулярные выражения и вытащите из него следующую информацию:**\n",
    "\n",
    "1. Всех получателей\n",
    "2. Все даты\n",
    "3. Все дни недели\n",
    "4. ID сообщения (считаем, что ID -- это цифры после IIP и до \\, например, вот здесь `IIP112947503\\edu12>` ID -- `112947503`)"
   ]
  },
  {
   "cell_type": "code",
   "execution_count": 22,
   "id": "b2b887bd",
   "metadata": {},
   "outputs": [
    {
     "name": "stdout",
     "output_type": "stream",
     "text": [
      "Кому: iiivanow@hse.ru\n",
      "От: appetrov@edu.hse.ru\n",
      "ID письма: IIP112947503\\edu12>\n",
      "Дата: 14 ноября 2031, суббота\n",
      "Тема: О курсовой\n",
      "Кому: pskuplinov@edu.hse.ru\n",
      "От: agartamonov@edu.hse.ru\n",
      "ID письма: IIP688320451\\edu133>\n",
      "Дата: 3 марта 2011, пятница\n",
      "Тема: Важно! Работа над проектом\n",
      "Кому: spsmirnova@hse.ru\n",
      "От: aprokudin@hse.ru\n",
      "ID письма: IIP11357892\\edu178>\n",
      "Дата: 25 марта 2021, понедельник\n",
      "Тема: Зарплата скоро будет\n",
      "Кому: mwivanova@hse.ru\n",
      "От: resorokin@edu.hse.ru\n",
      "ID письма: IIP167210232\\edu178>\n",
      "Дата: 1 мая 2012, среда\n",
      "Тема: Спсибо за курс!\n",
      "\n"
     ]
    }
   ],
   "source": [
    "emails = \\\n",
    "'Кому: iiivanow@hse.ru\\n\\\n",
    "От: appetrov@edu.hse.ru\\n\\\n",
    "ID письма: IIP112947503\\edu12>\\n\\\n",
    "Дата: 14 ноября 2031, суббота\\n\\\n",
    "Тема: О курсовой\\n\\\n",
    "Кому: pskuplinov@edu.hse.ru\\n\\\n",
    "От: agartamonov@edu.hse.ru\\n\\\n",
    "ID письма: IIP688320451\\edu133>\\n\\\n",
    "Дата: 3 марта 2011, пятница\\n\\\n",
    "Тема: Важно! Работа над проектом\\n\\\n",
    "Кому: spsmirnova@hse.ru\\n\\\n",
    "От: aprokudin@hse.ru\\n\\\n",
    "ID письма: IIP11357892\\edu178>\\n\\\n",
    "Дата: 25 марта 2021, понедельник\\n\\\n",
    "Тема: Зарплата скоро будет\\n\\\n",
    "Кому: mwivanova@hse.ru\\n\\\n",
    "От: resorokin@edu.hse.ru\\n\\\n",
    "ID письма: IIP167210232\\edu178>\\n\\\n",
    "Дата: 1 мая 2012, среда\\n\\\n",
    "Тема: Спсибо за курс!\\n\\\n",
    "'\n",
    "print(emails)"
   ]
  },
  {
   "cell_type": "code",
   "execution_count": 13,
   "id": "aead9547",
   "metadata": {},
   "outputs": [],
   "source": [
    "# your code here"
   ]
  },
  {
   "cell_type": "markdown",
   "id": "242a3d82",
   "metadata": {},
   "source": [
    "## Часть 5. Работа с html\n",
    "\n",
    "**15. *(2 балла)* Дан кусочек кода страницы сайта ювелирного магазина. Вытащите из него следующую информацию:**\n",
    "\n",
    "1. Ссылки на ювелирные изделия (получится только кусочек; чтобы это была полноценная ссылка добавьте к ней `https://miuz.ru`)\n",
    "2. Название изделия \n",
    "3. Старую и новую цены на изделия\n",
    "\n",
    "**Результаты соберите в таблицу. Назовите колонки. Сохраните получившиеся данные.**"
   ]
  },
  {
   "cell_type": "code",
   "execution_count": 27,
   "id": "771e2bf6",
   "metadata": {},
   "outputs": [
    {
     "name": "stdout",
     "output_type": "stream",
     "text": [
      "<html>\n",
      " <body>\n",
      "  <div bis_skin_checked=\"1\" class=\"product\" style=\"position: absolute; left: 0px; top: 0px;\">\n",
      "   <a data-href=\"/catalog/rings/R2020-1010595-BT/\" href=\"/catalog/rings/R2020-1010595-BT/\" onclick=\"\" title=\"Кольцо c топазом\">\n",
      "   </a>\n",
      "   <div bis_skin_checked=\"1\" class=\"product__price-discount\">\n",
      "    50%\n",
      "   </div>\n",
      "   <div bis_skin_checked=\"1\" class=\"product__price-old\">\n",
      "    34 270\n",
      "   </div>\n",
      "   <div bis_skin_checked=\"1\" class=\"product__price-new\">\n",
      "    <sup>\n",
      "     от\n",
      "    </sup>\n",
      "    <span class=\"product__price-val\">\n",
      "     17 135\n",
      "    </span>\n",
      "    <span class=\"rub\">\n",
      "    </span>\n",
      "   </div>\n",
      "  </div>\n",
      "  <div bis_skin_checked=\"1\" class=\"product\" style=\"position: absolute; left: 328.937px; top: 0px;\">\n",
      "   <a data-href=\"/catalog/bracelets/B157-KJB539/\" href=\"/catalog/bracelets/B157-KJB539/\" onclick=\"\" title=\"Браслет c бриллиантами\">\n",
      "   </a>\n",
      "   <div bis_skin_checked=\"1\" class=\"product__price-discount\">\n",
      "    40%\n",
      "   </div>\n",
      "   <div bis_skin_checked=\"1\" class=\"product__price-old\">\n",
      "    135 990\n",
      "   </div>\n",
      "   <div bis_skin_checked=\"1\" class=\"product__price-new\">\n",
      "    <sup>\n",
      "     от\n",
      "    </sup>\n",
      "    <span class=\"product__price-val\">\n",
      "     81 594\n",
      "    </span>\n",
      "    <span class=\"rub\">\n",
      "    </span>\n",
      "   </div>\n",
      "  </div>\n",
      "  <div bis_skin_checked=\"1\" class=\"product\" style=\"position: absolute; left: 0px; top: 4934.06px;\">\n",
      "   <a data-href=\"/catalog/earrings/E01-SS-35454-EM/\" href=\"/catalog/earrings/E01-SS-35454-EM/\" onclick=\"\" title=\"Серьги c бриллиантами и изумрудами\">\n",
      "   </a>\n",
      "   <div bis_skin_checked=\"1\" class=\"product__price-discount\">\n",
      "    50%\n",
      "   </div>\n",
      "   <div bis_skin_checked=\"1\" class=\"product__price-old\">\n",
      "    78 990\n",
      "   </div>\n",
      "   <div bis_skin_checked=\"1\" class=\"product__price-new\">\n",
      "    <sup>\n",
      "     от\n",
      "    </sup>\n",
      "    <span class=\"product__price-val\">\n",
      "     39 495\n",
      "    </span>\n",
      "    <span class=\"rub\">\n",
      "    </span>\n",
      "   </div>\n",
      "  </div>\n",
      " </body>\n",
      "</html>\n"
     ]
    }
   ],
   "source": [
    "soup = BeautifulSoup(\n",
    "    '''\n",
    "    <div class=\"product\" style=\"position: absolute; left: 0px; top: 0px;\" bis_skin_checked=\"1\">\\\n",
    "    <a title=\"Кольцо c топазом\" data-href=\"/catalog/rings/R2020-1010595-BT/\" href=\"/catalog/rings/R2020-1010595-BT/\" onclick=\"\"></a>\\\n",
    "    <div class=\"product__price-discount\" bis_skin_checked=\"1\">50%</div>\\\n",
    "    <div class=\"product__price-old\" bis_skin_checked=\"1\">34 270</div>\\\n",
    "    <div class=\"product__price-new\" bis_skin_checked=\"1\"><sup>от</sup><span class=\"product__price-val\">17 135</span><span class=\"rub\"></span></div></div>\\\n",
    "    <div class=\"product\" style=\"position: absolute; left: 328.937px; top: 0px;\" bis_skin_checked=\"1\">\\\n",
    "    <a title=\"Браслет c бриллиантами\" data-href=\"/catalog/bracelets/B157-KJB539/\" href=\"/catalog/bracelets/B157-KJB539/\" onclick=\"\"></a>\\\n",
    "    <div class=\"product__price-discount\" bis_skin_checked=\"1\">40%</div>\\\n",
    "    <div class=\"product__price-old\" bis_skin_checked=\"1\">135 990</div>\\\n",
    "    <div class=\"product__price-new\" bis_skin_checked=\"1\"><sup>от</sup><span class=\"product__price-val\">81 594</span><span class=\"rub\"></span></div></div>\\\n",
    "    <div class=\"product\" style=\"position: absolute; left: 0px; top: 4934.06px;\" bis_skin_checked=\"1\">\\\n",
    "    <a title=\"Серьги c бриллиантами и изумрудами\" data-href=\"/catalog/earrings/E01-SS-35454-EM/\" href=\"/catalog/earrings/E01-SS-35454-EM/\" onclick=\"\"></a>\\\n",
    "    <div class=\"product__price-discount\" bis_skin_checked=\"1\">50%</div>\\\n",
    "    <div class=\"product__price-old\" bis_skin_checked=\"1\">78 990</div>\\\n",
    "    <div class=\"product__price-new\" bis_skin_checked=\"1\"><sup>от</sup><span class=\"product__price-val\">39 495</span><span class=\"rub\"></span></div></div>\n",
    "    '''\n",
    ")\n",
    "print(soup.prettify())"
   ]
  },
  {
   "cell_type": "code",
   "execution_count": 14,
   "id": "ecb97cf8",
   "metadata": {},
   "outputs": [],
   "source": [
    "# your code here"
   ]
  }
 ],
 "metadata": {
  "kernelspec": {
   "display_name": "Python 3 (ipykernel)",
   "language": "python",
   "name": "python3"
  },
  "language_info": {
   "codemirror_mode": {
    "name": "ipython",
    "version": 3
   },
   "file_extension": ".py",
   "mimetype": "text/x-python",
   "name": "python",
   "nbconvert_exporter": "python",
   "pygments_lexer": "ipython3",
   "version": "3.9.7"
  }
 },
 "nbformat": 4,
 "nbformat_minor": 5
}
