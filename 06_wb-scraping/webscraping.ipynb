{
 "cells": [
  {
   "cell_type": "markdown",
   "metadata": {},
   "source": [
    "# Основы программирования в Python\n",
    "\n",
    "*Автор: Анастасия Паршина, НИУ ВШЭ*  \n",
    "\n",
    "## Web-scraping: скрэйпинг сайта с книжками"
   ]
  },
  {
   "cell_type": "code",
   "execution_count": 2,
   "metadata": {},
   "outputs": [],
   "source": [
    "import requests\n",
    "from bs4 import BeautifulSoup \n",
    "from time import sleep\n",
    "import pandas as pd"
   ]
  },
  {
   "cell_type": "markdown",
   "metadata": {},
   "source": [
    "Дана ссылка на первую страницу [каталога книжных новинок](http://www.biblio-globus.ru/search/catalog/products?query=Python&page=1). Соберите информацию о книгах с первых пяти страниц. Если присмотреться, то ссылки на страницы выгядят похоже: \n",
    "\n",
    "    http://www.biblio-globus.ru/search/catalog/products?query=Python&page=1\n",
    "    http://www.biblio-globus.ru/search/catalog/products?query=Python&page=2\n",
    "    http://www.biblio-globus.ru/search/catalog/products?query=Python&page=3\n",
    "    \n",
    "Значит, мы можем сгенерировать необходимые ссылки сами. В таком случае чтобы узнать конечную страницу, нужно будет не нее перейти и посмотреть номер. Что, конечно не супер автоматизировано, но так мы точно не ошибемся. "
   ]
  },
  {
   "cell_type": "code",
   "execution_count": 3,
   "metadata": {},
   "outputs": [
    {
     "data": {
      "text/plain": [
       "['http://www.biblio-globus.ru/search/catalog/products?query=Python&page=1',\n",
       " 'http://www.biblio-globus.ru/search/catalog/products?query=Python&page=2',\n",
       " 'http://www.biblio-globus.ru/search/catalog/products?query=Python&page=3',\n",
       " 'http://www.biblio-globus.ru/search/catalog/products?query=Python&page=4',\n",
       " 'http://www.biblio-globus.ru/search/catalog/products?query=Python&page=5']"
      ]
     },
     "execution_count": 3,
     "metadata": {},
     "output_type": "execute_result"
    }
   ],
   "source": [
    "urls = []\n",
    "\n",
    "for i in range(1, 6):\n",
    "    urls.append(f'http://www.biblio-globus.ru/search/catalog/products?query=Python&page={i}')\n",
    "    \n",
    "urls"
   ]
  },
  {
   "cell_type": "markdown",
   "metadata": {},
   "source": [
    "Другой вариант действий: в коде страницы есть ссыка на \"Следующую\" страницу. Можно собирать именно их *до тех пор, пока* они не закончатся (тут вам в помощь цикл `while`).\n",
    "\n",
    "Разберем все на примере одной страницы. "
   ]
  },
  {
   "cell_type": "code",
   "execution_count": 4,
   "metadata": {},
   "outputs": [],
   "source": [
    "page = requests.get(urls[0])\n",
    "soup = BeautifulSoup(page.text)"
   ]
  },
  {
   "cell_type": "markdown",
   "metadata": {},
   "source": [
    "Заберем ссылки на все книжки на странице. "
   ]
  },
  {
   "cell_type": "code",
   "execution_count": 5,
   "metadata": {},
   "outputs": [
    {
     "data": {
      "text/plain": [
       "['http://www.biblio-globus.ru/search/catalog/details/10839595',\n",
       " 'http://www.biblio-globus.ru/search/catalog/details/10841699',\n",
       " 'http://www.biblio-globus.ru/search/catalog/details/10224348',\n",
       " 'http://www.biblio-globus.ru/search/catalog/details/10776656',\n",
       " 'http://www.biblio-globus.ru/search/catalog/details/10483871',\n",
       " 'http://www.biblio-globus.ru/search/catalog/details/10577094',\n",
       " 'http://www.biblio-globus.ru/search/catalog/details/10569801',\n",
       " 'http://www.biblio-globus.ru/search/catalog/details/10835402',\n",
       " 'http://www.biblio-globus.ru/search/catalog/details/10788303',\n",
       " 'http://www.biblio-globus.ru/search/catalog/details/10829190']"
      ]
     },
     "execution_count": 5,
     "metadata": {},
     "output_type": "execute_result"
    }
   ],
   "source": [
    "urls_books = ['http://www.biblio-globus.ru' + i.get('href') \\\n",
    "              for i in soup.find_all('a', attrs = {'class':'name'})]\n",
    "urls_books"
   ]
  },
  {
   "cell_type": "markdown",
   "metadata": {},
   "source": [
    "Посмотрим на одну книжку: "
   ]
  },
  {
   "cell_type": "code",
   "execution_count": 6,
   "metadata": {},
   "outputs": [],
   "source": [
    "url0 = urls_books[0]\n",
    "page0 = requests.get(url0)\n",
    "soup0 = BeautifulSoup(page0.text)"
   ]
  },
  {
   "cell_type": "markdown",
   "metadata": {},
   "source": [
    "Найдем основную информацию со страницы"
   ]
  },
  {
   "cell_type": "code",
   "execution_count": 7,
   "metadata": {},
   "outputs": [
    {
     "data": {
      "text/plain": [
       "'Голиков Д. В.'"
      ]
     },
     "execution_count": 7,
     "metadata": {},
     "output_type": "execute_result"
    }
   ],
   "source": [
    "author = soup0.find_all('div', attrs = {'class' : 'details_author'})[0].text\n",
    "author"
   ]
  },
  {
   "cell_type": "markdown",
   "metadata": {},
   "source": [
    "Выше мы ищем тег `div`, при этом уточним, что у этого тега есть атрибут `class` со значением `details_author`."
   ]
  },
  {
   "cell_type": "code",
   "execution_count": 8,
   "metadata": {},
   "outputs": [
    {
     "data": {
      "text/plain": [
       "'Python для юных программистов'"
      ]
     },
     "execution_count": 8,
     "metadata": {},
     "output_type": "execute_result"
    }
   ],
   "source": [
    "title = soup0.find_all('div', attrs = {'class' : 'details_name'})[0].text\n",
    "title"
   ]
  },
  {
   "cell_type": "markdown",
   "metadata": {},
   "source": [
    "Обратим внимание на статус - \"В наличии\". Кусочек кода выглядит так:\n",
    "\n",
    "    <div class=\"title_data green_card\" style=\"font-size:12px !important;\">В наличии</div>\n",
    "    \n",
    "НО! Есть книжки, которых нет в наличии. И у них эта же часть выглядит так: \n",
    "\n",
    "    <div class=\"title_data grey_card\" style=\"font-size:12px !important;\">Под заказ</div>\n",
    "    \n",
    "В таком случае у атрибута `class` два значения. Нас интересует то, которое универсальное, то есть `title_data`."
   ]
  },
  {
   "cell_type": "code",
   "execution_count": 9,
   "metadata": {},
   "outputs": [
    {
     "data": {
      "text/plain": [
       "'В наличии'"
      ]
     },
     "execution_count": 9,
     "metadata": {},
     "output_type": "execute_result"
    }
   ],
   "source": [
    "status = soup0.find_all('div', attrs = {'class' : 'title_data'})[0].text.strip()\n",
    "status"
   ]
  },
  {
   "cell_type": "markdown",
   "metadata": {},
   "source": [
    "Можно также посмотреть на расположение книжки в магазине (опять же в коде нужно будет потом учитывать, что не все книжки есть в наличии)."
   ]
  },
  {
   "cell_type": "code",
   "execution_count": 10,
   "metadata": {},
   "outputs": [
    {
     "data": {
      "text/plain": [
       "['', 'Зал № 7', 'секция: 8', 'шкаф: 76', 'полка: 6', 'уровень: 1', '']"
      ]
     },
     "execution_count": 10,
     "metadata": {},
     "output_type": "execute_result"
    }
   ],
   "source": [
    "L = soup0.find_all('ul')[0].text.split('\\n')\n",
    "L"
   ]
  },
  {
   "cell_type": "code",
   "execution_count": 12,
   "metadata": {},
   "outputs": [
    {
     "data": {
      "text/plain": [
       "{'зал': '7', 'секция': '8', 'шкаф': '76', 'полка': '6', 'уровень': '1'}"
      ]
     },
     "execution_count": 12,
     "metadata": {},
     "output_type": "execute_result"
    }
   ],
   "source": [
    "Data = {}\n",
    "\n",
    "for i in L:\n",
    "    if len(i) != 0:\n",
    "        if ':' in i:\n",
    "            Data[i.split(':')[0]] = i.split(':')[1].strip()\n",
    "        else:\n",
    "            Data[i.split()[0].lower()] = i.split()[2]\n",
    "Data"
   ]
  },
  {
   "cell_type": "markdown",
   "metadata": {},
   "source": [
    "Можно также попробовать вытащить аннотацию."
   ]
  },
  {
   "cell_type": "code",
   "execution_count": 13,
   "metadata": {},
   "outputs": [
    {
     "data": {
      "text/plain": [
       "'Книга написана на основе опыта обучения программированию на языке Python в кружке юных программистов и протестирована на детях 7–12 лет. Материал рассчитан на самостоятельное, без помощи взрослых, изучение основ Python школьниками 2–5 классов, имеющими базовые навыки управления компьютером. Процесс создания программ дан пошагово со скриншотами. При создании первых программ дети не пишут код, а собирают программу из разноцветных блоков, как в Scratch, затем превращают ее в код и вносят в него небольшие правки. Дети научатся программировать черепашку для рисования узоров, а также создавать постройки, управлять персонажами и дронами в Minecraft. В процессе игрового обучения дети узнают о типах данных, операторах, циклах, списках, функциях и других элементах языка Python.'"
      ]
     },
     "execution_count": 13,
     "metadata": {},
     "output_type": "execute_result"
    }
   ],
   "source": [
    "ann = soup0.find_all('div', attrs = {'class' : 'details_additional_info'})[0].text\n",
    "ann"
   ]
  },
  {
   "cell_type": "markdown",
   "metadata": {},
   "source": [
    "Вроде бы все хорошо, однако на паре мы наткнулись на случаи, когда по такому запросу `'div', attrs = {'class' : 'details_additional_info'}` выдается не аннотация, а любая другая дополнительная информация. Поэтому в итоговом коде мы добавим условие на длину выдачи (считаем, что в аннотации больше 50 смиволов). "
   ]
  },
  {
   "cell_type": "code",
   "execution_count": 14,
   "metadata": {},
   "outputs": [],
   "source": [
    "def GetBookInfo(url0):\n",
    "    page0 = requests.get(url0)\n",
    "    soup0 = BeautifulSoup(page0.text)\n",
    "    \n",
    "    author = soup0.find_all('div', {'class':'details_author'}) # а еще у нас автор может быть указан не всегда\n",
    "    \n",
    "    if len(author) == 0:\n",
    "        author = 'Автора нет'\n",
    "    else:\n",
    "        author = author[0].text\n",
    "        \n",
    "    name = soup0.find_all('div', {'class':'details_name'})[0].text\n",
    "    status = soup0.find_all('div', {'class' : 'title_data'})[0].text.strip()\n",
    "    price = float(soup0.find_all('div', {'class':'details_price'})[0].text.strip().split()[0].replace(',', '.'))\n",
    "    \n",
    "    if status == 'В наличии':\n",
    "        L = soup0.find_all('ul')[0].text.split('\\n')\n",
    "        Data = {}\n",
    "\n",
    "        for i in L:\n",
    "            if len(i) != 0:\n",
    "                if ':' in i:\n",
    "                    Data[i.split(':')[0]] = i.split(':')[1].strip()\n",
    "                else:\n",
    "                    Data[i.split()[0].lower()] = i.split()[2]\n",
    "                    \n",
    "    else:\n",
    "        Data = 'Нет в наличии'\n",
    "    \n",
    "    ann = soup0.find_all('div', attrs = {'class' : 'details_additional_info'})\n",
    "    \n",
    "    for i in ann:\n",
    "        if len(i.text) < 50:\n",
    "            pass\n",
    "        else:\n",
    "            ann = i.text\n",
    "        \n",
    "    return url0, author, name, status, price, Data, ann"
   ]
  },
  {
   "cell_type": "markdown",
   "metadata": {},
   "source": [
    "Пробуем нашу функцию применить. "
   ]
  },
  {
   "cell_type": "code",
   "execution_count": 15,
   "metadata": {},
   "outputs": [
    {
     "name": "stdout",
     "output_type": "stream",
     "text": [
      "http://www.biblio-globus.ru/search/catalog/details/10839595\n",
      "http://www.biblio-globus.ru/search/catalog/details/10841699\n",
      "http://www.biblio-globus.ru/search/catalog/details/10224348\n",
      "http://www.biblio-globus.ru/search/catalog/details/10776656\n",
      "http://www.biblio-globus.ru/search/catalog/details/10483871\n",
      "http://www.biblio-globus.ru/search/catalog/details/10577094\n",
      "http://www.biblio-globus.ru/search/catalog/details/10569801\n",
      "http://www.biblio-globus.ru/search/catalog/details/10835402\n",
      "http://www.biblio-globus.ru/search/catalog/details/10788303\n",
      "http://www.biblio-globus.ru/search/catalog/details/10829190\n",
      "http://www.biblio-globus.ru/search/catalog/details/10823441\n",
      "http://www.biblio-globus.ru/search/catalog/details/10410028\n",
      "http://www.biblio-globus.ru/search/catalog/details/10831874\n",
      "http://www.biblio-globus.ru/search/catalog/details/10829080\n",
      "http://www.biblio-globus.ru/search/catalog/details/10825928\n",
      "http://www.biblio-globus.ru/search/catalog/details/10822253\n",
      "http://www.biblio-globus.ru/search/catalog/details/10814641\n",
      "http://www.biblio-globus.ru/search/catalog/details/10741997\n",
      "http://www.biblio-globus.ru/search/catalog/details/10736311\n",
      "http://www.biblio-globus.ru/search/catalog/details/10655158\n",
      "http://www.biblio-globus.ru/search/catalog/details/10499950\n",
      "http://www.biblio-globus.ru/search/catalog/details/10483979\n",
      "http://www.biblio-globus.ru/search/catalog/details/10399903\n",
      "http://www.biblio-globus.ru/search/catalog/details/10835400\n",
      "http://www.biblio-globus.ru/search/catalog/details/10814639\n",
      "http://www.biblio-globus.ru/search/catalog/details/10796619\n",
      "http://www.biblio-globus.ru/search/catalog/details/10790837\n",
      "http://www.biblio-globus.ru/search/catalog/details/10760199\n",
      "http://www.biblio-globus.ru/search/catalog/details/10754289\n",
      "http://www.biblio-globus.ru/search/catalog/details/10720510\n",
      "http://www.biblio-globus.ru/search/catalog/details/10713630\n",
      "http://www.biblio-globus.ru/search/catalog/details/10655159\n",
      "http://www.biblio-globus.ru/search/catalog/details/10548788\n",
      "http://www.biblio-globus.ru/search/catalog/details/10569978\n",
      "http://www.biblio-globus.ru/search/catalog/details/10575345\n",
      "http://www.biblio-globus.ru/search/catalog/details/10645085\n",
      "http://www.biblio-globus.ru/search/catalog/details/10375126\n",
      "http://www.biblio-globus.ru/search/catalog/details/10478925\n",
      "http://www.biblio-globus.ru/search/catalog/details/10493284\n",
      "http://www.biblio-globus.ru/search/catalog/details/10526544\n",
      "http://www.biblio-globus.ru/search/catalog/details/10634386\n",
      "http://www.biblio-globus.ru/search/catalog/details/10632642\n",
      "http://www.biblio-globus.ru/search/catalog/details/10597875\n",
      "http://www.biblio-globus.ru/search/catalog/details/10824408\n",
      "http://www.biblio-globus.ru/search/catalog/details/10831746\n",
      "http://www.biblio-globus.ru/search/catalog/details/10831877\n",
      "http://www.biblio-globus.ru/search/catalog/details/10780215\n",
      "http://www.biblio-globus.ru/search/catalog/details/10790574\n",
      "http://www.biblio-globus.ru/search/catalog/details/10809176\n",
      "http://www.biblio-globus.ru/search/catalog/details/10817522\n"
     ]
    }
   ],
   "source": [
    "books = []\n",
    "for u in urls[:5]:\n",
    "    page0 = requests.get(u)\n",
    "    soup0 = BeautifulSoup(page0.text)\n",
    "    sleep(1)\n",
    "    books_urls = ['http://www.biblio-globus.ru' + i.get('href') \\\n",
    "                  for i in soup0.find_all('a', {'class':'name'})]\n",
    "    \n",
    "    for i in books_urls:\n",
    "        print(i) # печатаем ссылки, что просто понимать, что у нас ничего не сломалось и все работает \n",
    "        res = GetBookInfo(i)\n",
    "        books.append(res)\n",
    "        sleep(1)"
   ]
  },
  {
   "cell_type": "code",
   "execution_count": 17,
   "metadata": {},
   "outputs": [
    {
     "data": {
      "text/html": [
       "<div>\n",
       "<style scoped>\n",
       "    .dataframe tbody tr th:only-of-type {\n",
       "        vertical-align: middle;\n",
       "    }\n",
       "\n",
       "    .dataframe tbody tr th {\n",
       "        vertical-align: top;\n",
       "    }\n",
       "\n",
       "    .dataframe thead th {\n",
       "        text-align: right;\n",
       "    }\n",
       "</style>\n",
       "<table border=\"1\" class=\"dataframe\">\n",
       "  <thead>\n",
       "    <tr style=\"text-align: right;\">\n",
       "      <th></th>\n",
       "      <th>url</th>\n",
       "      <th>author</th>\n",
       "      <th>title</th>\n",
       "      <th>status</th>\n",
       "      <th>price</th>\n",
       "      <th>place</th>\n",
       "      <th>ann</th>\n",
       "    </tr>\n",
       "  </thead>\n",
       "  <tbody>\n",
       "    <tr>\n",
       "      <th>0</th>\n",
       "      <td>http://www.biblio-globus.ru/search/catalog/det...</td>\n",
       "      <td>Голиков Д. В.</td>\n",
       "      <td>Python для юных программистов</td>\n",
       "      <td>В наличии</td>\n",
       "      <td>1059.0</td>\n",
       "      <td>{'зал': '7', 'секция': '8', 'шкаф': '76', 'пол...</td>\n",
       "      <td>Книга написана на основе опыта обучения програ...</td>\n",
       "    </tr>\n",
       "    <tr>\n",
       "      <th>1</th>\n",
       "      <td>http://www.biblio-globus.ru/search/catalog/det...</td>\n",
       "      <td>Борзунов С. В.</td>\n",
       "      <td>Алгебра и геометрия с примерами на Python</td>\n",
       "      <td>В наличии</td>\n",
       "      <td>4689.0</td>\n",
       "      <td>{'зал': '7', 'секция': '8', 'шкаф': '76', 'пол...</td>\n",
       "      <td>Учебное пособие является современным введением...</td>\n",
       "    </tr>\n",
       "    <tr>\n",
       "      <th>2</th>\n",
       "      <td>http://www.biblio-globus.ru/search/catalog/det...</td>\n",
       "      <td>МакГрат М.</td>\n",
       "      <td>Программирование на Python для начинающих</td>\n",
       "      <td>В наличии</td>\n",
       "      <td>789.0</td>\n",
       "      <td>{'зал': '7', 'секция': '8', 'шкаф': '76', 'пол...</td>\n",
       "      <td>Книга \"Программирование на  Python для начинаю...</td>\n",
       "    </tr>\n",
       "    <tr>\n",
       "      <th>3</th>\n",
       "      <td>http://www.biblio-globus.ru/search/catalog/det...</td>\n",
       "      <td>Кольцов Д. М.</td>\n",
       "      <td>Справочник PYTHON.  Кратко, быстро, под рукой</td>\n",
       "      <td>В наличии</td>\n",
       "      <td>499.0</td>\n",
       "      <td>{'зал': '7', 'секция': '8', 'шкаф': '76', 'пол...</td>\n",
       "      <td>Данный справочник содержит всю ключевую информ...</td>\n",
       "    </tr>\n",
       "  </tbody>\n",
       "</table>\n",
       "</div>"
      ],
      "text/plain": [
       "                                                 url          author  \\\n",
       "0  http://www.biblio-globus.ru/search/catalog/det...   Голиков Д. В.   \n",
       "1  http://www.biblio-globus.ru/search/catalog/det...  Борзунов С. В.   \n",
       "2  http://www.biblio-globus.ru/search/catalog/det...      МакГрат М.   \n",
       "3  http://www.biblio-globus.ru/search/catalog/det...   Кольцов Д. М.   \n",
       "\n",
       "                                           title     status   price  \\\n",
       "0                  Python для юных программистов  В наличии  1059.0   \n",
       "1      Алгебра и геометрия с примерами на Python  В наличии  4689.0   \n",
       "2      Программирование на Python для начинающих  В наличии   789.0   \n",
       "3  Справочник PYTHON.  Кратко, быстро, под рукой  В наличии   499.0   \n",
       "\n",
       "                                               place  \\\n",
       "0  {'зал': '7', 'секция': '8', 'шкаф': '76', 'пол...   \n",
       "1  {'зал': '7', 'секция': '8', 'шкаф': '76', 'пол...   \n",
       "2  {'зал': '7', 'секция': '8', 'шкаф': '76', 'пол...   \n",
       "3  {'зал': '7', 'секция': '8', 'шкаф': '76', 'пол...   \n",
       "\n",
       "                                                 ann  \n",
       "0  Книга написана на основе опыта обучения програ...  \n",
       "1  Учебное пособие является современным введением...  \n",
       "2  Книга \"Программирование на  Python для начинаю...  \n",
       "3  Данный справочник содержит всю ключевую информ...  "
      ]
     },
     "execution_count": 17,
     "metadata": {},
     "output_type": "execute_result"
    }
   ],
   "source": [
    "df = pd.DataFrame(books)\n",
    "df.columns = ['url', 'author', 'title', 'status', 'price', 'place', 'ann']\n",
    "df.head(4)"
   ]
  },
  {
   "cell_type": "code",
   "execution_count": 18,
   "metadata": {},
   "outputs": [],
   "source": [
    "df.to_csv('books.csv')"
   ]
  }
 ],
 "metadata": {
  "kernelspec": {
   "display_name": "Python 3 (ipykernel)",
   "language": "python",
   "name": "python3"
  },
  "language_info": {
   "codemirror_mode": {
    "name": "ipython",
    "version": 3
   },
   "file_extension": ".py",
   "mimetype": "text/x-python",
   "name": "python",
   "nbconvert_exporter": "python",
   "pygments_lexer": "ipython3",
   "version": "3.9.7"
  }
 },
 "nbformat": 4,
 "nbformat_minor": 2
}
