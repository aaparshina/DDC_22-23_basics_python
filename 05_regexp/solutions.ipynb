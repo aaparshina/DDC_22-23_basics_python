{
 "cells": [
  {
   "cell_type": "markdown",
   "metadata": {},
   "source": [
    "# Python для автоматизации и анализа данных\n",
    "\n",
    "*Материалы взяты из курсов Тамбовцевой Аллы «Основы программирования в Python» и Рогович Татьяны «Python для исследователей».*"
   ]
  },
  {
   "cell_type": "code",
   "execution_count": 4,
   "metadata": {},
   "outputs": [],
   "source": [
    "import re"
   ]
  },
  {
   "cell_type": "markdown",
   "metadata": {},
   "source": [
    "## Часть 1: регулярные выражения"
   ]
  },
  {
   "cell_type": "markdown",
   "metadata": {},
   "source": [
    "## Задача 1\n",
    "\n",
    "Нужно достать имена и фамилии двумя объектами для каждого человека.\n",
    "\n",
    "    test_str = \"1NoahEmma2LiamOlivia3MasonSophia4JacobIsabella5WilliamAva6EthanMia7MichaelEmily\""
   ]
  },
  {
   "cell_type": "code",
   "execution_count": 42,
   "metadata": {},
   "outputs": [
    {
     "name": "stdout",
     "output_type": "stream",
     "text": [
      "[('Noah', 'Emma'), ('Liam', 'Olivia'), ('Mason', 'Sophia'), ('Jacob', 'Isabella'), ('William', 'Ava'), ('Ethan', 'Mia'), ('Michael', 'Emily')]\n"
     ]
    }
   ],
   "source": [
    "test_str = \"1NoahEmma2LiamOlivia3MasonSophia4JacobIsabella5WilliamAva6EthanMia7MichaelEmily\"\n",
    "\n",
    "print(re.findall(r'\\d([A-Z][a-z]+)([A-Z][a-z]+)', test_str))"
   ]
  },
  {
   "cell_type": "code",
   "execution_count": 43,
   "metadata": {},
   "outputs": [
    {
     "name": "stdout",
     "output_type": "stream",
     "text": [
      "['1N', '2L', '3M', '4J', '5W', '6E', '7M']\n"
     ]
    }
   ],
   "source": [
    "print(re.findall(r'\\d[A-Z]', test_str))"
   ]
  },
  {
   "cell_type": "code",
   "execution_count": 44,
   "metadata": {},
   "outputs": [
    {
     "name": "stdout",
     "output_type": "stream",
     "text": [
      "['1Noah', '2Liam', '3Mason', '4Jacob', '5William', '6Ethan', '7Michael']\n"
     ]
    }
   ],
   "source": [
    "print(re.findall(r'\\d[A-Z][a-z]+', test_str))"
   ]
  },
  {
   "cell_type": "code",
   "execution_count": 45,
   "metadata": {},
   "outputs": [
    {
     "name": "stdout",
     "output_type": "stream",
     "text": [
      "['Noah', 'Liam', 'Mason', 'Jacob', 'William', 'Ethan', 'Michael']\n"
     ]
    }
   ],
   "source": [
    "print(re.findall(r'\\d([A-Z][a-z]+)', test_str))"
   ]
  },
  {
   "cell_type": "code",
   "execution_count": 46,
   "metadata": {},
   "outputs": [
    {
     "name": "stdout",
     "output_type": "stream",
     "text": [
      "[('Noah', 'Emma'), ('Liam', 'Olivia'), ('Mason', 'Sophia'), ('Jacob', 'Isabella'), ('William', 'Ava'), ('Ethan', 'Mia'), ('Michael', 'Emily')]\n"
     ]
    }
   ],
   "source": [
    "print(re.findall(r'\\d([A-Z][a-z]+)([A-Z][a-z]+)', test_str))"
   ]
  },
  {
   "cell_type": "markdown",
   "metadata": {},
   "source": [
    "## Задача 2 \n",
    "\n",
    "На сайте нужно вывести сообщение, если пароль не валиден. Обычно пароль должен содержать не менее 8 символов, не менее одной заглавной буквы, не менее одной строчной буквы и, опционально, какой-то символ."
   ]
  },
  {
   "cell_type": "code",
   "execution_count": null,
   "metadata": {},
   "outputs": [],
   "source": [
    "passwordText = 'fbbE4,,,,,,'\n",
    "\n",
    "# Strength Checks\n",
    "charRegex = re.compile(r'(\\w{8,})')  # Не менее 8 символов (тут не считаются знаки препинания)\n",
    "lowerRegex = re.compile(r'[a-z]+') # Не менее 1 маленькой буквы\n",
    "upperRegex = re.compile(r'[A-Z]+')# Не менее 1 большой буквы\n",
    "digitRegex = re.compile(r'[0-9]+') # Не менее 1 цифры\n",
    "\n",
    "''' Сейчас мы их проверим...'''\n",
    "if charRegex.findall(passwordText) == []:  \n",
    "    print('Password must contain at least 8 characters')\n",
    "elif lowerRegex.findall(passwordText)==[]: \n",
    "    print('Password must contain at least one lowercase character')\n",
    "elif upperRegex.findall(passwordText)==[]: \n",
    "    print('Password must contain at least one uppercase character')\n",
    "elif digitRegex.findall(passwordText)==[]: \n",
    "    print('Password must contain at least one digit character')\n",
    "else:  \n",
    "    print('Your password is strong. Good job!')"
   ]
  },
  {
   "cell_type": "markdown",
   "metadata": {},
   "source": [
    "## Задача 3\n",
    "\n",
    "Нужно вывести только имена, записанные кириллицей\n",
    "\n",
    "    users = 'Василий Зайцев, Erwin König, Людмила Павличенко, Josef Allerberger, Matthäus Hetzenauer, Александр Башлачёв'\n"
   ]
  },
  {
   "cell_type": "code",
   "execution_count": 47,
   "metadata": {},
   "outputs": [
    {
     "name": "stdout",
     "output_type": "stream",
     "text": [
      "['Василий Зайцев', 'Людмила Павличенко', 'Александр Башлач']\n"
     ]
    }
   ],
   "source": [
    "users = 'Василий Зайцев, Erwin König, Людмила Павличенко, Josef Allerberger, Matthäus Hetzenauer, Александр Башлачёв'\n",
    "print(re.findall(r'[А-Я][а-я]+\\s[А-Я][а-я]+', users))"
   ]
  },
  {
   "cell_type": "markdown",
   "metadata": {},
   "source": [
    "## Часть 2: Сбор данных с помощью регулярных выражений из текстового файла\n",
    "\n",
    "Сначала посмотрим на имеющиеся данные файла `russian_emperors.txt`"
   ]
  },
  {
   "cell_type": "markdown",
   "metadata": {},
   "source": [
    "## Задача 1\n",
    "\n",
    "Загрузите файл `love_letters.txt`. Используя регулярные выражения, запишите в таблицу имя отправителя, имя получателя, соответствующие адреса почт, год написания, текст письма.  "
   ]
  },
  {
   "cell_type": "code",
   "execution_count": 10,
   "metadata": {},
   "outputs": [
    {
     "data": {
      "text/plain": [
       "['Отправитель: Джульетта (Juliet_13@gmail.com)',\n",
       " 'Получатель: Ромео (Romeo_forever@gmail.com)',\n",
       " 'Текст письма:',\n",
       " '===',\n",
       " 'Когда тебя не вижу две минуты,',\n",
       " 'То вечностью мне будет каждый миг…',\n",
       " 'Ромео в мысли и мечты мои проник,',\n",
       " 'И мне любви не пересилить путы.',\n",
       " '===',\n",
       " 'Дата отправления: 15 апреля 1594 г.',\n",
       " '',\n",
       " 'Отправитель: Татьяна Ларина (Larina_t@mail.ru)',\n",
       " 'Получатель: Евгений Онегин (lonelyEugene@yandex.ru)',\n",
       " 'Текст письма:',\n",
       " '===',\n",
       " 'Я к вам пишу – чего же боле?',\n",
       " 'Что я могу еще сказать?',\n",
       " 'Теперь, я знаю, в вашей воле',\n",
       " 'Меня презреньем наказать.',\n",
       " '===',\n",
       " 'Дата отправления: 20 января 1827 г.',\n",
       " '',\n",
       " 'Отправитель: Евгений Онегин (lonelyEugene@yandex.ru)',\n",
       " 'Получатель: Татьяна Ларина (Larina_t@mail.ru)',\n",
       " 'Текст письма:',\n",
       " '===',\n",
       " 'Случайно вас когда-то встретя,',\n",
       " 'В вас искру нежности заметя,',\n",
       " 'Я ей поверить не посмел:',\n",
       " 'Привычке милой не дал ходу;',\n",
       " 'Свою постылую свободу',\n",
       " 'Я потерять не захотел.',\n",
       " '===',\n",
       " 'Дата отправления: 2 октября 1830 г.',\n",
       " '',\n",
       " 'Отправитель: Фицуильям Дарси (Fitzwilliam_Dar@gmail.ru)',\n",
       " 'Получатель: Элизабет Беннет (Bennet_el@gmail.ru)',\n",
       " 'Текст письма:',\n",
       " '===',\n",
       " 'Сударыня, получив это письмо, не тревожьтесь, - оно не содержит ни повторного выражения тех чувств, ни возобновления тех предложений, которые вызвали у Вас вчера столь сильное неудовольствие.',\n",
       " '===',\n",
       " 'Дата отправления: 28 января 1797 г.',\n",
       " '',\n",
       " 'Отправитель: Хюррем (Roxolana@osm.tu)',\n",
       " 'Получатель: Сулейман (the_Great@osm.tu)',\n",
       " 'Текст письма:',\n",
       " '===',\n",
       " 'Если ты будешь улыбаться, буду улыбаться и я. И совсем не важно, увидишь ли ты мою улыбку или увижу я твою. Ведь важно не то, что мы видим. Куда важнее то, что мы чувствуем',\n",
       " '===',\n",
       " 'Дата отправления: 12 июня 1535 г.']"
      ]
     },
     "execution_count": 10,
     "metadata": {},
     "output_type": "execute_result"
    }
   ],
   "source": [
    "data = []\n",
    "with open('love_letters.txt', 'r', encoding = 'utf-8') as file:\n",
    "    for line in file:\n",
    "        data.append(line.strip())\n",
    "        \n",
    "data # нужно как-то преобразовать данные!"
   ]
  },
  {
   "cell_type": "code",
   "execution_count": 11,
   "metadata": {},
   "outputs": [
    {
     "data": {
      "text/plain": [
       "[['Отправитель: Джульетта (Juliet_13@gmail.com)',\n",
       "  'Получатель: Ромео (Romeo_forever@gmail.com)',\n",
       "  'Текст письма:',\n",
       "  '===',\n",
       "  'Когда тебя не вижу две минуты,',\n",
       "  'То вечностью мне будет каждый миг…',\n",
       "  'Ромео в мысли и мечты мои проник,',\n",
       "  'И мне любви не пересилить путы.',\n",
       "  '===',\n",
       "  'Дата отправления: 15 апреля 1594 г.'],\n",
       " ['Отправитель: Татьяна Ларина (Larina_t@mail.ru)',\n",
       "  'Получатель: Евгений Онегин (lonelyEugene@yandex.ru)',\n",
       "  'Текст письма:',\n",
       "  '===',\n",
       "  'Я к вам пишу – чего же боле?',\n",
       "  'Что я могу еще сказать?',\n",
       "  'Теперь, я знаю, в вашей воле',\n",
       "  'Меня презреньем наказать.',\n",
       "  '===',\n",
       "  'Дата отправления: 20 января 1827 г.'],\n",
       " ['Отправитель: Евгений Онегин (lonelyEugene@yandex.ru)',\n",
       "  'Получатель: Татьяна Ларина (Larina_t@mail.ru)',\n",
       "  'Текст письма:',\n",
       "  '===',\n",
       "  'Случайно вас когда-то встретя,',\n",
       "  'В вас искру нежности заметя,',\n",
       "  'Я ей поверить не посмел:',\n",
       "  'Привычке милой не дал ходу;',\n",
       "  'Свою постылую свободу',\n",
       "  'Я потерять не захотел.',\n",
       "  '===',\n",
       "  'Дата отправления: 2 октября 1830 г.'],\n",
       " ['Отправитель: Фицуильям Дарси (Fitzwilliam_Dar@gmail.ru)',\n",
       "  'Получатель: Элизабет Беннет (Bennet_el@gmail.ru)',\n",
       "  'Текст письма:',\n",
       "  '===',\n",
       "  'Сударыня, получив это письмо, не тревожьтесь, - оно не содержит ни повторного выражения тех чувств, ни возобновления тех предложений, которые вызвали у Вас вчера столь сильное неудовольствие.',\n",
       "  '===',\n",
       "  'Дата отправления: 28 января 1797 г.'],\n",
       " ['Отправитель: Хюррем (Roxolana@osm.tu)',\n",
       "  'Получатель: Сулейман (the_Great@osm.tu)',\n",
       "  'Текст письма:',\n",
       "  '===',\n",
       "  'Если ты будешь улыбаться, буду улыбаться и я. И совсем не важно, увидишь ли ты мою улыбку или увижу я твою. Ведь важно не то, что мы видим. Куда важнее то, что мы чувствуем',\n",
       "  '===',\n",
       "  'Дата отправления: 12 июня 1535 г.']]"
      ]
     },
     "execution_count": 11,
     "metadata": {},
     "output_type": "execute_result"
    }
   ],
   "source": [
    "new_data = [[]]\n",
    "for i in data:\n",
    "    if i == '':\n",
    "        new_data.append([])\n",
    "    else:\n",
    "        new_data[-1].append(i)\n",
    "new_data"
   ]
  },
  {
   "cell_type": "code",
   "execution_count": 12,
   "metadata": {},
   "outputs": [
    {
     "name": "stdout",
     "output_type": "stream",
     "text": [
      "Джульетта\n",
      "Ромео\n"
     ]
    }
   ],
   "source": [
    "name_from = re.findall(r': ([\\w\\s]+\\b)', new_data[0][0])[0]\n",
    "print(name_from)\n",
    "name_to = re.findall(r': ([\\w\\s]+\\b)', new_data[0][1])[0]\n",
    "print(name_to)"
   ]
  },
  {
   "cell_type": "code",
   "execution_count": 13,
   "metadata": {},
   "outputs": [
    {
     "name": "stdout",
     "output_type": "stream",
     "text": [
      "Juliet_13@gmail.com\n",
      "Romeo_forever@gmail.com\n"
     ]
    }
   ],
   "source": [
    "email_from = re.findall(r'\\((.+)\\)', new_data[0][0])[0]\n",
    "print(email_from)\n",
    "email_to = re.findall(r'\\((.+)\\)', new_data[0][1])[0]\n",
    "print(email_to)"
   ]
  },
  {
   "cell_type": "code",
   "execution_count": 14,
   "metadata": {},
   "outputs": [
    {
     "name": "stdout",
     "output_type": "stream",
     "text": [
      "[3, 8]\n"
     ]
    }
   ],
   "source": [
    "ind = [i for i in range(len(new_data[0])) if new_data[0][i] == '===']\n",
    "print(ind)"
   ]
  },
  {
   "cell_type": "code",
   "execution_count": 15,
   "metadata": {},
   "outputs": [
    {
     "name": "stdout",
     "output_type": "stream",
     "text": [
      "Когда тебя не вижу две минуты,\n",
      "То вечностью мне будет каждый миг…\n",
      "Ромео в мысли и мечты мои проник,\n",
      "И мне любви не пересилить путы.\n"
     ]
    }
   ],
   "source": [
    "text = new_data[0][ind[0]+1:ind[1]]\n",
    "print('\\n'.join(text))"
   ]
  },
  {
   "cell_type": "code",
   "execution_count": 16,
   "metadata": {},
   "outputs": [
    {
     "data": {
      "text/plain": [
       "['15 апреля 1594']"
      ]
     },
     "execution_count": 16,
     "metadata": {},
     "output_type": "execute_result"
    }
   ],
   "source": [
    "date = re.findall(r'\\d{1,2}\\s[а-я]+\\s\\d{4}', new_data[0][-1])\n",
    "date"
   ]
  },
  {
   "cell_type": "markdown",
   "metadata": {},
   "source": [
    "Создадим словарь `love_letters`, где ключом будет номер письма, а значением — список с необходимым нам данными."
   ]
  },
  {
   "cell_type": "code",
   "execution_count": 17,
   "metadata": {},
   "outputs": [],
   "source": [
    "love_letters = {}\n",
    "x = 1\n",
    "for i in new_data:\n",
    "    name_from = re.findall(r': ([\\w\\s]+\\b)', i[0])[0]\n",
    "    name_to = re.findall(r': ([\\w\\s]+\\b)', i[1])[0]\n",
    "    email_from = re.findall(r'\\((.+)\\)', i[0])[0]\n",
    "    email_to = re.findall(r'\\((.+)\\)', i[1])[0]\n",
    "\n",
    "    ind = [y for y in range(len(i)) if i[y] == '===']\n",
    "    text = ' '.join(i[ind[0]+1:ind[1]])\n",
    "    \n",
    "    date = re.findall(r'\\d{1,2}\\s[а-я]+\\s\\d{4}', i[-1])[0]\n",
    "    \n",
    "    love_letters[f'Письмо №{x}'] = [name_from, name_to, email_from, email_to, text, date]\n",
    "    \n",
    "    x += 1"
   ]
  },
  {
   "cell_type": "code",
   "execution_count": 18,
   "metadata": {},
   "outputs": [
    {
     "data": {
      "text/plain": [
       "{'Письмо №1': ['Джульетта',\n",
       "  'Ромео',\n",
       "  'Juliet_13@gmail.com',\n",
       "  'Romeo_forever@gmail.com',\n",
       "  'Когда тебя не вижу две минуты, То вечностью мне будет каждый миг… Ромео в мысли и мечты мои проник, И мне любви не пересилить путы.',\n",
       "  '15 апреля 1594'],\n",
       " 'Письмо №2': ['Татьяна Ларина',\n",
       "  'Евгений Онегин',\n",
       "  'Larina_t@mail.ru',\n",
       "  'lonelyEugene@yandex.ru',\n",
       "  'Я к вам пишу – чего же боле? Что я могу еще сказать? Теперь, я знаю, в вашей воле Меня презреньем наказать.',\n",
       "  '20 января 1827'],\n",
       " 'Письмо №3': ['Евгений Онегин',\n",
       "  'Татьяна Ларина',\n",
       "  'lonelyEugene@yandex.ru',\n",
       "  'Larina_t@mail.ru',\n",
       "  'Случайно вас когда-то встретя, В вас искру нежности заметя, Я ей поверить не посмел: Привычке милой не дал ходу; Свою постылую свободу Я потерять не захотел.',\n",
       "  '2 октября 1830'],\n",
       " 'Письмо №4': ['Фицуильям Дарси',\n",
       "  'Элизабет Беннет',\n",
       "  'Fitzwilliam_Dar@gmail.ru',\n",
       "  'Bennet_el@gmail.ru',\n",
       "  'Сударыня, получив это письмо, не тревожьтесь, - оно не содержит ни повторного выражения тех чувств, ни возобновления тех предложений, которые вызвали у Вас вчера столь сильное неудовольствие.',\n",
       "  '28 января 1797'],\n",
       " 'Письмо №5': ['Хюррем',\n",
       "  'Сулейман',\n",
       "  'Roxolana@osm.tu',\n",
       "  'the_Great@osm.tu',\n",
       "  'Если ты будешь улыбаться, буду улыбаться и я. И совсем не важно, увидишь ли ты мою улыбку или увижу я твою. Ведь важно не то, что мы видим. Куда важнее то, что мы чувствуем',\n",
       "  '12 июня 1535']}"
      ]
     },
     "execution_count": 18,
     "metadata": {},
     "output_type": "execute_result"
    }
   ],
   "source": [
    "love_letters"
   ]
  },
  {
   "cell_type": "code",
   "execution_count": 20,
   "metadata": {},
   "outputs": [],
   "source": [
    "import pandas as pd"
   ]
  },
  {
   "cell_type": "code",
   "execution_count": 21,
   "metadata": {},
   "outputs": [
    {
     "data": {
      "text/html": [
       "<div>\n",
       "<style scoped>\n",
       "    .dataframe tbody tr th:only-of-type {\n",
       "        vertical-align: middle;\n",
       "    }\n",
       "\n",
       "    .dataframe tbody tr th {\n",
       "        vertical-align: top;\n",
       "    }\n",
       "\n",
       "    .dataframe thead th {\n",
       "        text-align: right;\n",
       "    }\n",
       "</style>\n",
       "<table border=\"1\" class=\"dataframe\">\n",
       "  <thead>\n",
       "    <tr style=\"text-align: right;\">\n",
       "      <th></th>\n",
       "      <th>0</th>\n",
       "      <th>1</th>\n",
       "      <th>2</th>\n",
       "      <th>3</th>\n",
       "      <th>4</th>\n",
       "      <th>5</th>\n",
       "    </tr>\n",
       "  </thead>\n",
       "  <tbody>\n",
       "    <tr>\n",
       "      <th>Письмо №1</th>\n",
       "      <td>Джульетта</td>\n",
       "      <td>Ромео</td>\n",
       "      <td>Juliet_13@gmail.com</td>\n",
       "      <td>Romeo_forever@gmail.com</td>\n",
       "      <td>Когда тебя не вижу две минуты, То вечностью мн...</td>\n",
       "      <td>15 апреля 1594</td>\n",
       "    </tr>\n",
       "    <tr>\n",
       "      <th>Письмо №2</th>\n",
       "      <td>Татьяна Ларина</td>\n",
       "      <td>Евгений Онегин</td>\n",
       "      <td>Larina_t@mail.ru</td>\n",
       "      <td>lonelyEugene@yandex.ru</td>\n",
       "      <td>Я к вам пишу – чего же боле? Что я могу еще ск...</td>\n",
       "      <td>20 января 1827</td>\n",
       "    </tr>\n",
       "    <tr>\n",
       "      <th>Письмо №3</th>\n",
       "      <td>Евгений Онегин</td>\n",
       "      <td>Татьяна Ларина</td>\n",
       "      <td>lonelyEugene@yandex.ru</td>\n",
       "      <td>Larina_t@mail.ru</td>\n",
       "      <td>Случайно вас когда-то встретя, В вас искру неж...</td>\n",
       "      <td>2 октября 1830</td>\n",
       "    </tr>\n",
       "    <tr>\n",
       "      <th>Письмо №4</th>\n",
       "      <td>Фицуильям Дарси</td>\n",
       "      <td>Элизабет Беннет</td>\n",
       "      <td>Fitzwilliam_Dar@gmail.ru</td>\n",
       "      <td>Bennet_el@gmail.ru</td>\n",
       "      <td>Сударыня, получив это письмо, не тревожьтесь, ...</td>\n",
       "      <td>28 января 1797</td>\n",
       "    </tr>\n",
       "    <tr>\n",
       "      <th>Письмо №5</th>\n",
       "      <td>Хюррем</td>\n",
       "      <td>Сулейман</td>\n",
       "      <td>Roxolana@osm.tu</td>\n",
       "      <td>the_Great@osm.tu</td>\n",
       "      <td>Если ты будешь улыбаться, буду улыбаться и я. ...</td>\n",
       "      <td>12 июня 1535</td>\n",
       "    </tr>\n",
       "  </tbody>\n",
       "</table>\n",
       "</div>"
      ],
      "text/plain": [
       "                         0                1                         2  \\\n",
       "Письмо №1        Джульетта            Ромео       Juliet_13@gmail.com   \n",
       "Письмо №2   Татьяна Ларина   Евгений Онегин          Larina_t@mail.ru   \n",
       "Письмо №3   Евгений Онегин   Татьяна Ларина    lonelyEugene@yandex.ru   \n",
       "Письмо №4  Фицуильям Дарси  Элизабет Беннет  Fitzwilliam_Dar@gmail.ru   \n",
       "Письмо №5           Хюррем         Сулейман           Roxolana@osm.tu   \n",
       "\n",
       "                                 3  \\\n",
       "Письмо №1  Romeo_forever@gmail.com   \n",
       "Письмо №2   lonelyEugene@yandex.ru   \n",
       "Письмо №3         Larina_t@mail.ru   \n",
       "Письмо №4       Bennet_el@gmail.ru   \n",
       "Письмо №5         the_Great@osm.tu   \n",
       "\n",
       "                                                           4               5  \n",
       "Письмо №1  Когда тебя не вижу две минуты, То вечностью мн...  15 апреля 1594  \n",
       "Письмо №2  Я к вам пишу – чего же боле? Что я могу еще ск...  20 января 1827  \n",
       "Письмо №3  Случайно вас когда-то встретя, В вас искру неж...  2 октября 1830  \n",
       "Письмо №4  Сударыня, получив это письмо, не тревожьтесь, ...  28 января 1797  \n",
       "Письмо №5  Если ты будешь улыбаться, буду улыбаться и я. ...    12 июня 1535  "
      ]
     },
     "execution_count": 21,
     "metadata": {},
     "output_type": "execute_result"
    }
   ],
   "source": [
    "data_letters = pd.DataFrame.from_dict(love_letters).transpose()\n",
    "data_letters"
   ]
  },
  {
   "cell_type": "code",
   "execution_count": 22,
   "metadata": {},
   "outputs": [],
   "source": [
    "data_letters.columns = ['Отправитель', 'Получатель', 'Адрес отправителя', 'Адрес получателя', \n",
    "                        'Текст', 'Дата']"
   ]
  },
  {
   "cell_type": "code",
   "execution_count": 23,
   "metadata": {},
   "outputs": [
    {
     "data": {
      "text/html": [
       "<div>\n",
       "<style scoped>\n",
       "    .dataframe tbody tr th:only-of-type {\n",
       "        vertical-align: middle;\n",
       "    }\n",
       "\n",
       "    .dataframe tbody tr th {\n",
       "        vertical-align: top;\n",
       "    }\n",
       "\n",
       "    .dataframe thead th {\n",
       "        text-align: right;\n",
       "    }\n",
       "</style>\n",
       "<table border=\"1\" class=\"dataframe\">\n",
       "  <thead>\n",
       "    <tr style=\"text-align: right;\">\n",
       "      <th></th>\n",
       "      <th>Отправитель</th>\n",
       "      <th>Получатель</th>\n",
       "      <th>Адрес отправителя</th>\n",
       "      <th>Адрес получателя</th>\n",
       "      <th>Текст</th>\n",
       "      <th>Дата</th>\n",
       "    </tr>\n",
       "  </thead>\n",
       "  <tbody>\n",
       "    <tr>\n",
       "      <th>Письмо №1</th>\n",
       "      <td>Джульетта</td>\n",
       "      <td>Ромео</td>\n",
       "      <td>Juliet_13@gmail.com</td>\n",
       "      <td>Romeo_forever@gmail.com</td>\n",
       "      <td>Когда тебя не вижу две минуты, То вечностью мн...</td>\n",
       "      <td>15 апреля 1594</td>\n",
       "    </tr>\n",
       "    <tr>\n",
       "      <th>Письмо №2</th>\n",
       "      <td>Татьяна Ларина</td>\n",
       "      <td>Евгений Онегин</td>\n",
       "      <td>Larina_t@mail.ru</td>\n",
       "      <td>lonelyEugene@yandex.ru</td>\n",
       "      <td>Я к вам пишу – чего же боле? Что я могу еще ск...</td>\n",
       "      <td>20 января 1827</td>\n",
       "    </tr>\n",
       "    <tr>\n",
       "      <th>Письмо №3</th>\n",
       "      <td>Евгений Онегин</td>\n",
       "      <td>Татьяна Ларина</td>\n",
       "      <td>lonelyEugene@yandex.ru</td>\n",
       "      <td>Larina_t@mail.ru</td>\n",
       "      <td>Случайно вас когда-то встретя, В вас искру неж...</td>\n",
       "      <td>2 октября 1830</td>\n",
       "    </tr>\n",
       "    <tr>\n",
       "      <th>Письмо №4</th>\n",
       "      <td>Фицуильям Дарси</td>\n",
       "      <td>Элизабет Беннет</td>\n",
       "      <td>Fitzwilliam_Dar@gmail.ru</td>\n",
       "      <td>Bennet_el@gmail.ru</td>\n",
       "      <td>Сударыня, получив это письмо, не тревожьтесь, ...</td>\n",
       "      <td>28 января 1797</td>\n",
       "    </tr>\n",
       "    <tr>\n",
       "      <th>Письмо №5</th>\n",
       "      <td>Хюррем</td>\n",
       "      <td>Сулейман</td>\n",
       "      <td>Roxolana@osm.tu</td>\n",
       "      <td>the_Great@osm.tu</td>\n",
       "      <td>Если ты будешь улыбаться, буду улыбаться и я. ...</td>\n",
       "      <td>12 июня 1535</td>\n",
       "    </tr>\n",
       "  </tbody>\n",
       "</table>\n",
       "</div>"
      ],
      "text/plain": [
       "               Отправитель       Получатель         Адрес отправителя  \\\n",
       "Письмо №1        Джульетта            Ромео       Juliet_13@gmail.com   \n",
       "Письмо №2   Татьяна Ларина   Евгений Онегин          Larina_t@mail.ru   \n",
       "Письмо №3   Евгений Онегин   Татьяна Ларина    lonelyEugene@yandex.ru   \n",
       "Письмо №4  Фицуильям Дарси  Элизабет Беннет  Fitzwilliam_Dar@gmail.ru   \n",
       "Письмо №5           Хюррем         Сулейман           Roxolana@osm.tu   \n",
       "\n",
       "                  Адрес получателя  \\\n",
       "Письмо №1  Romeo_forever@gmail.com   \n",
       "Письмо №2   lonelyEugene@yandex.ru   \n",
       "Письмо №3         Larina_t@mail.ru   \n",
       "Письмо №4       Bennet_el@gmail.ru   \n",
       "Письмо №5         the_Great@osm.tu   \n",
       "\n",
       "                                                       Текст            Дата  \n",
       "Письмо №1  Когда тебя не вижу две минуты, То вечностью мн...  15 апреля 1594  \n",
       "Письмо №2  Я к вам пишу – чего же боле? Что я могу еще ск...  20 января 1827  \n",
       "Письмо №3  Случайно вас когда-то встретя, В вас искру неж...  2 октября 1830  \n",
       "Письмо №4  Сударыня, получив это письмо, не тревожьтесь, ...  28 января 1797  \n",
       "Письмо №5  Если ты будешь улыбаться, буду улыбаться и я. ...    12 июня 1535  "
      ]
     },
     "execution_count": 23,
     "metadata": {},
     "output_type": "execute_result"
    }
   ],
   "source": [
    "data_letters"
   ]
  },
  {
   "cell_type": "code",
   "execution_count": 24,
   "metadata": {},
   "outputs": [],
   "source": [
    "data_letters['Год'] = data_letters['Дата'].apply(lambda x: int(re.findall(r'\\d{4}', x)[0]))"
   ]
  },
  {
   "cell_type": "code",
   "execution_count": 25,
   "metadata": {},
   "outputs": [
    {
     "data": {
      "text/html": [
       "<div>\n",
       "<style scoped>\n",
       "    .dataframe tbody tr th:only-of-type {\n",
       "        vertical-align: middle;\n",
       "    }\n",
       "\n",
       "    .dataframe tbody tr th {\n",
       "        vertical-align: top;\n",
       "    }\n",
       "\n",
       "    .dataframe thead th {\n",
       "        text-align: right;\n",
       "    }\n",
       "</style>\n",
       "<table border=\"1\" class=\"dataframe\">\n",
       "  <thead>\n",
       "    <tr style=\"text-align: right;\">\n",
       "      <th></th>\n",
       "      <th>Отправитель</th>\n",
       "      <th>Получатель</th>\n",
       "      <th>Адрес отправителя</th>\n",
       "      <th>Адрес получателя</th>\n",
       "      <th>Текст</th>\n",
       "      <th>Дата</th>\n",
       "      <th>Год</th>\n",
       "    </tr>\n",
       "  </thead>\n",
       "  <tbody>\n",
       "    <tr>\n",
       "      <th>Письмо №5</th>\n",
       "      <td>Хюррем</td>\n",
       "      <td>Сулейман</td>\n",
       "      <td>Roxolana@osm.tu</td>\n",
       "      <td>the_Great@osm.tu</td>\n",
       "      <td>Если ты будешь улыбаться, буду улыбаться и я. ...</td>\n",
       "      <td>12 июня 1535</td>\n",
       "      <td>1535</td>\n",
       "    </tr>\n",
       "    <tr>\n",
       "      <th>Письмо №1</th>\n",
       "      <td>Джульетта</td>\n",
       "      <td>Ромео</td>\n",
       "      <td>Juliet_13@gmail.com</td>\n",
       "      <td>Romeo_forever@gmail.com</td>\n",
       "      <td>Когда тебя не вижу две минуты, То вечностью мн...</td>\n",
       "      <td>15 апреля 1594</td>\n",
       "      <td>1594</td>\n",
       "    </tr>\n",
       "    <tr>\n",
       "      <th>Письмо №4</th>\n",
       "      <td>Фицуильям Дарси</td>\n",
       "      <td>Элизабет Беннет</td>\n",
       "      <td>Fitzwilliam_Dar@gmail.ru</td>\n",
       "      <td>Bennet_el@gmail.ru</td>\n",
       "      <td>Сударыня, получив это письмо, не тревожьтесь, ...</td>\n",
       "      <td>28 января 1797</td>\n",
       "      <td>1797</td>\n",
       "    </tr>\n",
       "    <tr>\n",
       "      <th>Письмо №2</th>\n",
       "      <td>Татьяна Ларина</td>\n",
       "      <td>Евгений Онегин</td>\n",
       "      <td>Larina_t@mail.ru</td>\n",
       "      <td>lonelyEugene@yandex.ru</td>\n",
       "      <td>Я к вам пишу – чего же боле? Что я могу еще ск...</td>\n",
       "      <td>20 января 1827</td>\n",
       "      <td>1827</td>\n",
       "    </tr>\n",
       "    <tr>\n",
       "      <th>Письмо №3</th>\n",
       "      <td>Евгений Онегин</td>\n",
       "      <td>Татьяна Ларина</td>\n",
       "      <td>lonelyEugene@yandex.ru</td>\n",
       "      <td>Larina_t@mail.ru</td>\n",
       "      <td>Случайно вас когда-то встретя, В вас искру неж...</td>\n",
       "      <td>2 октября 1830</td>\n",
       "      <td>1830</td>\n",
       "    </tr>\n",
       "  </tbody>\n",
       "</table>\n",
       "</div>"
      ],
      "text/plain": [
       "               Отправитель       Получатель         Адрес отправителя  \\\n",
       "Письмо №5           Хюррем         Сулейман           Roxolana@osm.tu   \n",
       "Письмо №1        Джульетта            Ромео       Juliet_13@gmail.com   \n",
       "Письмо №4  Фицуильям Дарси  Элизабет Беннет  Fitzwilliam_Dar@gmail.ru   \n",
       "Письмо №2   Татьяна Ларина   Евгений Онегин          Larina_t@mail.ru   \n",
       "Письмо №3   Евгений Онегин   Татьяна Ларина    lonelyEugene@yandex.ru   \n",
       "\n",
       "                  Адрес получателя  \\\n",
       "Письмо №5         the_Great@osm.tu   \n",
       "Письмо №1  Romeo_forever@gmail.com   \n",
       "Письмо №4       Bennet_el@gmail.ru   \n",
       "Письмо №2   lonelyEugene@yandex.ru   \n",
       "Письмо №3         Larina_t@mail.ru   \n",
       "\n",
       "                                                       Текст            Дата  \\\n",
       "Письмо №5  Если ты будешь улыбаться, буду улыбаться и я. ...    12 июня 1535   \n",
       "Письмо №1  Когда тебя не вижу две минуты, То вечностью мн...  15 апреля 1594   \n",
       "Письмо №4  Сударыня, получив это письмо, не тревожьтесь, ...  28 января 1797   \n",
       "Письмо №2  Я к вам пишу – чего же боле? Что я могу еще ск...  20 января 1827   \n",
       "Письмо №3  Случайно вас когда-то встретя, В вас искру неж...  2 октября 1830   \n",
       "\n",
       "            Год  \n",
       "Письмо №5  1535  \n",
       "Письмо №1  1594  \n",
       "Письмо №4  1797  \n",
       "Письмо №2  1827  \n",
       "Письмо №3  1830  "
      ]
     },
     "execution_count": 25,
     "metadata": {},
     "output_type": "execute_result"
    }
   ],
   "source": [
    "data_letters.sort_values('Год')"
   ]
  }
 ],
 "metadata": {
  "kernelspec": {
   "display_name": "Python 3 (ipykernel)",
   "language": "python",
   "name": "python3"
  },
  "language_info": {
   "codemirror_mode": {
    "name": "ipython",
    "version": 3
   },
   "file_extension": ".py",
   "mimetype": "text/x-python",
   "name": "python",
   "nbconvert_exporter": "python",
   "pygments_lexer": "ipython3",
   "version": "3.9.7"
  }
 },
 "nbformat": 4,
 "nbformat_minor": 4
}
