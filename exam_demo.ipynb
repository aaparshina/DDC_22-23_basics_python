{
 "cells": [
  {
   "cell_type": "markdown",
   "id": "36bff9a9",
   "metadata": {},
   "source": [
    "# Основы прикладной математики и информатики\n",
    "\n",
    "# Экзамен | Демоверсия | Python \n",
    "\n",
    "[Источник данных - Kaggle](https://www.kaggle.com/datasets/narayan63/netflix-popular-movies-dataset)\n",
    "\n",
    "Данные содержат следующие признаки:\n",
    "\n",
    "* `title` - Название фильма\n",
    "* `year` - Год выпуска фильма\n",
    "* `certificate` - Возрастное ограничение\n",
    "* `duration` - Длительность\n",
    "* `genre` - Жанр фильма\n",
    "* `rating` - Рейтиг фильма\n",
    "* `description` - Описание\n",
    "* `stars` - Актеры\n",
    "* `votes` - Количество оценок фильма\n",
    "\n",
    "Пользоваться можно всем, кроме помощи одногруппников. Время на экрамен -- 2 пары.  "
   ]
  },
  {
   "cell_type": "code",
   "execution_count": 174,
   "id": "3d5e6a03",
   "metadata": {},
   "outputs": [
    {
     "data": {
      "text/html": [
       "<div>\n",
       "<style scoped>\n",
       "    .dataframe tbody tr th:only-of-type {\n",
       "        vertical-align: middle;\n",
       "    }\n",
       "\n",
       "    .dataframe tbody tr th {\n",
       "        vertical-align: top;\n",
       "    }\n",
       "\n",
       "    .dataframe thead th {\n",
       "        text-align: right;\n",
       "    }\n",
       "</style>\n",
       "<table border=\"1\" class=\"dataframe\">\n",
       "  <thead>\n",
       "    <tr style=\"text-align: right;\">\n",
       "      <th></th>\n",
       "      <th>title</th>\n",
       "      <th>year</th>\n",
       "      <th>certificate</th>\n",
       "      <th>duration</th>\n",
       "      <th>genre</th>\n",
       "      <th>rating</th>\n",
       "      <th>description</th>\n",
       "      <th>stars</th>\n",
       "      <th>votes</th>\n",
       "    </tr>\n",
       "  </thead>\n",
       "  <tbody>\n",
       "    <tr>\n",
       "      <th>0</th>\n",
       "      <td>Cobra Kai</td>\n",
       "      <td>(2018– )</td>\n",
       "      <td>TV-14</td>\n",
       "      <td>30 min</td>\n",
       "      <td>Action, Comedy, Drama</td>\n",
       "      <td>8.5</td>\n",
       "      <td>Decades after their 1984 All Valley Karate Tou...</td>\n",
       "      <td>['Ralph Macchio, ', 'William Zabka, ', 'Courtn...</td>\n",
       "      <td>177,031</td>\n",
       "    </tr>\n",
       "    <tr>\n",
       "      <th>1</th>\n",
       "      <td>The Crown</td>\n",
       "      <td>(2016– )</td>\n",
       "      <td>TV-MA</td>\n",
       "      <td>58 min</td>\n",
       "      <td>Biography, Drama, History</td>\n",
       "      <td>8.7</td>\n",
       "      <td>Follows the political rivalries and romance of...</td>\n",
       "      <td>['Claire Foy, ', 'Olivia Colman, ', 'Imelda St...</td>\n",
       "      <td>199,885</td>\n",
       "    </tr>\n",
       "    <tr>\n",
       "      <th>2</th>\n",
       "      <td>Better Call Saul</td>\n",
       "      <td>(2015–2022)</td>\n",
       "      <td>TV-MA</td>\n",
       "      <td>46 min</td>\n",
       "      <td>Crime, Drama</td>\n",
       "      <td>8.9</td>\n",
       "      <td>The trials and tribulations of criminal lawyer...</td>\n",
       "      <td>['Bob Odenkirk, ', 'Rhea Seehorn, ', 'Jonathan...</td>\n",
       "      <td>501,384</td>\n",
       "    </tr>\n",
       "    <tr>\n",
       "      <th>3</th>\n",
       "      <td>Devil in Ohio</td>\n",
       "      <td>(2022)</td>\n",
       "      <td>TV-MA</td>\n",
       "      <td>356 min</td>\n",
       "      <td>Drama, Horror, Mystery</td>\n",
       "      <td>5.9</td>\n",
       "      <td>When a psychiatrist shelters a mysterious cult...</td>\n",
       "      <td>['Emily Deschanel, ', 'Sam Jaeger, ', 'Gerardo...</td>\n",
       "      <td>9,773</td>\n",
       "    </tr>\n",
       "    <tr>\n",
       "      <th>4</th>\n",
       "      <td>Cyberpunk: Edgerunners</td>\n",
       "      <td>(2022– )</td>\n",
       "      <td>TV-MA</td>\n",
       "      <td>24 min</td>\n",
       "      <td>Animation, Action, Adventure</td>\n",
       "      <td>8.6</td>\n",
       "      <td>A Street Kid trying to survive in a technology...</td>\n",
       "      <td>['Zach Aguilar, ', 'Kenichiro Ohashi, ', 'Emi ...</td>\n",
       "      <td>15,413</td>\n",
       "    </tr>\n",
       "  </tbody>\n",
       "</table>\n",
       "</div>"
      ],
      "text/plain": [
       "                    title         year certificate duration  \\\n",
       "0               Cobra Kai     (2018– )       TV-14   30 min   \n",
       "1               The Crown     (2016– )       TV-MA   58 min   \n",
       "2        Better Call Saul  (2015–2022)       TV-MA   46 min   \n",
       "3           Devil in Ohio       (2022)       TV-MA  356 min   \n",
       "4  Cyberpunk: Edgerunners     (2022– )       TV-MA   24 min   \n",
       "\n",
       "                          genre  rating  \\\n",
       "0         Action, Comedy, Drama     8.5   \n",
       "1     Biography, Drama, History     8.7   \n",
       "2                  Crime, Drama     8.9   \n",
       "3        Drama, Horror, Mystery     5.9   \n",
       "4  Animation, Action, Adventure     8.6   \n",
       "\n",
       "                                         description  \\\n",
       "0  Decades after their 1984 All Valley Karate Tou...   \n",
       "1  Follows the political rivalries and romance of...   \n",
       "2  The trials and tribulations of criminal lawyer...   \n",
       "3  When a psychiatrist shelters a mysterious cult...   \n",
       "4  A Street Kid trying to survive in a technology...   \n",
       "\n",
       "                                               stars    votes  \n",
       "0  ['Ralph Macchio, ', 'William Zabka, ', 'Courtn...  177,031  \n",
       "1  ['Claire Foy, ', 'Olivia Colman, ', 'Imelda St...  199,885  \n",
       "2  ['Bob Odenkirk, ', 'Rhea Seehorn, ', 'Jonathan...  501,384  \n",
       "3  ['Emily Deschanel, ', 'Sam Jaeger, ', 'Gerardo...    9,773  \n",
       "4  ['Zach Aguilar, ', 'Kenichiro Ohashi, ', 'Emi ...   15,413  "
      ]
     },
     "execution_count": 174,
     "metadata": {},
     "output_type": "execute_result"
    }
   ],
   "source": [
    "import pandas as pd\n",
    "import re\n",
    "import plotly.graph_objects as go\n",
    "from bs4 import BeautifulSoup\n",
    "\n",
    "data = pd.read_csv('https://raw.githubusercontent.com/aaparshina/DDC_22-23_basics_python/main/data/movies.csv')\n",
    "data.head()"
   ]
  },
  {
   "cell_type": "markdown",
   "id": "0bfbf683",
   "metadata": {},
   "source": [
    "## Часть 1. Работа с данными - фильтрация, сортировка, группировка, создание новых признаков"
   ]
  },
  {
   "cell_type": "markdown",
   "id": "0cf6c373",
   "metadata": {},
   "source": [
    "**1. *(0.25 балла)* Сколько всего уникальных фильмов в данных? Сколько всего фильмов с рейтингом выше 7.5?**"
   ]
  },
  {
   "cell_type": "code",
   "execution_count": null,
   "id": "21b1bef1",
   "metadata": {},
   "outputs": [],
   "source": [
    "# your code here"
   ]
  },
  {
   "cell_type": "markdown",
   "id": "38ad0eb3",
   "metadata": {},
   "source": [
    "**2. *(0.25 балла)* Выберите фильмы с самым часто встречающимся возрастным ограничением, отсортируйте полученные данные по рейтингу. У какого фильма будет минимальный/максимальный рейтинг?**"
   ]
  },
  {
   "cell_type": "code",
   "execution_count": 1,
   "id": "05edf2bb",
   "metadata": {},
   "outputs": [],
   "source": [
    "# your code here"
   ]
  },
  {
   "cell_type": "markdown",
   "id": "99c16c47",
   "metadata": {},
   "source": [
    "**3. *(0.25 балла)* Сколько уникальных драматических (Drama) фильмов есть в данных?**"
   ]
  },
  {
   "cell_type": "code",
   "execution_count": 2,
   "id": "a3d517d7",
   "metadata": {},
   "outputs": [],
   "source": [
    "# your code here"
   ]
  },
  {
   "cell_type": "markdown",
   "id": "f25518f7",
   "metadata": {},
   "source": [
    "**4. *(0.5 балла)* Создайте столбец с продолжительностью фильма, выраженной числовым значением. Выберите только те фильмы, которые длились больше пяти часов (300 минут). Сколько таких фильмов?**"
   ]
  },
  {
   "cell_type": "code",
   "execution_count": 3,
   "id": "02aa3dd9",
   "metadata": {},
   "outputs": [],
   "source": [
    "# your code here"
   ]
  },
  {
   "cell_type": "markdown",
   "id": "9611830a",
   "metadata": {},
   "source": [
    "**5. *(0.25 балла)* Отсортируйте данные по длительности фильма. Выведите описание самого длинного фильма.**"
   ]
  },
  {
   "cell_type": "code",
   "execution_count": 4,
   "id": "372cbe76",
   "metadata": {},
   "outputs": [],
   "source": [
    "# your code here"
   ]
  },
  {
   "cell_type": "markdown",
   "id": "c26a6bde",
   "metadata": {},
   "source": [
    "**6. *(0.5 балла)* Опасно: регулярные выражения!**\n",
    "\n",
    "**Создайте столбец с годом фильма (используйте для преобразования столбец year; если там два года, то выбирайте первый). Используя новый столбец выберите только те фильмы, которые были выпущены с 2016 по 2020 года. Сгруппируйте полученные данные по возрастному ограничению и году фильма, посчитайте средний рейтинг. Выведите результат в виде таблицы.**"
   ]
  },
  {
   "cell_type": "code",
   "execution_count": 5,
   "id": "41e8523c",
   "metadata": {},
   "outputs": [],
   "source": [
    "# your code here"
   ]
  },
  {
   "cell_type": "markdown",
   "id": "b227b2a6",
   "metadata": {},
   "source": [
    "## Часть 2. Меры центральной тенденции и меры разброса, корреляция"
   ]
  },
  {
   "cell_type": "markdown",
   "id": "a5d765c2",
   "metadata": {},
   "source": [
    "**7. *(0.25 балла)* Какова средняя продолжительность фильма в 2022 году?**"
   ]
  },
  {
   "cell_type": "code",
   "execution_count": 6,
   "id": "b2a8ff1d",
   "metadata": {},
   "outputs": [],
   "source": [
    "# your code here"
   ]
  },
  {
   "cell_type": "markdown",
   "id": "18255b9e",
   "metadata": {},
   "source": [
    "**8. *(0.5 балла)* Преобразуйте столбец votes (можно на его основе создать новый), чтобы с ним можно было проводить вычисления (уберите запятую, преобразуйте в целое число). Найдите выбросы по новой переменной, используя межквартильный размах. Сколько фильмов останется, если убрать (отфильтровать данные) выбросы?**"
   ]
  },
  {
   "cell_type": "code",
   "execution_count": 7,
   "id": "627ad1ac",
   "metadata": {},
   "outputs": [],
   "source": [
    "# your code here"
   ]
  },
  {
   "cell_type": "markdown",
   "id": "444eda04",
   "metadata": {},
   "source": [
    "**9. *(0.25 балла)* Посчитайте среднее и медиану по рейтингу до и после удаления выбросов (предыдущий пункт). Как изменились меры?**"
   ]
  },
  {
   "cell_type": "code",
   "execution_count": 8,
   "id": "4b53d0e9",
   "metadata": {},
   "outputs": [],
   "source": [
    "# your code here"
   ]
  },
  {
   "cell_type": "markdown",
   "id": "fa5ee478",
   "metadata": {},
   "source": [
    "**10. *(0.25 балла)* Укажите фильм с максимальным количеством голсов.**"
   ]
  },
  {
   "cell_type": "code",
   "execution_count": 9,
   "id": "32b10bae",
   "metadata": {},
   "outputs": [],
   "source": [
    "# your code here"
   ]
  },
  {
   "cell_type": "markdown",
   "id": "f8052885",
   "metadata": {},
   "source": [
    "**11. *(0.5 балла)* Постройте корреляционную матрицу для рейтига, количества голосов и длительности фильма. Прокомментируйте каждый коэффициент корреляции (укажите тип взаимосвязи и силу).**"
   ]
  },
  {
   "cell_type": "code",
   "execution_count": 10,
   "id": "4f63bc1e",
   "metadata": {},
   "outputs": [],
   "source": [
    "# your code here"
   ]
  },
  {
   "cell_type": "markdown",
   "id": "3835937f",
   "metadata": {},
   "source": [
    "**12. *(0.25 балла)* Сколько в данных фильмов с рейтингом выше среднего?**"
   ]
  },
  {
   "cell_type": "code",
   "execution_count": 11,
   "id": "6be93c16",
   "metadata": {},
   "outputs": [],
   "source": [
    "# your code here"
   ]
  },
  {
   "cell_type": "markdown",
   "id": "7aa6fbe7",
   "metadata": {},
   "source": [
    "**13. *(0.5 балла)* Выберите все фильмы, в описании которых есть слово love. У какого фильма наибольший рейтинг? У какого фильма наибольшее количество голосов? В каком году было выпущено большинство из них?**"
   ]
  },
  {
   "cell_type": "code",
   "execution_count": 12,
   "id": "dc3185ef",
   "metadata": {},
   "outputs": [],
   "source": [
    "# your code here"
   ]
  },
  {
   "cell_type": "markdown",
   "id": "00477f0c",
   "metadata": {},
   "source": [
    "## Часть 3. Визуализация"
   ]
  },
  {
   "cell_type": "markdown",
   "id": "72d76a70",
   "metadata": {},
   "source": [
    "**13. *(1.5 балла)* Постройте линейный график, где по оси Х -- года, по оси Y -- количество фильмов за каждый год.**\n",
    "\n",
    "1. Сгруппируйте данные по годам, по столбцу title посмотрите на .count(). Сделайте из этого датафрейм (вспоминаем функцию DataFrame()).\n",
    "2. Используйте функцию Scatter(), где в качестве х укажите индексы нового датафрейма, а по у -- его единственный столбец title.\n",
    "3. Поменяйте цвет линии. Добавьте загловок, подпись осей.  "
   ]
  },
  {
   "cell_type": "code",
   "execution_count": 13,
   "id": "02800c35",
   "metadata": {},
   "outputs": [],
   "source": [
    "# your code here"
   ]
  },
  {
   "cell_type": "markdown",
   "id": "4036cf73",
   "metadata": {},
   "source": [
    "## Часть 4. Регулярные выражения\n"
   ]
  },
  {
   "cell_type": "markdown",
   "id": "fda58731",
   "metadata": {},
   "source": [
    "**14. *(2 балла)* Дан текст. Используйте регулярные выражения и вытащите из него следующую информацию:**\n",
    "\n",
    "1. Всех отправителей\n",
    "2. Все даты\n",
    "3. Все время (в формате hh:mm:ss)\n",
    "4. ID сообщения (считаем, что ID -- это первые цифры до точки, например, вот здесь `<200801051412.m05ECIaH010327@nakamura.uits.iupui.edu>` ID -- `200801051412`"
   ]
  },
  {
   "cell_type": "code",
   "execution_count": 249,
   "id": "b2b887bd",
   "metadata": {},
   "outputs": [
    {
     "name": "stdout",
     "output_type": "stream",
     "text": [
      "To: source@collab.sakaiproject.org\n",
      "From: stephen.marquard@uct.ac.za\n",
      "Message-ID: <200801051412.m05ECIaH010327@nakamura.uits.iupui.edu>\n",
      "Date: Sat, 5 Jan 2008 09:12:18\n",
      "To: source@collab.sakaiproject.org\n",
      "From: louis@media.berkeley.edu\n",
      "Message-ID: <200801042308.m04N8v6O008125@nakamura.uits.iupui.edu>\n",
      "Date: Fri, 4 Jan 2008 18:08:57\n",
      "To: source@collab.sakaiproject.org\n",
      "From: zqian@umich.edu\n",
      "Message-ID: <200801042109.m04L92hb007923@nakamura.uits.iupui.edu>\n",
      "Date: Fri, 14 Jan 2008 16:09:02\n",
      "To: source@collab.sakaiproject.org\n",
      "From: rjlowe@iupui.edu\n",
      "Message-ID: <200801042044.m04Kiem3007881@nakamura.uits.iupui.edu>\n",
      "Date: Fri, 4 Jan 2008 15:44:40\n"
     ]
    }
   ],
   "source": [
    "emails = \\\n",
    "'To: source@collab.sakaiproject.org\\n\\\n",
    "From: stephen.marquard@uct.ac.za\\n\\\n",
    "Message-ID: <200801051412.m05ECIaH010327@nakamura.uits.iupui.edu>\\n\\\n",
    "Date: Sat, 5 Jan 2008 09:12:18\\n\\\n",
    "To: source@collab.sakaiproject.org\\n\\\n",
    "From: louis@media.berkeley.edu\\n\\\n",
    "Message-ID: <200801042308.m04N8v6O008125@nakamura.uits.iupui.edu>\\n\\\n",
    "Date: Fri, 4 Jan 2008 18:08:57\\n\\\n",
    "To: source@collab.sakaiproject.org\\n\\\n",
    "From: zqian@umich.edu\\n\\\n",
    "Message-ID: <200801042109.m04L92hb007923@nakamura.uits.iupui.edu>\\n\\\n",
    "Date: Fri, 14 Jan 2008 16:09:02\\n\\\n",
    "To: source@collab.sakaiproject.org\\n\\\n",
    "From: rjlowe@iupui.edu\\n\\\n",
    "Message-ID: <200801042044.m04Kiem3007881@nakamura.uits.iupui.edu>\\n\\\n",
    "Date: Fri, 4 Jan 2008 15:44:40'\n",
    "print(emails)"
   ]
  },
  {
   "cell_type": "code",
   "execution_count": 14,
   "id": "99096928",
   "metadata": {},
   "outputs": [],
   "source": [
    "# your code here"
   ]
  },
  {
   "cell_type": "markdown",
   "id": "242a3d82",
   "metadata": {},
   "source": [
    "## Часть 5. Работа с html\n",
    "\n",
    "**15. *(2 балла)* Дан кусочек кода страницы новостного сайта. Вытащите из него следующую информацию:**\n",
    "\n",
    "1. Ссылки на новости\n",
    "2. Заголовки новостей\n",
    "3. Время публикации новости\n",
    "\n",
    "**Результаты соберите в таблицу. Назовите колонки. Сохраните получившиеся данные.**"
   ]
  },
  {
   "cell_type": "code",
   "execution_count": 278,
   "id": "771e2bf6",
   "metadata": {},
   "outputs": [
    {
     "name": "stdout",
     "output_type": "stream",
     "text": [
      "<html><body><li class=\"news-listing__item news-listing__item_hot\"><a class=\"news-listing__item-link\" href=\"https://www.mk.ru/politics/2022/10/19/sovfed-utverdil-ukaz-putina-o-voennom-polozhenii-v-novykh-regionakh.html\"><span class=\"news-listing__item-time\">17:32</span><h3 class=\"news-listing__item-title\">Совфед утвердил указ Путина о военном положении в новых регионах</h3></a></li> <li class=\"news-listing__item\"><a class=\"news-listing__item-link\" href=\"https://www.mk.ru/social/2022/10/19/v-rostovskoy-oblasti-zayavili-chto-ne-vvodyat-zapret-na-vezd-i-vyezd.html\"><span class=\"news-listing__item-time\">17:26</span><h3 class=\"news-listing__item-title\">В Ростовской области заявили, что не вводят запрет на въезд и выезд</h3></a></li> <li class=\"news-listing__item\"><a class=\"news-listing__item-link\" href=\"https://www.mk.ru/social/2022/10/19/priluchnyy-vystupil-v-sude-po-delu-ob-izbienii-v-nochnom-klube.html\"><span class=\"news-listing__item-time\">17:25</span><h3 class=\"news-listing__item-title\">Прилучный выступил в суде по делу об избиении в ночном клубе</h3></a></li> <li class=\"news-listing__item\"><a class=\"news-listing__item-link\" href=\"https://www.mk.ru/politics/2022/10/19/sozdatel-chvk-vagner-prigozhin-podtverdil-nachalo-sozdaniya-narodnogo-opolcheniya.html\"><span class=\"news-listing__item-time\">17:22</span><h3 class=\"news-listing__item-title\">Создатель ЧВК «Вагнер» Пригожин подтвердил начало создания народного ополчения</h3></a></li></body></html>\n"
     ]
    }
   ],
   "source": [
    "soup = BeautifulSoup(\n",
    "    '<li class=\"news-listing__item news-listing__item_hot\"><a href=\"https://www.mk.ru/politics/2022/10/19/sovfed-utverdil-ukaz-putina-o-voennom-polozhenii-v-novykh-regionakh.html\" class=\"news-listing__item-link\"><span class=\"news-listing__item-time\">17:32</span><h3 class=\"news-listing__item-title \">Совфед утвердил указ Путина о военном положении в новых регионах</h3></a></li>\\\n",
    "    <li class=\"news-listing__item \"><a href=\"https://www.mk.ru/social/2022/10/19/v-rostovskoy-oblasti-zayavili-chto-ne-vvodyat-zapret-na-vezd-i-vyezd.html\" class=\"news-listing__item-link\"><span class=\"news-listing__item-time\">17:26</span><h3 class=\"news-listing__item-title \">В Ростовской области заявили, что не вводят запрет на въезд и выезд</h3></a></li>\\\n",
    "    <li class=\"news-listing__item \"><a href=\"https://www.mk.ru/social/2022/10/19/priluchnyy-vystupil-v-sude-po-delu-ob-izbienii-v-nochnom-klube.html\" class=\"news-listing__item-link\"><span class=\"news-listing__item-time\">17:25</span><h3 class=\"news-listing__item-title \">Прилучный выступил в суде по делу об избиении в ночном клубе</h3></a></li>\\\n",
    "    <li class=\"news-listing__item \"><a href=\"https://www.mk.ru/politics/2022/10/19/sozdatel-chvk-vagner-prigozhin-podtverdil-nachalo-sozdaniya-narodnogo-opolcheniya.html\" class=\"news-listing__item-link\"><span class=\"news-listing__item-time\">17:22</span><h3 class=\"news-listing__item-title \">Создатель ЧВК «Вагнер» Пригожин подтвердил начало создания народного ополчения</h3></a></li>'\n",
    ")\n",
    "print(soup)"
   ]
  },
  {
   "cell_type": "code",
   "execution_count": 15,
   "id": "f9f16ada",
   "metadata": {},
   "outputs": [],
   "source": [
    "# your code here"
   ]
  }
 ],
 "metadata": {
  "kernelspec": {
   "display_name": "Python 3 (ipykernel)",
   "language": "python",
   "name": "python3"
  },
  "language_info": {
   "codemirror_mode": {
    "name": "ipython",
    "version": 3
   },
   "file_extension": ".py",
   "mimetype": "text/x-python",
   "name": "python",
   "nbconvert_exporter": "python",
   "pygments_lexer": "ipython3",
   "version": "3.9.7"
  }
 },
 "nbformat": 4,
 "nbformat_minor": 5
}
