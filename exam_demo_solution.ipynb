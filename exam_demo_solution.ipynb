{
 "cells": [
  {
   "cell_type": "markdown",
   "id": "36bff9a9",
   "metadata": {},
   "source": [
    "# Основы прикладной математики и информатики\n",
    "\n",
    "# Экзамен | Демоверсия | Python \n",
    "\n",
    "[Источник данных - Kaggle](https://www.kaggle.com/datasets/narayan63/netflix-popular-movies-dataset)\n",
    "\n",
    "Данные содержат следующие признаки:\n",
    "\n",
    "* `title` - Название фильма\n",
    "* `year` - Год выпуска фильма\n",
    "* `certificate` - Возрастное ограничение\n",
    "* `duration` - Длительность\n",
    "* `genre` - Жанр фильма\n",
    "* `rating` - Рейтиг фильма\n",
    "* `description` - Описание\n",
    "* `stars` - Актеры\n",
    "* `votes` - Количество оценок фильма\n",
    "\n",
    "Пользоваться можно всем, кроме помощи одногруппников. Время на экрамен -- 2 пары.  "
   ]
  },
  {
   "cell_type": "code",
   "execution_count": 174,
   "id": "3d5e6a03",
   "metadata": {},
   "outputs": [
    {
     "data": {
      "text/html": [
       "<div>\n",
       "<style scoped>\n",
       "    .dataframe tbody tr th:only-of-type {\n",
       "        vertical-align: middle;\n",
       "    }\n",
       "\n",
       "    .dataframe tbody tr th {\n",
       "        vertical-align: top;\n",
       "    }\n",
       "\n",
       "    .dataframe thead th {\n",
       "        text-align: right;\n",
       "    }\n",
       "</style>\n",
       "<table border=\"1\" class=\"dataframe\">\n",
       "  <thead>\n",
       "    <tr style=\"text-align: right;\">\n",
       "      <th></th>\n",
       "      <th>title</th>\n",
       "      <th>year</th>\n",
       "      <th>certificate</th>\n",
       "      <th>duration</th>\n",
       "      <th>genre</th>\n",
       "      <th>rating</th>\n",
       "      <th>description</th>\n",
       "      <th>stars</th>\n",
       "      <th>votes</th>\n",
       "    </tr>\n",
       "  </thead>\n",
       "  <tbody>\n",
       "    <tr>\n",
       "      <th>0</th>\n",
       "      <td>Cobra Kai</td>\n",
       "      <td>(2018– )</td>\n",
       "      <td>TV-14</td>\n",
       "      <td>30 min</td>\n",
       "      <td>Action, Comedy, Drama</td>\n",
       "      <td>8.5</td>\n",
       "      <td>Decades after their 1984 All Valley Karate Tou...</td>\n",
       "      <td>['Ralph Macchio, ', 'William Zabka, ', 'Courtn...</td>\n",
       "      <td>177,031</td>\n",
       "    </tr>\n",
       "    <tr>\n",
       "      <th>1</th>\n",
       "      <td>The Crown</td>\n",
       "      <td>(2016– )</td>\n",
       "      <td>TV-MA</td>\n",
       "      <td>58 min</td>\n",
       "      <td>Biography, Drama, History</td>\n",
       "      <td>8.7</td>\n",
       "      <td>Follows the political rivalries and romance of...</td>\n",
       "      <td>['Claire Foy, ', 'Olivia Colman, ', 'Imelda St...</td>\n",
       "      <td>199,885</td>\n",
       "    </tr>\n",
       "    <tr>\n",
       "      <th>2</th>\n",
       "      <td>Better Call Saul</td>\n",
       "      <td>(2015–2022)</td>\n",
       "      <td>TV-MA</td>\n",
       "      <td>46 min</td>\n",
       "      <td>Crime, Drama</td>\n",
       "      <td>8.9</td>\n",
       "      <td>The trials and tribulations of criminal lawyer...</td>\n",
       "      <td>['Bob Odenkirk, ', 'Rhea Seehorn, ', 'Jonathan...</td>\n",
       "      <td>501,384</td>\n",
       "    </tr>\n",
       "    <tr>\n",
       "      <th>3</th>\n",
       "      <td>Devil in Ohio</td>\n",
       "      <td>(2022)</td>\n",
       "      <td>TV-MA</td>\n",
       "      <td>356 min</td>\n",
       "      <td>Drama, Horror, Mystery</td>\n",
       "      <td>5.9</td>\n",
       "      <td>When a psychiatrist shelters a mysterious cult...</td>\n",
       "      <td>['Emily Deschanel, ', 'Sam Jaeger, ', 'Gerardo...</td>\n",
       "      <td>9,773</td>\n",
       "    </tr>\n",
       "    <tr>\n",
       "      <th>4</th>\n",
       "      <td>Cyberpunk: Edgerunners</td>\n",
       "      <td>(2022– )</td>\n",
       "      <td>TV-MA</td>\n",
       "      <td>24 min</td>\n",
       "      <td>Animation, Action, Adventure</td>\n",
       "      <td>8.6</td>\n",
       "      <td>A Street Kid trying to survive in a technology...</td>\n",
       "      <td>['Zach Aguilar, ', 'Kenichiro Ohashi, ', 'Emi ...</td>\n",
       "      <td>15,413</td>\n",
       "    </tr>\n",
       "  </tbody>\n",
       "</table>\n",
       "</div>"
      ],
      "text/plain": [
       "                    title         year certificate duration  \\\n",
       "0               Cobra Kai     (2018– )       TV-14   30 min   \n",
       "1               The Crown     (2016– )       TV-MA   58 min   \n",
       "2        Better Call Saul  (2015–2022)       TV-MA   46 min   \n",
       "3           Devil in Ohio       (2022)       TV-MA  356 min   \n",
       "4  Cyberpunk: Edgerunners     (2022– )       TV-MA   24 min   \n",
       "\n",
       "                          genre  rating  \\\n",
       "0         Action, Comedy, Drama     8.5   \n",
       "1     Biography, Drama, History     8.7   \n",
       "2                  Crime, Drama     8.9   \n",
       "3        Drama, Horror, Mystery     5.9   \n",
       "4  Animation, Action, Adventure     8.6   \n",
       "\n",
       "                                         description  \\\n",
       "0  Decades after their 1984 All Valley Karate Tou...   \n",
       "1  Follows the political rivalries and romance of...   \n",
       "2  The trials and tribulations of criminal lawyer...   \n",
       "3  When a psychiatrist shelters a mysterious cult...   \n",
       "4  A Street Kid trying to survive in a technology...   \n",
       "\n",
       "                                               stars    votes  \n",
       "0  ['Ralph Macchio, ', 'William Zabka, ', 'Courtn...  177,031  \n",
       "1  ['Claire Foy, ', 'Olivia Colman, ', 'Imelda St...  199,885  \n",
       "2  ['Bob Odenkirk, ', 'Rhea Seehorn, ', 'Jonathan...  501,384  \n",
       "3  ['Emily Deschanel, ', 'Sam Jaeger, ', 'Gerardo...    9,773  \n",
       "4  ['Zach Aguilar, ', 'Kenichiro Ohashi, ', 'Emi ...   15,413  "
      ]
     },
     "execution_count": 174,
     "metadata": {},
     "output_type": "execute_result"
    }
   ],
   "source": [
    "import pandas as pd\n",
    "import re\n",
    "import plotly.graph_objects as go\n",
    "from bs4 import BeautifulSoup\n",
    "\n",
    "data = pd.read_csv('https://raw.githubusercontent.com/aaparshina/DDC_22-23_basics_python/main/data/movies.csv')\n",
    "data.head()"
   ]
  },
  {
   "cell_type": "markdown",
   "id": "0bfbf683",
   "metadata": {},
   "source": [
    "## Часть 1. Работа с данными - фильтрация, сортировка, группировка, создание новых признаков"
   ]
  },
  {
   "cell_type": "markdown",
   "id": "0cf6c373",
   "metadata": {},
   "source": [
    "**1. *(0.25 балла)* Сколько всего уникальных фильмов в данных? Сколько всего фильмов с рейтингом выше 7.5?**"
   ]
  },
  {
   "cell_type": "code",
   "execution_count": 177,
   "id": "682bbe47",
   "metadata": {},
   "outputs": [
    {
     "data": {
      "text/plain": [
       "6261"
      ]
     },
     "execution_count": 177,
     "metadata": {},
     "output_type": "execute_result"
    }
   ],
   "source": [
    "len(data['title'].unique())"
   ]
  },
  {
   "cell_type": "code",
   "execution_count": 178,
   "id": "3f1fd7ac",
   "metadata": {},
   "outputs": [
    {
     "data": {
      "text/plain": [
       "1283"
      ]
     },
     "execution_count": 178,
     "metadata": {},
     "output_type": "execute_result"
    }
   ],
   "source": [
    "len(data[data['rating'] > 7.5]['title'].unique())"
   ]
  },
  {
   "cell_type": "markdown",
   "id": "38ad0eb3",
   "metadata": {},
   "source": [
    "**2. *(0.25 балла)* Выберите фильмы с самым часто встречающимся возрастным ограничением, отсортируйте полученные данные по рейтингу. У какого фильма будет минимальный/максимальный рейтинг?**"
   ]
  },
  {
   "cell_type": "code",
   "execution_count": 179,
   "id": "05edf2bb",
   "metadata": {},
   "outputs": [
    {
     "data": {
      "text/plain": [
       "TV-MA        2197\n",
       "TV-14        1081\n",
       "R             466\n",
       "TV-PG         464\n",
       "Not Rated     458\n",
       "PG-13         276\n",
       "TV-Y7         266\n",
       "PG            154\n",
       "TV-G          114\n",
       "TV-Y          109\n",
       "Unrated        63\n",
       "G              43\n",
       "Approved       25\n",
       "TV-Y7-FV       25\n",
       "Passed          6\n",
       "NC-17           4\n",
       "MA-17           1\n",
       "12              1\n",
       "M               1\n",
       "Name: certificate, dtype: int64"
      ]
     },
     "execution_count": 179,
     "metadata": {},
     "output_type": "execute_result"
    }
   ],
   "source": [
    "data['certificate'].value_counts()"
   ]
  },
  {
   "cell_type": "code",
   "execution_count": 180,
   "id": "9fb90dfe",
   "metadata": {},
   "outputs": [
    {
     "data": {
      "text/plain": [
       "3280    The Hype House\n",
       "Name: title, dtype: object"
      ]
     },
     "execution_count": 180,
     "metadata": {},
     "output_type": "execute_result"
    }
   ],
   "source": [
    "data[data['certificate'] == 'TV-MA'].sort_values(by = 'rating')['title'].head(1)"
   ]
  },
  {
   "cell_type": "code",
   "execution_count": 181,
   "id": "9e571248",
   "metadata": {},
   "outputs": [
    {
     "data": {
      "text/plain": [
       "7321    BoJack Horseman\n",
       "Name: title, dtype: object"
      ]
     },
     "execution_count": 181,
     "metadata": {},
     "output_type": "execute_result"
    }
   ],
   "source": [
    "data[data['certificate'] == 'TV-MA'].sort_values(by = 'rating', ascending = False)['title'].head(1)"
   ]
  },
  {
   "cell_type": "markdown",
   "id": "99c16c47",
   "metadata": {},
   "source": [
    "**3. *(0.25 балла)* Сколько уникальных драматических (Drama) фильмов есть в данных?**"
   ]
  },
  {
   "cell_type": "code",
   "execution_count": 212,
   "id": "a3d517d7",
   "metadata": {},
   "outputs": [
    {
     "data": {
      "text/plain": [
       "2671"
      ]
     },
     "execution_count": 212,
     "metadata": {},
     "output_type": "execute_result"
    }
   ],
   "source": [
    "genre = data.dropna(subset = 'genre')\n",
    "len(genre[genre['genre'].str.contains(\"Drama\")]['title'].unique())"
   ]
  },
  {
   "cell_type": "markdown",
   "id": "f25518f7",
   "metadata": {},
   "source": [
    "**4. *(0.5 балла)* Создайте столбец с продолжительностью фильма, выраженной числовым значением. Выберите только те фильмы, которые длились больше пяти часов (300 минут). Сколько таких фильмов?**"
   ]
  },
  {
   "cell_type": "code",
   "execution_count": 183,
   "id": "02aa3dd9",
   "metadata": {},
   "outputs": [
    {
     "data": {
      "text/html": [
       "<div>\n",
       "<style scoped>\n",
       "    .dataframe tbody tr th:only-of-type {\n",
       "        vertical-align: middle;\n",
       "    }\n",
       "\n",
       "    .dataframe tbody tr th {\n",
       "        vertical-align: top;\n",
       "    }\n",
       "\n",
       "    .dataframe thead th {\n",
       "        text-align: right;\n",
       "    }\n",
       "</style>\n",
       "<table border=\"1\" class=\"dataframe\">\n",
       "  <thead>\n",
       "    <tr style=\"text-align: right;\">\n",
       "      <th></th>\n",
       "      <th>title</th>\n",
       "      <th>year</th>\n",
       "      <th>certificate</th>\n",
       "      <th>duration</th>\n",
       "      <th>genre</th>\n",
       "      <th>rating</th>\n",
       "      <th>description</th>\n",
       "      <th>stars</th>\n",
       "      <th>votes</th>\n",
       "      <th>dur_new</th>\n",
       "    </tr>\n",
       "  </thead>\n",
       "  <tbody>\n",
       "    <tr>\n",
       "      <th>0</th>\n",
       "      <td>Cobra Kai</td>\n",
       "      <td>(2018– )</td>\n",
       "      <td>TV-14</td>\n",
       "      <td>30 min</td>\n",
       "      <td>Action, Comedy, Drama</td>\n",
       "      <td>8.5</td>\n",
       "      <td>Decades after their 1984 All Valley Karate Tou...</td>\n",
       "      <td>['Ralph Macchio, ', 'William Zabka, ', 'Courtn...</td>\n",
       "      <td>177,031</td>\n",
       "      <td>30</td>\n",
       "    </tr>\n",
       "    <tr>\n",
       "      <th>1</th>\n",
       "      <td>The Crown</td>\n",
       "      <td>(2016– )</td>\n",
       "      <td>TV-MA</td>\n",
       "      <td>58 min</td>\n",
       "      <td>Biography, Drama, History</td>\n",
       "      <td>8.7</td>\n",
       "      <td>Follows the political rivalries and romance of...</td>\n",
       "      <td>['Claire Foy, ', 'Olivia Colman, ', 'Imelda St...</td>\n",
       "      <td>199,885</td>\n",
       "      <td>58</td>\n",
       "    </tr>\n",
       "    <tr>\n",
       "      <th>2</th>\n",
       "      <td>Better Call Saul</td>\n",
       "      <td>(2015–2022)</td>\n",
       "      <td>TV-MA</td>\n",
       "      <td>46 min</td>\n",
       "      <td>Crime, Drama</td>\n",
       "      <td>8.9</td>\n",
       "      <td>The trials and tribulations of criminal lawyer...</td>\n",
       "      <td>['Bob Odenkirk, ', 'Rhea Seehorn, ', 'Jonathan...</td>\n",
       "      <td>501,384</td>\n",
       "      <td>46</td>\n",
       "    </tr>\n",
       "    <tr>\n",
       "      <th>3</th>\n",
       "      <td>Devil in Ohio</td>\n",
       "      <td>(2022)</td>\n",
       "      <td>TV-MA</td>\n",
       "      <td>356 min</td>\n",
       "      <td>Drama, Horror, Mystery</td>\n",
       "      <td>5.9</td>\n",
       "      <td>When a psychiatrist shelters a mysterious cult...</td>\n",
       "      <td>['Emily Deschanel, ', 'Sam Jaeger, ', 'Gerardo...</td>\n",
       "      <td>9,773</td>\n",
       "      <td>356</td>\n",
       "    </tr>\n",
       "    <tr>\n",
       "      <th>4</th>\n",
       "      <td>Cyberpunk: Edgerunners</td>\n",
       "      <td>(2022– )</td>\n",
       "      <td>TV-MA</td>\n",
       "      <td>24 min</td>\n",
       "      <td>Animation, Action, Adventure</td>\n",
       "      <td>8.6</td>\n",
       "      <td>A Street Kid trying to survive in a technology...</td>\n",
       "      <td>['Zach Aguilar, ', 'Kenichiro Ohashi, ', 'Emi ...</td>\n",
       "      <td>15,413</td>\n",
       "      <td>24</td>\n",
       "    </tr>\n",
       "  </tbody>\n",
       "</table>\n",
       "</div>"
      ],
      "text/plain": [
       "                    title         year certificate duration  \\\n",
       "0               Cobra Kai     (2018– )       TV-14   30 min   \n",
       "1               The Crown     (2016– )       TV-MA   58 min   \n",
       "2        Better Call Saul  (2015–2022)       TV-MA   46 min   \n",
       "3           Devil in Ohio       (2022)       TV-MA  356 min   \n",
       "4  Cyberpunk: Edgerunners     (2022– )       TV-MA   24 min   \n",
       "\n",
       "                          genre  rating  \\\n",
       "0         Action, Comedy, Drama     8.5   \n",
       "1     Biography, Drama, History     8.7   \n",
       "2                  Crime, Drama     8.9   \n",
       "3        Drama, Horror, Mystery     5.9   \n",
       "4  Animation, Action, Adventure     8.6   \n",
       "\n",
       "                                         description  \\\n",
       "0  Decades after their 1984 All Valley Karate Tou...   \n",
       "1  Follows the political rivalries and romance of...   \n",
       "2  The trials and tribulations of criminal lawyer...   \n",
       "3  When a psychiatrist shelters a mysterious cult...   \n",
       "4  A Street Kid trying to survive in a technology...   \n",
       "\n",
       "                                               stars    votes  dur_new  \n",
       "0  ['Ralph Macchio, ', 'William Zabka, ', 'Courtn...  177,031       30  \n",
       "1  ['Claire Foy, ', 'Olivia Colman, ', 'Imelda St...  199,885       58  \n",
       "2  ['Bob Odenkirk, ', 'Rhea Seehorn, ', 'Jonathan...  501,384       46  \n",
       "3  ['Emily Deschanel, ', 'Sam Jaeger, ', 'Gerardo...    9,773      356  \n",
       "4  ['Zach Aguilar, ', 'Kenichiro Ohashi, ', 'Emi ...   15,413       24  "
      ]
     },
     "execution_count": 183,
     "metadata": {},
     "output_type": "execute_result"
    }
   ],
   "source": [
    "data['dur_new'] = data['duration'].apply(lambda x: int(x.split()[0]))\n",
    "data.head()"
   ]
  },
  {
   "cell_type": "code",
   "execution_count": 184,
   "id": "45a5a760",
   "metadata": {},
   "outputs": [
    {
     "data": {
      "text/plain": [
       "55"
      ]
     },
     "execution_count": 184,
     "metadata": {},
     "output_type": "execute_result"
    }
   ],
   "source": [
    "len(data[data['dur_new'] > 300]['title'].unique())"
   ]
  },
  {
   "cell_type": "markdown",
   "id": "9611830a",
   "metadata": {},
   "source": [
    "**5. *(0.25 балла)* Отсортируйте данные по длительности фильма. Выведите описание самого длинного фильма.**"
   ]
  },
  {
   "cell_type": "code",
   "execution_count": 187,
   "id": "372cbe76",
   "metadata": {},
   "outputs": [
    {
     "data": {
      "text/plain": [
       "\"A comprehensive history of the United States' involvement in the bitterly divisive armed conflict in Southeast Asia.\""
      ]
     },
     "execution_count": 187,
     "metadata": {},
     "output_type": "execute_result"
    }
   ],
   "source": [
    "data.sort_values(by = 'dur_new', ascending = False).loc[896]['description']"
   ]
  },
  {
   "cell_type": "markdown",
   "id": "c26a6bde",
   "metadata": {},
   "source": [
    "**6. *(0.5 балла)* Опасно: регулярные выражения!**\n",
    "\n",
    "**Создайте столбец с годом фильма (используйте для преобразования столбец year; если там два года, то выбирайте первый). Используя новый столбец выберите только те фильмы, которые были выпущены с 2016 по 2020 года. Сгруппируйте полученные данные по возрастному ограничению и году фильма, посчитайте средний рейтинг. Выведите результат в виде таблицы.**"
   ]
  },
  {
   "cell_type": "code",
   "execution_count": 188,
   "id": "41e8523c",
   "metadata": {},
   "outputs": [
    {
     "data": {
      "text/html": [
       "<div>\n",
       "<style scoped>\n",
       "    .dataframe tbody tr th:only-of-type {\n",
       "        vertical-align: middle;\n",
       "    }\n",
       "\n",
       "    .dataframe tbody tr th {\n",
       "        vertical-align: top;\n",
       "    }\n",
       "\n",
       "    .dataframe thead th {\n",
       "        text-align: right;\n",
       "    }\n",
       "</style>\n",
       "<table border=\"1\" class=\"dataframe\">\n",
       "  <thead>\n",
       "    <tr style=\"text-align: right;\">\n",
       "      <th></th>\n",
       "      <th>title</th>\n",
       "      <th>year</th>\n",
       "      <th>certificate</th>\n",
       "      <th>duration</th>\n",
       "      <th>genre</th>\n",
       "      <th>rating</th>\n",
       "      <th>description</th>\n",
       "      <th>stars</th>\n",
       "      <th>votes</th>\n",
       "      <th>dur_new</th>\n",
       "      <th>year_start</th>\n",
       "    </tr>\n",
       "  </thead>\n",
       "  <tbody>\n",
       "    <tr>\n",
       "      <th>0</th>\n",
       "      <td>Cobra Kai</td>\n",
       "      <td>(2018– )</td>\n",
       "      <td>TV-14</td>\n",
       "      <td>30 min</td>\n",
       "      <td>Action, Comedy, Drama</td>\n",
       "      <td>8.5</td>\n",
       "      <td>Decades after their 1984 All Valley Karate Tou...</td>\n",
       "      <td>['Ralph Macchio, ', 'William Zabka, ', 'Courtn...</td>\n",
       "      <td>177,031</td>\n",
       "      <td>30</td>\n",
       "      <td>2018</td>\n",
       "    </tr>\n",
       "    <tr>\n",
       "      <th>1</th>\n",
       "      <td>The Crown</td>\n",
       "      <td>(2016– )</td>\n",
       "      <td>TV-MA</td>\n",
       "      <td>58 min</td>\n",
       "      <td>Biography, Drama, History</td>\n",
       "      <td>8.7</td>\n",
       "      <td>Follows the political rivalries and romance of...</td>\n",
       "      <td>['Claire Foy, ', 'Olivia Colman, ', 'Imelda St...</td>\n",
       "      <td>199,885</td>\n",
       "      <td>58</td>\n",
       "      <td>2016</td>\n",
       "    </tr>\n",
       "    <tr>\n",
       "      <th>2</th>\n",
       "      <td>Better Call Saul</td>\n",
       "      <td>(2015–2022)</td>\n",
       "      <td>TV-MA</td>\n",
       "      <td>46 min</td>\n",
       "      <td>Crime, Drama</td>\n",
       "      <td>8.9</td>\n",
       "      <td>The trials and tribulations of criminal lawyer...</td>\n",
       "      <td>['Bob Odenkirk, ', 'Rhea Seehorn, ', 'Jonathan...</td>\n",
       "      <td>501,384</td>\n",
       "      <td>46</td>\n",
       "      <td>2015</td>\n",
       "    </tr>\n",
       "    <tr>\n",
       "      <th>3</th>\n",
       "      <td>Devil in Ohio</td>\n",
       "      <td>(2022)</td>\n",
       "      <td>TV-MA</td>\n",
       "      <td>356 min</td>\n",
       "      <td>Drama, Horror, Mystery</td>\n",
       "      <td>5.9</td>\n",
       "      <td>When a psychiatrist shelters a mysterious cult...</td>\n",
       "      <td>['Emily Deschanel, ', 'Sam Jaeger, ', 'Gerardo...</td>\n",
       "      <td>9,773</td>\n",
       "      <td>356</td>\n",
       "      <td>2022</td>\n",
       "    </tr>\n",
       "    <tr>\n",
       "      <th>4</th>\n",
       "      <td>Cyberpunk: Edgerunners</td>\n",
       "      <td>(2022– )</td>\n",
       "      <td>TV-MA</td>\n",
       "      <td>24 min</td>\n",
       "      <td>Animation, Action, Adventure</td>\n",
       "      <td>8.6</td>\n",
       "      <td>A Street Kid trying to survive in a technology...</td>\n",
       "      <td>['Zach Aguilar, ', 'Kenichiro Ohashi, ', 'Emi ...</td>\n",
       "      <td>15,413</td>\n",
       "      <td>24</td>\n",
       "      <td>2022</td>\n",
       "    </tr>\n",
       "  </tbody>\n",
       "</table>\n",
       "</div>"
      ],
      "text/plain": [
       "                    title         year certificate duration  \\\n",
       "0               Cobra Kai     (2018– )       TV-14   30 min   \n",
       "1               The Crown     (2016– )       TV-MA   58 min   \n",
       "2        Better Call Saul  (2015–2022)       TV-MA   46 min   \n",
       "3           Devil in Ohio       (2022)       TV-MA  356 min   \n",
       "4  Cyberpunk: Edgerunners     (2022– )       TV-MA   24 min   \n",
       "\n",
       "                          genre  rating  \\\n",
       "0         Action, Comedy, Drama     8.5   \n",
       "1     Biography, Drama, History     8.7   \n",
       "2                  Crime, Drama     8.9   \n",
       "3        Drama, Horror, Mystery     5.9   \n",
       "4  Animation, Action, Adventure     8.6   \n",
       "\n",
       "                                         description  \\\n",
       "0  Decades after their 1984 All Valley Karate Tou...   \n",
       "1  Follows the political rivalries and romance of...   \n",
       "2  The trials and tribulations of criminal lawyer...   \n",
       "3  When a psychiatrist shelters a mysterious cult...   \n",
       "4  A Street Kid trying to survive in a technology...   \n",
       "\n",
       "                                               stars    votes  dur_new  \\\n",
       "0  ['Ralph Macchio, ', 'William Zabka, ', 'Courtn...  177,031       30   \n",
       "1  ['Claire Foy, ', 'Olivia Colman, ', 'Imelda St...  199,885       58   \n",
       "2  ['Bob Odenkirk, ', 'Rhea Seehorn, ', 'Jonathan...  501,384       46   \n",
       "3  ['Emily Deschanel, ', 'Sam Jaeger, ', 'Gerardo...    9,773      356   \n",
       "4  ['Zach Aguilar, ', 'Kenichiro Ohashi, ', 'Emi ...   15,413       24   \n",
       "\n",
       "   year_start  \n",
       "0        2018  \n",
       "1        2016  \n",
       "2        2015  \n",
       "3        2022  \n",
       "4        2022  "
      ]
     },
     "execution_count": 188,
     "metadata": {},
     "output_type": "execute_result"
    }
   ],
   "source": [
    "data['year_start'] = data['year'].apply(lambda x: int(re.findall(r'\\d{4}', x)[0]))\n",
    "data.head()"
   ]
  },
  {
   "cell_type": "code",
   "execution_count": 189,
   "id": "bb8ed0be",
   "metadata": {},
   "outputs": [
    {
     "data": {
      "text/html": [
       "<div>\n",
       "<style scoped>\n",
       "    .dataframe tbody tr th:only-of-type {\n",
       "        vertical-align: middle;\n",
       "    }\n",
       "\n",
       "    .dataframe tbody tr th {\n",
       "        vertical-align: top;\n",
       "    }\n",
       "\n",
       "    .dataframe thead th {\n",
       "        text-align: right;\n",
       "    }\n",
       "</style>\n",
       "<table border=\"1\" class=\"dataframe\">\n",
       "  <thead>\n",
       "    <tr style=\"text-align: right;\">\n",
       "      <th>year_start</th>\n",
       "      <th>2016</th>\n",
       "      <th>2017</th>\n",
       "      <th>2018</th>\n",
       "      <th>2019</th>\n",
       "      <th>2020</th>\n",
       "    </tr>\n",
       "    <tr>\n",
       "      <th>certificate</th>\n",
       "      <th></th>\n",
       "      <th></th>\n",
       "      <th></th>\n",
       "      <th></th>\n",
       "      <th></th>\n",
       "    </tr>\n",
       "  </thead>\n",
       "  <tbody>\n",
       "    <tr>\n",
       "      <th>Approved</th>\n",
       "      <td>NaN</td>\n",
       "      <td>NaN</td>\n",
       "      <td>7.800000</td>\n",
       "      <td>NaN</td>\n",
       "      <td>NaN</td>\n",
       "    </tr>\n",
       "    <tr>\n",
       "      <th>G</th>\n",
       "      <td>6.600000</td>\n",
       "      <td>6.433333</td>\n",
       "      <td>NaN</td>\n",
       "      <td>6.800000</td>\n",
       "      <td>5.900000</td>\n",
       "    </tr>\n",
       "    <tr>\n",
       "      <th>M</th>\n",
       "      <td>NaN</td>\n",
       "      <td>NaN</td>\n",
       "      <td>NaN</td>\n",
       "      <td>5.800000</td>\n",
       "      <td>NaN</td>\n",
       "    </tr>\n",
       "    <tr>\n",
       "      <th>Not Rated</th>\n",
       "      <td>5.679592</td>\n",
       "      <td>5.840000</td>\n",
       "      <td>5.934783</td>\n",
       "      <td>5.673077</td>\n",
       "      <td>6.855556</td>\n",
       "    </tr>\n",
       "    <tr>\n",
       "      <th>PG</th>\n",
       "      <td>6.940000</td>\n",
       "      <td>6.181818</td>\n",
       "      <td>6.177778</td>\n",
       "      <td>6.400000</td>\n",
       "      <td>6.175000</td>\n",
       "    </tr>\n",
       "    <tr>\n",
       "      <th>PG-13</th>\n",
       "      <td>6.286364</td>\n",
       "      <td>6.030000</td>\n",
       "      <td>6.023810</td>\n",
       "      <td>6.193750</td>\n",
       "      <td>6.436000</td>\n",
       "    </tr>\n",
       "    <tr>\n",
       "      <th>R</th>\n",
       "      <td>6.118421</td>\n",
       "      <td>5.990323</td>\n",
       "      <td>6.353125</td>\n",
       "      <td>6.097222</td>\n",
       "      <td>6.010811</td>\n",
       "    </tr>\n",
       "    <tr>\n",
       "      <th>TV-14</th>\n",
       "      <td>7.434021</td>\n",
       "      <td>6.888350</td>\n",
       "      <td>7.165909</td>\n",
       "      <td>6.919298</td>\n",
       "      <td>6.834211</td>\n",
       "    </tr>\n",
       "    <tr>\n",
       "      <th>TV-G</th>\n",
       "      <td>6.614286</td>\n",
       "      <td>6.850000</td>\n",
       "      <td>6.522222</td>\n",
       "      <td>7.716667</td>\n",
       "      <td>7.123333</td>\n",
       "    </tr>\n",
       "    <tr>\n",
       "      <th>TV-MA</th>\n",
       "      <td>7.009184</td>\n",
       "      <td>6.927320</td>\n",
       "      <td>6.808633</td>\n",
       "      <td>7.022606</td>\n",
       "      <td>6.828715</td>\n",
       "    </tr>\n",
       "    <tr>\n",
       "      <th>TV-PG</th>\n",
       "      <td>7.105263</td>\n",
       "      <td>7.548387</td>\n",
       "      <td>7.098246</td>\n",
       "      <td>6.680488</td>\n",
       "      <td>6.576923</td>\n",
       "    </tr>\n",
       "    <tr>\n",
       "      <th>TV-Y</th>\n",
       "      <td>6.433333</td>\n",
       "      <td>6.333333</td>\n",
       "      <td>6.642857</td>\n",
       "      <td>5.766667</td>\n",
       "      <td>6.025000</td>\n",
       "    </tr>\n",
       "    <tr>\n",
       "      <th>TV-Y7</th>\n",
       "      <td>6.900000</td>\n",
       "      <td>6.814815</td>\n",
       "      <td>7.707843</td>\n",
       "      <td>6.307692</td>\n",
       "      <td>6.425000</td>\n",
       "    </tr>\n",
       "    <tr>\n",
       "      <th>TV-Y7-FV</th>\n",
       "      <td>8.100000</td>\n",
       "      <td>6.200000</td>\n",
       "      <td>6.142857</td>\n",
       "      <td>7.033333</td>\n",
       "      <td>7.120000</td>\n",
       "    </tr>\n",
       "    <tr>\n",
       "      <th>Unrated</th>\n",
       "      <td>6.585714</td>\n",
       "      <td>6.366667</td>\n",
       "      <td>6.266667</td>\n",
       "      <td>6.050000</td>\n",
       "      <td>6.200000</td>\n",
       "    </tr>\n",
       "  </tbody>\n",
       "</table>\n",
       "</div>"
      ],
      "text/plain": [
       "year_start       2016      2017      2018      2019      2020\n",
       "certificate                                                  \n",
       "Approved          NaN       NaN  7.800000       NaN       NaN\n",
       "G            6.600000  6.433333       NaN  6.800000  5.900000\n",
       "M                 NaN       NaN       NaN  5.800000       NaN\n",
       "Not Rated    5.679592  5.840000  5.934783  5.673077  6.855556\n",
       "PG           6.940000  6.181818  6.177778  6.400000  6.175000\n",
       "PG-13        6.286364  6.030000  6.023810  6.193750  6.436000\n",
       "R            6.118421  5.990323  6.353125  6.097222  6.010811\n",
       "TV-14        7.434021  6.888350  7.165909  6.919298  6.834211\n",
       "TV-G         6.614286  6.850000  6.522222  7.716667  7.123333\n",
       "TV-MA        7.009184  6.927320  6.808633  7.022606  6.828715\n",
       "TV-PG        7.105263  7.548387  7.098246  6.680488  6.576923\n",
       "TV-Y         6.433333  6.333333  6.642857  5.766667  6.025000\n",
       "TV-Y7        6.900000  6.814815  7.707843  6.307692  6.425000\n",
       "TV-Y7-FV     8.100000  6.200000  6.142857  7.033333  7.120000\n",
       "Unrated      6.585714  6.366667  6.266667  6.050000  6.200000"
      ]
     },
     "execution_count": 189,
     "metadata": {},
     "output_type": "execute_result"
    }
   ],
   "source": [
    "data_2015 = data[(data['year_start'] > 2015) & (data['year_start'] <= 2020)]\n",
    "data_2015.groupby(['certificate', 'year_start'])['rating'].mean().unstack()"
   ]
  },
  {
   "cell_type": "markdown",
   "id": "b227b2a6",
   "metadata": {},
   "source": [
    "## Часть 2. Меры центральной тенденции и меры разброса, корреляция"
   ]
  },
  {
   "cell_type": "markdown",
   "id": "a5d765c2",
   "metadata": {},
   "source": [
    "**7. *(0.25 балла)* Какова средняя продолжительность фильма в 2022 году?**"
   ]
  },
  {
   "cell_type": "code",
   "execution_count": 190,
   "id": "b2a8ff1d",
   "metadata": {},
   "outputs": [
    {
     "data": {
      "text/plain": [
       "84.37407407407407"
      ]
     },
     "execution_count": 190,
     "metadata": {},
     "output_type": "execute_result"
    }
   ],
   "source": [
    "data[data['year_start'] == 2022]['dur_new'].mean()"
   ]
  },
  {
   "cell_type": "markdown",
   "id": "18255b9e",
   "metadata": {},
   "source": [
    "**8. *(0.5 балла)* Преобразуйте столбец votes (можно на его основе создать новый), чтобы с ним можно было проводить вычисления (уберите запятую, преобразуйте в целое число). Найдите выбросы по новой переменной, используя межквартильный размах. Сколько фильмов останется, если убрать (отфильтровать данные) выбросы?**"
   ]
  },
  {
   "cell_type": "code",
   "execution_count": 191,
   "id": "627ad1ac",
   "metadata": {},
   "outputs": [
    {
     "data": {
      "text/html": [
       "<div>\n",
       "<style scoped>\n",
       "    .dataframe tbody tr th:only-of-type {\n",
       "        vertical-align: middle;\n",
       "    }\n",
       "\n",
       "    .dataframe tbody tr th {\n",
       "        vertical-align: top;\n",
       "    }\n",
       "\n",
       "    .dataframe thead th {\n",
       "        text-align: right;\n",
       "    }\n",
       "</style>\n",
       "<table border=\"1\" class=\"dataframe\">\n",
       "  <thead>\n",
       "    <tr style=\"text-align: right;\">\n",
       "      <th></th>\n",
       "      <th>title</th>\n",
       "      <th>year</th>\n",
       "      <th>certificate</th>\n",
       "      <th>duration</th>\n",
       "      <th>genre</th>\n",
       "      <th>rating</th>\n",
       "      <th>description</th>\n",
       "      <th>stars</th>\n",
       "      <th>votes</th>\n",
       "      <th>dur_new</th>\n",
       "      <th>year_start</th>\n",
       "      <th>votes_2</th>\n",
       "    </tr>\n",
       "  </thead>\n",
       "  <tbody>\n",
       "    <tr>\n",
       "      <th>0</th>\n",
       "      <td>Cobra Kai</td>\n",
       "      <td>(2018– )</td>\n",
       "      <td>TV-14</td>\n",
       "      <td>30 min</td>\n",
       "      <td>Action, Comedy, Drama</td>\n",
       "      <td>8.5</td>\n",
       "      <td>Decades after their 1984 All Valley Karate Tou...</td>\n",
       "      <td>['Ralph Macchio, ', 'William Zabka, ', 'Courtn...</td>\n",
       "      <td>177,031</td>\n",
       "      <td>30</td>\n",
       "      <td>2018</td>\n",
       "      <td>177031</td>\n",
       "    </tr>\n",
       "    <tr>\n",
       "      <th>1</th>\n",
       "      <td>The Crown</td>\n",
       "      <td>(2016– )</td>\n",
       "      <td>TV-MA</td>\n",
       "      <td>58 min</td>\n",
       "      <td>Biography, Drama, History</td>\n",
       "      <td>8.7</td>\n",
       "      <td>Follows the political rivalries and romance of...</td>\n",
       "      <td>['Claire Foy, ', 'Olivia Colman, ', 'Imelda St...</td>\n",
       "      <td>199,885</td>\n",
       "      <td>58</td>\n",
       "      <td>2016</td>\n",
       "      <td>199885</td>\n",
       "    </tr>\n",
       "    <tr>\n",
       "      <th>2</th>\n",
       "      <td>Better Call Saul</td>\n",
       "      <td>(2015–2022)</td>\n",
       "      <td>TV-MA</td>\n",
       "      <td>46 min</td>\n",
       "      <td>Crime, Drama</td>\n",
       "      <td>8.9</td>\n",
       "      <td>The trials and tribulations of criminal lawyer...</td>\n",
       "      <td>['Bob Odenkirk, ', 'Rhea Seehorn, ', 'Jonathan...</td>\n",
       "      <td>501,384</td>\n",
       "      <td>46</td>\n",
       "      <td>2015</td>\n",
       "      <td>501384</td>\n",
       "    </tr>\n",
       "    <tr>\n",
       "      <th>3</th>\n",
       "      <td>Devil in Ohio</td>\n",
       "      <td>(2022)</td>\n",
       "      <td>TV-MA</td>\n",
       "      <td>356 min</td>\n",
       "      <td>Drama, Horror, Mystery</td>\n",
       "      <td>5.9</td>\n",
       "      <td>When a psychiatrist shelters a mysterious cult...</td>\n",
       "      <td>['Emily Deschanel, ', 'Sam Jaeger, ', 'Gerardo...</td>\n",
       "      <td>9,773</td>\n",
       "      <td>356</td>\n",
       "      <td>2022</td>\n",
       "      <td>9773</td>\n",
       "    </tr>\n",
       "    <tr>\n",
       "      <th>4</th>\n",
       "      <td>Cyberpunk: Edgerunners</td>\n",
       "      <td>(2022– )</td>\n",
       "      <td>TV-MA</td>\n",
       "      <td>24 min</td>\n",
       "      <td>Animation, Action, Adventure</td>\n",
       "      <td>8.6</td>\n",
       "      <td>A Street Kid trying to survive in a technology...</td>\n",
       "      <td>['Zach Aguilar, ', 'Kenichiro Ohashi, ', 'Emi ...</td>\n",
       "      <td>15,413</td>\n",
       "      <td>24</td>\n",
       "      <td>2022</td>\n",
       "      <td>15413</td>\n",
       "    </tr>\n",
       "  </tbody>\n",
       "</table>\n",
       "</div>"
      ],
      "text/plain": [
       "                    title         year certificate duration  \\\n",
       "0               Cobra Kai     (2018– )       TV-14   30 min   \n",
       "1               The Crown     (2016– )       TV-MA   58 min   \n",
       "2        Better Call Saul  (2015–2022)       TV-MA   46 min   \n",
       "3           Devil in Ohio       (2022)       TV-MA  356 min   \n",
       "4  Cyberpunk: Edgerunners     (2022– )       TV-MA   24 min   \n",
       "\n",
       "                          genre  rating  \\\n",
       "0         Action, Comedy, Drama     8.5   \n",
       "1     Biography, Drama, History     8.7   \n",
       "2                  Crime, Drama     8.9   \n",
       "3        Drama, Horror, Mystery     5.9   \n",
       "4  Animation, Action, Adventure     8.6   \n",
       "\n",
       "                                         description  \\\n",
       "0  Decades after their 1984 All Valley Karate Tou...   \n",
       "1  Follows the political rivalries and romance of...   \n",
       "2  The trials and tribulations of criminal lawyer...   \n",
       "3  When a psychiatrist shelters a mysterious cult...   \n",
       "4  A Street Kid trying to survive in a technology...   \n",
       "\n",
       "                                               stars    votes  dur_new  \\\n",
       "0  ['Ralph Macchio, ', 'William Zabka, ', 'Courtn...  177,031       30   \n",
       "1  ['Claire Foy, ', 'Olivia Colman, ', 'Imelda St...  199,885       58   \n",
       "2  ['Bob Odenkirk, ', 'Rhea Seehorn, ', 'Jonathan...  501,384       46   \n",
       "3  ['Emily Deschanel, ', 'Sam Jaeger, ', 'Gerardo...    9,773      356   \n",
       "4  ['Zach Aguilar, ', 'Kenichiro Ohashi, ', 'Emi ...   15,413       24   \n",
       "\n",
       "   year_start  votes_2  \n",
       "0        2018   177031  \n",
       "1        2016   199885  \n",
       "2        2015   501384  \n",
       "3        2022     9773  \n",
       "4        2022    15413  "
      ]
     },
     "execution_count": 191,
     "metadata": {},
     "output_type": "execute_result"
    }
   ],
   "source": [
    "data['votes_2'] = data['votes'].apply(lambda x: int(x.replace(',', '')))\n",
    "data.head()"
   ]
  },
  {
   "cell_type": "code",
   "execution_count": 209,
   "id": "51d97b70",
   "metadata": {},
   "outputs": [
    {
     "data": {
      "text/plain": [
       "5178"
      ]
     },
     "execution_count": 209,
     "metadata": {},
     "output_type": "execute_result"
    }
   ],
   "source": [
    "q1 = data['votes_2'].quantile(0.25)\n",
    "q3 = data['votes_2'].quantile(0.75)\n",
    "\n",
    "iqr = q3-q1\n",
    "\n",
    "bottom = q1 - 1.5 * iqr\n",
    "top = q3 + 1.5 * iqr\n",
    "\n",
    "len(data[data['votes_2'] <= top]['title'].unique())"
   ]
  },
  {
   "cell_type": "markdown",
   "id": "444eda04",
   "metadata": {},
   "source": [
    "**9. *(0.25 балла)* Посчитайте среднее и медиану по рейтингу до и после удаления выбросов (предыдущий пункт). Как изменились меры?**"
   ]
  },
  {
   "cell_type": "code",
   "execution_count": 210,
   "id": "4b53d0e9",
   "metadata": {},
   "outputs": [
    {
     "name": "stdout",
     "output_type": "stream",
     "text": [
      "6.708567708333334 6.8\n",
      "6.640713178294566 6.8\n"
     ]
    }
   ],
   "source": [
    "no_outliners = data[data['votes_2'] <= top]\n",
    "\n",
    "print(data['rating'].mean(), data['rating'].median())\n",
    "print(no_outliners['rating'].mean(), no_outliners['rating'].median())"
   ]
  },
  {
   "cell_type": "markdown",
   "id": "fa5ee478",
   "metadata": {},
   "source": [
    "**10. *(0.25 балла)* Укажите фильм с максимальным количеством голсов.**"
   ]
  },
  {
   "cell_type": "code",
   "execution_count": 211,
   "id": "32b10bae",
   "metadata": {},
   "outputs": [
    {
     "data": {
      "text/html": [
       "<div>\n",
       "<style scoped>\n",
       "    .dataframe tbody tr th:only-of-type {\n",
       "        vertical-align: middle;\n",
       "    }\n",
       "\n",
       "    .dataframe tbody tr th {\n",
       "        vertical-align: top;\n",
       "    }\n",
       "\n",
       "    .dataframe thead th {\n",
       "        text-align: right;\n",
       "    }\n",
       "</style>\n",
       "<table border=\"1\" class=\"dataframe\">\n",
       "  <thead>\n",
       "    <tr style=\"text-align: right;\">\n",
       "      <th></th>\n",
       "      <th>title</th>\n",
       "      <th>year</th>\n",
       "      <th>certificate</th>\n",
       "      <th>duration</th>\n",
       "      <th>genre</th>\n",
       "      <th>rating</th>\n",
       "      <th>description</th>\n",
       "      <th>stars</th>\n",
       "      <th>votes</th>\n",
       "      <th>dur_new</th>\n",
       "      <th>year_start</th>\n",
       "      <th>votes_2</th>\n",
       "    </tr>\n",
       "  </thead>\n",
       "  <tbody>\n",
       "    <tr>\n",
       "      <th>7645</th>\n",
       "      <td>The Lord of the Rings: The Fellowship of the Ring</td>\n",
       "      <td>(2001)</td>\n",
       "      <td>PG-13</td>\n",
       "      <td>178 min</td>\n",
       "      <td>Action, Adventure, Drama</td>\n",
       "      <td>8.8</td>\n",
       "      <td>A meek Hobbit from the Shire and eight compani...</td>\n",
       "      <td>['Peter Jackson', '| ', '    Stars:', 'Elijah ...</td>\n",
       "      <td>1,844,075</td>\n",
       "      <td>178</td>\n",
       "      <td>2001</td>\n",
       "      <td>1844075</td>\n",
       "    </tr>\n",
       "  </tbody>\n",
       "</table>\n",
       "</div>"
      ],
      "text/plain": [
       "                                                  title    year certificate  \\\n",
       "7645  The Lord of the Rings: The Fellowship of the Ring  (2001)       PG-13   \n",
       "\n",
       "     duration                     genre  rating  \\\n",
       "7645  178 min  Action, Adventure, Drama     8.8   \n",
       "\n",
       "                                            description  \\\n",
       "7645  A meek Hobbit from the Shire and eight compani...   \n",
       "\n",
       "                                                  stars      votes  dur_new  \\\n",
       "7645  ['Peter Jackson', '| ', '    Stars:', 'Elijah ...  1,844,075      178   \n",
       "\n",
       "      year_start  votes_2  \n",
       "7645        2001  1844075  "
      ]
     },
     "execution_count": 211,
     "metadata": {},
     "output_type": "execute_result"
    }
   ],
   "source": [
    "data[data['votes_2'] == data['votes_2'].max()]"
   ]
  },
  {
   "cell_type": "markdown",
   "id": "f8052885",
   "metadata": {},
   "source": [
    "**11. *(0.5 балла)* Постройте корреляционную матрицу для рейтига, количества голосов и длительности фильма. Прокомментируйте каждый коэффициент корреляции (укажите тип взаимосвязи и силу).**"
   ]
  },
  {
   "cell_type": "code",
   "execution_count": 200,
   "id": "4f63bc1e",
   "metadata": {},
   "outputs": [
    {
     "data": {
      "text/html": [
       "<div>\n",
       "<style scoped>\n",
       "    .dataframe tbody tr th:only-of-type {\n",
       "        vertical-align: middle;\n",
       "    }\n",
       "\n",
       "    .dataframe tbody tr th {\n",
       "        vertical-align: top;\n",
       "    }\n",
       "\n",
       "    .dataframe thead th {\n",
       "        text-align: right;\n",
       "    }\n",
       "</style>\n",
       "<table border=\"1\" class=\"dataframe\">\n",
       "  <thead>\n",
       "    <tr style=\"text-align: right;\">\n",
       "      <th></th>\n",
       "      <th>rating</th>\n",
       "      <th>votes_2</th>\n",
       "      <th>dur_new</th>\n",
       "    </tr>\n",
       "  </thead>\n",
       "  <tbody>\n",
       "    <tr>\n",
       "      <th>rating</th>\n",
       "      <td>1.000000</td>\n",
       "      <td>0.161555</td>\n",
       "      <td>-0.166247</td>\n",
       "    </tr>\n",
       "    <tr>\n",
       "      <th>votes_2</th>\n",
       "      <td>0.161555</td>\n",
       "      <td>1.000000</td>\n",
       "      <td>0.107793</td>\n",
       "    </tr>\n",
       "    <tr>\n",
       "      <th>dur_new</th>\n",
       "      <td>-0.166247</td>\n",
       "      <td>0.107793</td>\n",
       "      <td>1.000000</td>\n",
       "    </tr>\n",
       "  </tbody>\n",
       "</table>\n",
       "</div>"
      ],
      "text/plain": [
       "           rating   votes_2   dur_new\n",
       "rating   1.000000  0.161555 -0.166247\n",
       "votes_2  0.161555  1.000000  0.107793\n",
       "dur_new -0.166247  0.107793  1.000000"
      ]
     },
     "execution_count": 200,
     "metadata": {},
     "output_type": "execute_result"
    }
   ],
   "source": [
    "data[['rating', 'votes_2', 'dur_new']].corr()\n",
    "# rating x votes_2 -- прямая, слабая\n",
    "# rating x dur_new -- обратная, слабая\n",
    "# votes_2 x dur_new -- прямая, слабая"
   ]
  },
  {
   "cell_type": "markdown",
   "id": "3835937f",
   "metadata": {},
   "source": [
    "**12. *(0.25 балла)* Сколько в данных фильмов с рейтингом выше среднего?**"
   ]
  },
  {
   "cell_type": "code",
   "execution_count": 204,
   "id": "6be93c16",
   "metadata": {},
   "outputs": [
    {
     "data": {
      "text/plain": [
       "2865"
      ]
     },
     "execution_count": 204,
     "metadata": {},
     "output_type": "execute_result"
    }
   ],
   "source": [
    "len(data[data['rating'] > data['rating'].mean()]['title'].unique())"
   ]
  },
  {
   "cell_type": "markdown",
   "id": "7aa6fbe7",
   "metadata": {},
   "source": [
    "**13. *(0.5 балла)* Выберите все фильмы, в описании которых есть слово love. У какого фильма наибольший рейтинг? У какого фильма наибольшее количество голосов? В каком году было выпущено большинство из них?**"
   ]
  },
  {
   "cell_type": "code",
   "execution_count": 216,
   "id": "dc3185ef",
   "metadata": {},
   "outputs": [
    {
     "data": {
      "text/html": [
       "<div>\n",
       "<style scoped>\n",
       "    .dataframe tbody tr th:only-of-type {\n",
       "        vertical-align: middle;\n",
       "    }\n",
       "\n",
       "    .dataframe tbody tr th {\n",
       "        vertical-align: top;\n",
       "    }\n",
       "\n",
       "    .dataframe thead th {\n",
       "        text-align: right;\n",
       "    }\n",
       "</style>\n",
       "<table border=\"1\" class=\"dataframe\">\n",
       "  <thead>\n",
       "    <tr style=\"text-align: right;\">\n",
       "      <th></th>\n",
       "      <th>title</th>\n",
       "      <th>year</th>\n",
       "      <th>certificate</th>\n",
       "      <th>duration</th>\n",
       "      <th>genre</th>\n",
       "      <th>rating</th>\n",
       "      <th>description</th>\n",
       "      <th>stars</th>\n",
       "      <th>votes</th>\n",
       "      <th>dur_new</th>\n",
       "      <th>year_start</th>\n",
       "      <th>votes_2</th>\n",
       "    </tr>\n",
       "  </thead>\n",
       "  <tbody>\n",
       "    <tr>\n",
       "      <th>56</th>\n",
       "      <td>The Vampire Diaries</td>\n",
       "      <td>(2009–2017)</td>\n",
       "      <td>TV-14</td>\n",
       "      <td>43 min</td>\n",
       "      <td>Drama, Fantasy, Horror</td>\n",
       "      <td>7.7</td>\n",
       "      <td>The lives, loves, dangers and disasters in the...</td>\n",
       "      <td>['Nina Dobrev, ', 'Paul Wesley, ', 'Ian Somerh...</td>\n",
       "      <td>318,383</td>\n",
       "      <td>43</td>\n",
       "      <td>2009</td>\n",
       "      <td>318383</td>\n",
       "    </tr>\n",
       "    <tr>\n",
       "      <th>61</th>\n",
       "      <td>Diario de un Gigoló</td>\n",
       "      <td>(2022)</td>\n",
       "      <td>TV-MA</td>\n",
       "      <td>50 min</td>\n",
       "      <td>Drama</td>\n",
       "      <td>6.3</td>\n",
       "      <td>A gigolo's life begins to unravel when he beco...</td>\n",
       "      <td>['Jesús Castro, ', 'Victoria White, ', 'Fabiol...</td>\n",
       "      <td>538</td>\n",
       "      <td>50</td>\n",
       "      <td>2022</td>\n",
       "      <td>538</td>\n",
       "    </tr>\n",
       "    <tr>\n",
       "      <th>63</th>\n",
       "      <td>Heartbreak High</td>\n",
       "      <td>(2022– )</td>\n",
       "      <td>TV-MA</td>\n",
       "      <td>50 min</td>\n",
       "      <td>Drama, Romance</td>\n",
       "      <td>7.6</td>\n",
       "      <td>A fresh look at Hartley High over 20 years on....</td>\n",
       "      <td>['Ayesha Madon, ', 'James Majoos, ', 'Chloe Ha...</td>\n",
       "      <td>1,502</td>\n",
       "      <td>50</td>\n",
       "      <td>2022</td>\n",
       "      <td>1502</td>\n",
       "    </tr>\n",
       "    <tr>\n",
       "      <th>88</th>\n",
       "      <td>365 Days</td>\n",
       "      <td>(2020)</td>\n",
       "      <td>TV-MA</td>\n",
       "      <td>114 min</td>\n",
       "      <td>Drama, Romance</td>\n",
       "      <td>3.3</td>\n",
       "      <td>Massimo is a member of the Sicilian Mafia fami...</td>\n",
       "      <td>['Barbara Bialowas, ', 'Tomasz Mandes', '| ', ...</td>\n",
       "      <td>89,071</td>\n",
       "      <td>114</td>\n",
       "      <td>2020</td>\n",
       "      <td>89071</td>\n",
       "    </tr>\n",
       "    <tr>\n",
       "      <th>90</th>\n",
       "      <td>Titanic</td>\n",
       "      <td>(1997)</td>\n",
       "      <td>PG-13</td>\n",
       "      <td>194 min</td>\n",
       "      <td>Drama, Romance</td>\n",
       "      <td>7.9</td>\n",
       "      <td>A seventeen-year-old aristocrat falls in love ...</td>\n",
       "      <td>['James Cameron', '| ', '    Stars:', 'Leonard...</td>\n",
       "      <td>1,158,746</td>\n",
       "      <td>194</td>\n",
       "      <td>1997</td>\n",
       "      <td>1158746</td>\n",
       "    </tr>\n",
       "  </tbody>\n",
       "</table>\n",
       "</div>"
      ],
      "text/plain": [
       "                  title         year certificate duration  \\\n",
       "56  The Vampire Diaries  (2009–2017)       TV-14   43 min   \n",
       "61  Diario de un Gigoló       (2022)       TV-MA   50 min   \n",
       "63      Heartbreak High     (2022– )       TV-MA   50 min   \n",
       "88             365 Days       (2020)       TV-MA  114 min   \n",
       "90              Titanic       (1997)       PG-13  194 min   \n",
       "\n",
       "                     genre  rating  \\\n",
       "56  Drama, Fantasy, Horror     7.7   \n",
       "61                   Drama     6.3   \n",
       "63          Drama, Romance     7.6   \n",
       "88          Drama, Romance     3.3   \n",
       "90          Drama, Romance     7.9   \n",
       "\n",
       "                                          description  \\\n",
       "56  The lives, loves, dangers and disasters in the...   \n",
       "61  A gigolo's life begins to unravel when he beco...   \n",
       "63  A fresh look at Hartley High over 20 years on....   \n",
       "88  Massimo is a member of the Sicilian Mafia fami...   \n",
       "90  A seventeen-year-old aristocrat falls in love ...   \n",
       "\n",
       "                                                stars      votes  dur_new  \\\n",
       "56  ['Nina Dobrev, ', 'Paul Wesley, ', 'Ian Somerh...    318,383       43   \n",
       "61  ['Jesús Castro, ', 'Victoria White, ', 'Fabiol...        538       50   \n",
       "63  ['Ayesha Madon, ', 'James Majoos, ', 'Chloe Ha...      1,502       50   \n",
       "88  ['Barbara Bialowas, ', 'Tomasz Mandes', '| ', ...     89,071      114   \n",
       "90  ['James Cameron', '| ', '    Stars:', 'Leonard...  1,158,746      194   \n",
       "\n",
       "    year_start  votes_2  \n",
       "56        2009   318383  \n",
       "61        2022      538  \n",
       "63        2022     1502  \n",
       "88        2020    89071  \n",
       "90        1997  1158746  "
      ]
     },
     "execution_count": 216,
     "metadata": {},
     "output_type": "execute_result"
    }
   ],
   "source": [
    "love = data[data['description'].str.contains('love')]\n",
    "love.head()"
   ]
  },
  {
   "cell_type": "code",
   "execution_count": 217,
   "id": "e325554a",
   "metadata": {},
   "outputs": [
    {
     "data": {
      "text/html": [
       "<div>\n",
       "<style scoped>\n",
       "    .dataframe tbody tr th:only-of-type {\n",
       "        vertical-align: middle;\n",
       "    }\n",
       "\n",
       "    .dataframe tbody tr th {\n",
       "        vertical-align: top;\n",
       "    }\n",
       "\n",
       "    .dataframe thead th {\n",
       "        text-align: right;\n",
       "    }\n",
       "</style>\n",
       "<table border=\"1\" class=\"dataframe\">\n",
       "  <thead>\n",
       "    <tr style=\"text-align: right;\">\n",
       "      <th></th>\n",
       "      <th>title</th>\n",
       "      <th>year</th>\n",
       "      <th>certificate</th>\n",
       "      <th>duration</th>\n",
       "      <th>genre</th>\n",
       "      <th>rating</th>\n",
       "      <th>description</th>\n",
       "      <th>stars</th>\n",
       "      <th>votes</th>\n",
       "      <th>dur_new</th>\n",
       "      <th>year_start</th>\n",
       "      <th>votes_2</th>\n",
       "    </tr>\n",
       "  </thead>\n",
       "  <tbody>\n",
       "    <tr>\n",
       "      <th>6530</th>\n",
       "      <td>Dexter</td>\n",
       "      <td>(2006–2013)</td>\n",
       "      <td>TV-MA</td>\n",
       "      <td>56 min</td>\n",
       "      <td>Crime, Drama, Mystery</td>\n",
       "      <td>9.6</td>\n",
       "      <td>In the Season One finale, Dexter follows the c...</td>\n",
       "      <td>['Michael Cuesta', '| ', '    Stars:', 'Michae...</td>\n",
       "      <td>10,604</td>\n",
       "      <td>56</td>\n",
       "      <td>2006</td>\n",
       "      <td>10604</td>\n",
       "    </tr>\n",
       "  </tbody>\n",
       "</table>\n",
       "</div>"
      ],
      "text/plain": [
       "       title         year certificate duration                  genre  rating  \\\n",
       "6530  Dexter  (2006–2013)       TV-MA   56 min  Crime, Drama, Mystery     9.6   \n",
       "\n",
       "                                            description  \\\n",
       "6530  In the Season One finale, Dexter follows the c...   \n",
       "\n",
       "                                                  stars   votes  dur_new  \\\n",
       "6530  ['Michael Cuesta', '| ', '    Stars:', 'Michae...  10,604       56   \n",
       "\n",
       "      year_start  votes_2  \n",
       "6530        2006    10604  "
      ]
     },
     "execution_count": 217,
     "metadata": {},
     "output_type": "execute_result"
    }
   ],
   "source": [
    "love[love['rating'] == max(love['rating'])]"
   ]
  },
  {
   "cell_type": "code",
   "execution_count": 218,
   "id": "50773d88",
   "metadata": {},
   "outputs": [
    {
     "data": {
      "text/html": [
       "<div>\n",
       "<style scoped>\n",
       "    .dataframe tbody tr th:only-of-type {\n",
       "        vertical-align: middle;\n",
       "    }\n",
       "\n",
       "    .dataframe tbody tr th {\n",
       "        vertical-align: top;\n",
       "    }\n",
       "\n",
       "    .dataframe thead th {\n",
       "        text-align: right;\n",
       "    }\n",
       "</style>\n",
       "<table border=\"1\" class=\"dataframe\">\n",
       "  <thead>\n",
       "    <tr style=\"text-align: right;\">\n",
       "      <th></th>\n",
       "      <th>title</th>\n",
       "      <th>year</th>\n",
       "      <th>certificate</th>\n",
       "      <th>duration</th>\n",
       "      <th>genre</th>\n",
       "      <th>rating</th>\n",
       "      <th>description</th>\n",
       "      <th>stars</th>\n",
       "      <th>votes</th>\n",
       "      <th>dur_new</th>\n",
       "      <th>year_start</th>\n",
       "      <th>votes_2</th>\n",
       "    </tr>\n",
       "  </thead>\n",
       "  <tbody>\n",
       "    <tr>\n",
       "      <th>90</th>\n",
       "      <td>Titanic</td>\n",
       "      <td>(1997)</td>\n",
       "      <td>PG-13</td>\n",
       "      <td>194 min</td>\n",
       "      <td>Drama, Romance</td>\n",
       "      <td>7.9</td>\n",
       "      <td>A seventeen-year-old aristocrat falls in love ...</td>\n",
       "      <td>['James Cameron', '| ', '    Stars:', 'Leonard...</td>\n",
       "      <td>1,158,746</td>\n",
       "      <td>194</td>\n",
       "      <td>1997</td>\n",
       "      <td>1158746</td>\n",
       "    </tr>\n",
       "  </tbody>\n",
       "</table>\n",
       "</div>"
      ],
      "text/plain": [
       "      title    year certificate duration           genre  rating  \\\n",
       "90  Titanic  (1997)       PG-13  194 min  Drama, Romance     7.9   \n",
       "\n",
       "                                          description  \\\n",
       "90  A seventeen-year-old aristocrat falls in love ...   \n",
       "\n",
       "                                                stars      votes  dur_new  \\\n",
       "90  ['James Cameron', '| ', '    Stars:', 'Leonard...  1,158,746      194   \n",
       "\n",
       "    year_start  votes_2  \n",
       "90        1997  1158746  "
      ]
     },
     "execution_count": 218,
     "metadata": {},
     "output_type": "execute_result"
    }
   ],
   "source": [
    "love[love['votes_2'] == max(love['votes_2'])]"
   ]
  },
  {
   "cell_type": "code",
   "execution_count": 219,
   "id": "23477879",
   "metadata": {},
   "outputs": [
    {
     "data": {
      "text/plain": [
       "0    2020\n",
       "Name: year_start, dtype: int64"
      ]
     },
     "execution_count": 219,
     "metadata": {},
     "output_type": "execute_result"
    }
   ],
   "source": [
    "love['year_start'].mode()"
   ]
  },
  {
   "cell_type": "markdown",
   "id": "00477f0c",
   "metadata": {},
   "source": [
    "## Часть 3. Визуализация"
   ]
  },
  {
   "cell_type": "markdown",
   "id": "72d76a70",
   "metadata": {},
   "source": [
    "**13. *(1.5 балла)* Постройте линейный график, где по оси Х -- года, по оси Y -- количество фильмов за каждый год.**\n",
    "\n",
    "1. Сгруппируйте данные по годам, по столбцу title посмотрите на .count(). Сделайте из этого датафрейм (вспоминаем функцию DataFrame()).\n",
    "2. Используйте функцию Scatter(), где в качестве х укажите индексы нового датафрейма, а по у -- его единственный столбец title.\n",
    "3. Поменяйте цвет линии. Добавьте загловок, подпись осей.  "
   ]
  },
  {
   "cell_type": "code",
   "execution_count": 238,
   "id": "02800c35",
   "metadata": {},
   "outputs": [
    {
     "data": {
      "text/html": [
       "<div>\n",
       "<style scoped>\n",
       "    .dataframe tbody tr th:only-of-type {\n",
       "        vertical-align: middle;\n",
       "    }\n",
       "\n",
       "    .dataframe tbody tr th {\n",
       "        vertical-align: top;\n",
       "    }\n",
       "\n",
       "    .dataframe thead th {\n",
       "        text-align: right;\n",
       "    }\n",
       "</style>\n",
       "<table border=\"1\" class=\"dataframe\">\n",
       "  <thead>\n",
       "    <tr style=\"text-align: right;\">\n",
       "      <th></th>\n",
       "      <th>title</th>\n",
       "    </tr>\n",
       "    <tr>\n",
       "      <th>year_start</th>\n",
       "      <th></th>\n",
       "    </tr>\n",
       "  </thead>\n",
       "  <tbody>\n",
       "    <tr>\n",
       "      <th>1932</th>\n",
       "      <td>2</td>\n",
       "    </tr>\n",
       "    <tr>\n",
       "      <th>1933</th>\n",
       "      <td>1</td>\n",
       "    </tr>\n",
       "    <tr>\n",
       "      <th>1934</th>\n",
       "      <td>1</td>\n",
       "    </tr>\n",
       "    <tr>\n",
       "      <th>1935</th>\n",
       "      <td>1</td>\n",
       "    </tr>\n",
       "    <tr>\n",
       "      <th>1938</th>\n",
       "      <td>1</td>\n",
       "    </tr>\n",
       "  </tbody>\n",
       "</table>\n",
       "</div>"
      ],
      "text/plain": [
       "            title\n",
       "year_start       \n",
       "1932            2\n",
       "1933            1\n",
       "1934            1\n",
       "1935            1\n",
       "1938            1"
      ]
     },
     "execution_count": 238,
     "metadata": {},
     "output_type": "execute_result"
    }
   ],
   "source": [
    "to_plot = pd.DataFrame(data.groupby('year_start')['title'].count())\n",
    "to_plot.head()"
   ]
  },
  {
   "cell_type": "code",
   "execution_count": 239,
   "id": "576347bb",
   "metadata": {},
   "outputs": [
    {
     "data": {
      "application/vnd.plotly.v1+json": {
       "config": {
        "plotlyServerURL": "https://plot.ly"
       },
       "data": [
        {
         "marker": {
          "color": "grey"
         },
         "type": "scatter",
         "x": [
          1932,
          1933,
          1934,
          1935,
          1938,
          1941,
          1944,
          1945,
          1946,
          1947,
          1948,
          1950,
          1952,
          1953,
          1954,
          1955,
          1956,
          1957,
          1958,
          1959,
          1960,
          1961,
          1962,
          1963,
          1964,
          1965,
          1966,
          1967,
          1968,
          1969,
          1970,
          1971,
          1972,
          1973,
          1974,
          1975,
          1976,
          1977,
          1978,
          1979,
          1980,
          1981,
          1982,
          1983,
          1984,
          1985,
          1986,
          1987,
          1988,
          1989,
          1990,
          1991,
          1992,
          1993,
          1994,
          1995,
          1996,
          1997,
          1998,
          1999,
          2000,
          2001,
          2002,
          2003,
          2004,
          2005,
          2006,
          2007,
          2008,
          2009,
          2010,
          2011,
          2012,
          2013,
          2014,
          2015,
          2016,
          2017,
          2018,
          2019,
          2020,
          2021,
          2022
         ],
         "y": [
          2,
          1,
          1,
          1,
          1,
          1,
          1,
          3,
          3,
          1,
          2,
          4,
          3,
          3,
          3,
          3,
          7,
          1,
          2,
          1,
          4,
          3,
          4,
          1,
          2,
          5,
          8,
          3,
          6,
          8,
          3,
          3,
          2,
          8,
          3,
          7,
          4,
          5,
          6,
          4,
          3,
          1,
          4,
          3,
          5,
          3,
          2,
          7,
          3,
          6,
          9,
          5,
          6,
          12,
          11,
          12,
          8,
          19,
          17,
          10,
          11,
          33,
          107,
          18,
          94,
          145,
          78,
          63,
          64,
          79,
          110,
          137,
          200,
          259,
          344,
          430,
          554,
          697,
          871,
          939,
          908,
          720,
          540
         ]
        }
       ],
       "layout": {
        "template": {
         "data": {
          "bar": [
           {
            "error_x": {
             "color": "#2a3f5f"
            },
            "error_y": {
             "color": "#2a3f5f"
            },
            "marker": {
             "line": {
              "color": "#E5ECF6",
              "width": 0.5
             },
             "pattern": {
              "fillmode": "overlay",
              "size": 10,
              "solidity": 0.2
             }
            },
            "type": "bar"
           }
          ],
          "barpolar": [
           {
            "marker": {
             "line": {
              "color": "#E5ECF6",
              "width": 0.5
             },
             "pattern": {
              "fillmode": "overlay",
              "size": 10,
              "solidity": 0.2
             }
            },
            "type": "barpolar"
           }
          ],
          "carpet": [
           {
            "aaxis": {
             "endlinecolor": "#2a3f5f",
             "gridcolor": "white",
             "linecolor": "white",
             "minorgridcolor": "white",
             "startlinecolor": "#2a3f5f"
            },
            "baxis": {
             "endlinecolor": "#2a3f5f",
             "gridcolor": "white",
             "linecolor": "white",
             "minorgridcolor": "white",
             "startlinecolor": "#2a3f5f"
            },
            "type": "carpet"
           }
          ],
          "choropleth": [
           {
            "colorbar": {
             "outlinewidth": 0,
             "ticks": ""
            },
            "type": "choropleth"
           }
          ],
          "contour": [
           {
            "colorbar": {
             "outlinewidth": 0,
             "ticks": ""
            },
            "colorscale": [
             [
              0,
              "#0d0887"
             ],
             [
              0.1111111111111111,
              "#46039f"
             ],
             [
              0.2222222222222222,
              "#7201a8"
             ],
             [
              0.3333333333333333,
              "#9c179e"
             ],
             [
              0.4444444444444444,
              "#bd3786"
             ],
             [
              0.5555555555555556,
              "#d8576b"
             ],
             [
              0.6666666666666666,
              "#ed7953"
             ],
             [
              0.7777777777777778,
              "#fb9f3a"
             ],
             [
              0.8888888888888888,
              "#fdca26"
             ],
             [
              1,
              "#f0f921"
             ]
            ],
            "type": "contour"
           }
          ],
          "contourcarpet": [
           {
            "colorbar": {
             "outlinewidth": 0,
             "ticks": ""
            },
            "type": "contourcarpet"
           }
          ],
          "heatmap": [
           {
            "colorbar": {
             "outlinewidth": 0,
             "ticks": ""
            },
            "colorscale": [
             [
              0,
              "#0d0887"
             ],
             [
              0.1111111111111111,
              "#46039f"
             ],
             [
              0.2222222222222222,
              "#7201a8"
             ],
             [
              0.3333333333333333,
              "#9c179e"
             ],
             [
              0.4444444444444444,
              "#bd3786"
             ],
             [
              0.5555555555555556,
              "#d8576b"
             ],
             [
              0.6666666666666666,
              "#ed7953"
             ],
             [
              0.7777777777777778,
              "#fb9f3a"
             ],
             [
              0.8888888888888888,
              "#fdca26"
             ],
             [
              1,
              "#f0f921"
             ]
            ],
            "type": "heatmap"
           }
          ],
          "heatmapgl": [
           {
            "colorbar": {
             "outlinewidth": 0,
             "ticks": ""
            },
            "colorscale": [
             [
              0,
              "#0d0887"
             ],
             [
              0.1111111111111111,
              "#46039f"
             ],
             [
              0.2222222222222222,
              "#7201a8"
             ],
             [
              0.3333333333333333,
              "#9c179e"
             ],
             [
              0.4444444444444444,
              "#bd3786"
             ],
             [
              0.5555555555555556,
              "#d8576b"
             ],
             [
              0.6666666666666666,
              "#ed7953"
             ],
             [
              0.7777777777777778,
              "#fb9f3a"
             ],
             [
              0.8888888888888888,
              "#fdca26"
             ],
             [
              1,
              "#f0f921"
             ]
            ],
            "type": "heatmapgl"
           }
          ],
          "histogram": [
           {
            "marker": {
             "pattern": {
              "fillmode": "overlay",
              "size": 10,
              "solidity": 0.2
             }
            },
            "type": "histogram"
           }
          ],
          "histogram2d": [
           {
            "colorbar": {
             "outlinewidth": 0,
             "ticks": ""
            },
            "colorscale": [
             [
              0,
              "#0d0887"
             ],
             [
              0.1111111111111111,
              "#46039f"
             ],
             [
              0.2222222222222222,
              "#7201a8"
             ],
             [
              0.3333333333333333,
              "#9c179e"
             ],
             [
              0.4444444444444444,
              "#bd3786"
             ],
             [
              0.5555555555555556,
              "#d8576b"
             ],
             [
              0.6666666666666666,
              "#ed7953"
             ],
             [
              0.7777777777777778,
              "#fb9f3a"
             ],
             [
              0.8888888888888888,
              "#fdca26"
             ],
             [
              1,
              "#f0f921"
             ]
            ],
            "type": "histogram2d"
           }
          ],
          "histogram2dcontour": [
           {
            "colorbar": {
             "outlinewidth": 0,
             "ticks": ""
            },
            "colorscale": [
             [
              0,
              "#0d0887"
             ],
             [
              0.1111111111111111,
              "#46039f"
             ],
             [
              0.2222222222222222,
              "#7201a8"
             ],
             [
              0.3333333333333333,
              "#9c179e"
             ],
             [
              0.4444444444444444,
              "#bd3786"
             ],
             [
              0.5555555555555556,
              "#d8576b"
             ],
             [
              0.6666666666666666,
              "#ed7953"
             ],
             [
              0.7777777777777778,
              "#fb9f3a"
             ],
             [
              0.8888888888888888,
              "#fdca26"
             ],
             [
              1,
              "#f0f921"
             ]
            ],
            "type": "histogram2dcontour"
           }
          ],
          "mesh3d": [
           {
            "colorbar": {
             "outlinewidth": 0,
             "ticks": ""
            },
            "type": "mesh3d"
           }
          ],
          "parcoords": [
           {
            "line": {
             "colorbar": {
              "outlinewidth": 0,
              "ticks": ""
             }
            },
            "type": "parcoords"
           }
          ],
          "pie": [
           {
            "automargin": true,
            "type": "pie"
           }
          ],
          "scatter": [
           {
            "marker": {
             "colorbar": {
              "outlinewidth": 0,
              "ticks": ""
             }
            },
            "type": "scatter"
           }
          ],
          "scatter3d": [
           {
            "line": {
             "colorbar": {
              "outlinewidth": 0,
              "ticks": ""
             }
            },
            "marker": {
             "colorbar": {
              "outlinewidth": 0,
              "ticks": ""
             }
            },
            "type": "scatter3d"
           }
          ],
          "scattercarpet": [
           {
            "marker": {
             "colorbar": {
              "outlinewidth": 0,
              "ticks": ""
             }
            },
            "type": "scattercarpet"
           }
          ],
          "scattergeo": [
           {
            "marker": {
             "colorbar": {
              "outlinewidth": 0,
              "ticks": ""
             }
            },
            "type": "scattergeo"
           }
          ],
          "scattergl": [
           {
            "marker": {
             "colorbar": {
              "outlinewidth": 0,
              "ticks": ""
             }
            },
            "type": "scattergl"
           }
          ],
          "scattermapbox": [
           {
            "marker": {
             "colorbar": {
              "outlinewidth": 0,
              "ticks": ""
             }
            },
            "type": "scattermapbox"
           }
          ],
          "scatterpolar": [
           {
            "marker": {
             "colorbar": {
              "outlinewidth": 0,
              "ticks": ""
             }
            },
            "type": "scatterpolar"
           }
          ],
          "scatterpolargl": [
           {
            "marker": {
             "colorbar": {
              "outlinewidth": 0,
              "ticks": ""
             }
            },
            "type": "scatterpolargl"
           }
          ],
          "scatterternary": [
           {
            "marker": {
             "colorbar": {
              "outlinewidth": 0,
              "ticks": ""
             }
            },
            "type": "scatterternary"
           }
          ],
          "surface": [
           {
            "colorbar": {
             "outlinewidth": 0,
             "ticks": ""
            },
            "colorscale": [
             [
              0,
              "#0d0887"
             ],
             [
              0.1111111111111111,
              "#46039f"
             ],
             [
              0.2222222222222222,
              "#7201a8"
             ],
             [
              0.3333333333333333,
              "#9c179e"
             ],
             [
              0.4444444444444444,
              "#bd3786"
             ],
             [
              0.5555555555555556,
              "#d8576b"
             ],
             [
              0.6666666666666666,
              "#ed7953"
             ],
             [
              0.7777777777777778,
              "#fb9f3a"
             ],
             [
              0.8888888888888888,
              "#fdca26"
             ],
             [
              1,
              "#f0f921"
             ]
            ],
            "type": "surface"
           }
          ],
          "table": [
           {
            "cells": {
             "fill": {
              "color": "#EBF0F8"
             },
             "line": {
              "color": "white"
             }
            },
            "header": {
             "fill": {
              "color": "#C8D4E3"
             },
             "line": {
              "color": "white"
             }
            },
            "type": "table"
           }
          ]
         },
         "layout": {
          "annotationdefaults": {
           "arrowcolor": "#2a3f5f",
           "arrowhead": 0,
           "arrowwidth": 1
          },
          "autotypenumbers": "strict",
          "coloraxis": {
           "colorbar": {
            "outlinewidth": 0,
            "ticks": ""
           }
          },
          "colorscale": {
           "diverging": [
            [
             0,
             "#8e0152"
            ],
            [
             0.1,
             "#c51b7d"
            ],
            [
             0.2,
             "#de77ae"
            ],
            [
             0.3,
             "#f1b6da"
            ],
            [
             0.4,
             "#fde0ef"
            ],
            [
             0.5,
             "#f7f7f7"
            ],
            [
             0.6,
             "#e6f5d0"
            ],
            [
             0.7,
             "#b8e186"
            ],
            [
             0.8,
             "#7fbc41"
            ],
            [
             0.9,
             "#4d9221"
            ],
            [
             1,
             "#276419"
            ]
           ],
           "sequential": [
            [
             0,
             "#0d0887"
            ],
            [
             0.1111111111111111,
             "#46039f"
            ],
            [
             0.2222222222222222,
             "#7201a8"
            ],
            [
             0.3333333333333333,
             "#9c179e"
            ],
            [
             0.4444444444444444,
             "#bd3786"
            ],
            [
             0.5555555555555556,
             "#d8576b"
            ],
            [
             0.6666666666666666,
             "#ed7953"
            ],
            [
             0.7777777777777778,
             "#fb9f3a"
            ],
            [
             0.8888888888888888,
             "#fdca26"
            ],
            [
             1,
             "#f0f921"
            ]
           ],
           "sequentialminus": [
            [
             0,
             "#0d0887"
            ],
            [
             0.1111111111111111,
             "#46039f"
            ],
            [
             0.2222222222222222,
             "#7201a8"
            ],
            [
             0.3333333333333333,
             "#9c179e"
            ],
            [
             0.4444444444444444,
             "#bd3786"
            ],
            [
             0.5555555555555556,
             "#d8576b"
            ],
            [
             0.6666666666666666,
             "#ed7953"
            ],
            [
             0.7777777777777778,
             "#fb9f3a"
            ],
            [
             0.8888888888888888,
             "#fdca26"
            ],
            [
             1,
             "#f0f921"
            ]
           ]
          },
          "colorway": [
           "#636efa",
           "#EF553B",
           "#00cc96",
           "#ab63fa",
           "#FFA15A",
           "#19d3f3",
           "#FF6692",
           "#B6E880",
           "#FF97FF",
           "#FECB52"
          ],
          "font": {
           "color": "#2a3f5f"
          },
          "geo": {
           "bgcolor": "white",
           "lakecolor": "white",
           "landcolor": "#E5ECF6",
           "showlakes": true,
           "showland": true,
           "subunitcolor": "white"
          },
          "hoverlabel": {
           "align": "left"
          },
          "hovermode": "closest",
          "mapbox": {
           "style": "light"
          },
          "paper_bgcolor": "white",
          "plot_bgcolor": "#E5ECF6",
          "polar": {
           "angularaxis": {
            "gridcolor": "white",
            "linecolor": "white",
            "ticks": ""
           },
           "bgcolor": "#E5ECF6",
           "radialaxis": {
            "gridcolor": "white",
            "linecolor": "white",
            "ticks": ""
           }
          },
          "scene": {
           "xaxis": {
            "backgroundcolor": "#E5ECF6",
            "gridcolor": "white",
            "gridwidth": 2,
            "linecolor": "white",
            "showbackground": true,
            "ticks": "",
            "zerolinecolor": "white"
           },
           "yaxis": {
            "backgroundcolor": "#E5ECF6",
            "gridcolor": "white",
            "gridwidth": 2,
            "linecolor": "white",
            "showbackground": true,
            "ticks": "",
            "zerolinecolor": "white"
           },
           "zaxis": {
            "backgroundcolor": "#E5ECF6",
            "gridcolor": "white",
            "gridwidth": 2,
            "linecolor": "white",
            "showbackground": true,
            "ticks": "",
            "zerolinecolor": "white"
           }
          },
          "shapedefaults": {
           "line": {
            "color": "#2a3f5f"
           }
          },
          "ternary": {
           "aaxis": {
            "gridcolor": "white",
            "linecolor": "white",
            "ticks": ""
           },
           "baxis": {
            "gridcolor": "white",
            "linecolor": "white",
            "ticks": ""
           },
           "bgcolor": "#E5ECF6",
           "caxis": {
            "gridcolor": "white",
            "linecolor": "white",
            "ticks": ""
           }
          },
          "title": {
           "x": 0.05
          },
          "xaxis": {
           "automargin": true,
           "gridcolor": "white",
           "linecolor": "white",
           "ticks": "",
           "title": {
            "standoff": 15
           },
           "zerolinecolor": "white",
           "zerolinewidth": 2
          },
          "yaxis": {
           "automargin": true,
           "gridcolor": "white",
           "linecolor": "white",
           "ticks": "",
           "title": {
            "standoff": 15
           },
           "zerolinecolor": "white",
           "zerolinewidth": 2
          }
         }
        },
        "title": {
         "text": "Количество фильмов по годам"
        },
        "xaxis": {
         "title": {
          "text": "Год"
         }
        },
        "yaxis": {
         "title": {
          "text": "Фильмы"
         }
        }
       }
      },
      "text/html": [
       "<div>                            <div id=\"7888c70d-15c8-4696-b672-51e95903881c\" class=\"plotly-graph-div\" style=\"height:525px; width:100%;\"></div>            <script type=\"text/javascript\">                require([\"plotly\"], function(Plotly) {                    window.PLOTLYENV=window.PLOTLYENV || {};                                    if (document.getElementById(\"7888c70d-15c8-4696-b672-51e95903881c\")) {                    Plotly.newPlot(                        \"7888c70d-15c8-4696-b672-51e95903881c\",                        [{\"marker\":{\"color\":\"grey\"},\"x\":[1932,1933,1934,1935,1938,1941,1944,1945,1946,1947,1948,1950,1952,1953,1954,1955,1956,1957,1958,1959,1960,1961,1962,1963,1964,1965,1966,1967,1968,1969,1970,1971,1972,1973,1974,1975,1976,1977,1978,1979,1980,1981,1982,1983,1984,1985,1986,1987,1988,1989,1990,1991,1992,1993,1994,1995,1996,1997,1998,1999,2000,2001,2002,2003,2004,2005,2006,2007,2008,2009,2010,2011,2012,2013,2014,2015,2016,2017,2018,2019,2020,2021,2022],\"y\":[2,1,1,1,1,1,1,3,3,1,2,4,3,3,3,3,7,1,2,1,4,3,4,1,2,5,8,3,6,8,3,3,2,8,3,7,4,5,6,4,3,1,4,3,5,3,2,7,3,6,9,5,6,12,11,12,8,19,17,10,11,33,107,18,94,145,78,63,64,79,110,137,200,259,344,430,554,697,871,939,908,720,540],\"type\":\"scatter\"}],                        {\"title\":{\"text\":\"\\u041a\\u043e\\u043b\\u0438\\u0447\\u0435\\u0441\\u0442\\u0432\\u043e \\u0444\\u0438\\u043b\\u044c\\u043c\\u043e\\u0432 \\u043f\\u043e \\u0433\\u043e\\u0434\\u0430\\u043c\"},\"xaxis\":{\"title\":{\"text\":\"\\u0413\\u043e\\u0434\"}},\"yaxis\":{\"title\":{\"text\":\"\\u0424\\u0438\\u043b\\u044c\\u043c\\u044b\"}},\"template\":{\"data\":{\"bar\":[{\"error_x\":{\"color\":\"#2a3f5f\"},\"error_y\":{\"color\":\"#2a3f5f\"},\"marker\":{\"line\":{\"color\":\"#E5ECF6\",\"width\":0.5},\"pattern\":{\"fillmode\":\"overlay\",\"size\":10,\"solidity\":0.2}},\"type\":\"bar\"}],\"barpolar\":[{\"marker\":{\"line\":{\"color\":\"#E5ECF6\",\"width\":0.5},\"pattern\":{\"fillmode\":\"overlay\",\"size\":10,\"solidity\":0.2}},\"type\":\"barpolar\"}],\"carpet\":[{\"aaxis\":{\"endlinecolor\":\"#2a3f5f\",\"gridcolor\":\"white\",\"linecolor\":\"white\",\"minorgridcolor\":\"white\",\"startlinecolor\":\"#2a3f5f\"},\"baxis\":{\"endlinecolor\":\"#2a3f5f\",\"gridcolor\":\"white\",\"linecolor\":\"white\",\"minorgridcolor\":\"white\",\"startlinecolor\":\"#2a3f5f\"},\"type\":\"carpet\"}],\"choropleth\":[{\"colorbar\":{\"outlinewidth\":0,\"ticks\":\"\"},\"type\":\"choropleth\"}],\"contour\":[{\"colorbar\":{\"outlinewidth\":0,\"ticks\":\"\"},\"colorscale\":[[0.0,\"#0d0887\"],[0.1111111111111111,\"#46039f\"],[0.2222222222222222,\"#7201a8\"],[0.3333333333333333,\"#9c179e\"],[0.4444444444444444,\"#bd3786\"],[0.5555555555555556,\"#d8576b\"],[0.6666666666666666,\"#ed7953\"],[0.7777777777777778,\"#fb9f3a\"],[0.8888888888888888,\"#fdca26\"],[1.0,\"#f0f921\"]],\"type\":\"contour\"}],\"contourcarpet\":[{\"colorbar\":{\"outlinewidth\":0,\"ticks\":\"\"},\"type\":\"contourcarpet\"}],\"heatmap\":[{\"colorbar\":{\"outlinewidth\":0,\"ticks\":\"\"},\"colorscale\":[[0.0,\"#0d0887\"],[0.1111111111111111,\"#46039f\"],[0.2222222222222222,\"#7201a8\"],[0.3333333333333333,\"#9c179e\"],[0.4444444444444444,\"#bd3786\"],[0.5555555555555556,\"#d8576b\"],[0.6666666666666666,\"#ed7953\"],[0.7777777777777778,\"#fb9f3a\"],[0.8888888888888888,\"#fdca26\"],[1.0,\"#f0f921\"]],\"type\":\"heatmap\"}],\"heatmapgl\":[{\"colorbar\":{\"outlinewidth\":0,\"ticks\":\"\"},\"colorscale\":[[0.0,\"#0d0887\"],[0.1111111111111111,\"#46039f\"],[0.2222222222222222,\"#7201a8\"],[0.3333333333333333,\"#9c179e\"],[0.4444444444444444,\"#bd3786\"],[0.5555555555555556,\"#d8576b\"],[0.6666666666666666,\"#ed7953\"],[0.7777777777777778,\"#fb9f3a\"],[0.8888888888888888,\"#fdca26\"],[1.0,\"#f0f921\"]],\"type\":\"heatmapgl\"}],\"histogram\":[{\"marker\":{\"pattern\":{\"fillmode\":\"overlay\",\"size\":10,\"solidity\":0.2}},\"type\":\"histogram\"}],\"histogram2d\":[{\"colorbar\":{\"outlinewidth\":0,\"ticks\":\"\"},\"colorscale\":[[0.0,\"#0d0887\"],[0.1111111111111111,\"#46039f\"],[0.2222222222222222,\"#7201a8\"],[0.3333333333333333,\"#9c179e\"],[0.4444444444444444,\"#bd3786\"],[0.5555555555555556,\"#d8576b\"],[0.6666666666666666,\"#ed7953\"],[0.7777777777777778,\"#fb9f3a\"],[0.8888888888888888,\"#fdca26\"],[1.0,\"#f0f921\"]],\"type\":\"histogram2d\"}],\"histogram2dcontour\":[{\"colorbar\":{\"outlinewidth\":0,\"ticks\":\"\"},\"colorscale\":[[0.0,\"#0d0887\"],[0.1111111111111111,\"#46039f\"],[0.2222222222222222,\"#7201a8\"],[0.3333333333333333,\"#9c179e\"],[0.4444444444444444,\"#bd3786\"],[0.5555555555555556,\"#d8576b\"],[0.6666666666666666,\"#ed7953\"],[0.7777777777777778,\"#fb9f3a\"],[0.8888888888888888,\"#fdca26\"],[1.0,\"#f0f921\"]],\"type\":\"histogram2dcontour\"}],\"mesh3d\":[{\"colorbar\":{\"outlinewidth\":0,\"ticks\":\"\"},\"type\":\"mesh3d\"}],\"parcoords\":[{\"line\":{\"colorbar\":{\"outlinewidth\":0,\"ticks\":\"\"}},\"type\":\"parcoords\"}],\"pie\":[{\"automargin\":true,\"type\":\"pie\"}],\"scatter\":[{\"marker\":{\"colorbar\":{\"outlinewidth\":0,\"ticks\":\"\"}},\"type\":\"scatter\"}],\"scatter3d\":[{\"line\":{\"colorbar\":{\"outlinewidth\":0,\"ticks\":\"\"}},\"marker\":{\"colorbar\":{\"outlinewidth\":0,\"ticks\":\"\"}},\"type\":\"scatter3d\"}],\"scattercarpet\":[{\"marker\":{\"colorbar\":{\"outlinewidth\":0,\"ticks\":\"\"}},\"type\":\"scattercarpet\"}],\"scattergeo\":[{\"marker\":{\"colorbar\":{\"outlinewidth\":0,\"ticks\":\"\"}},\"type\":\"scattergeo\"}],\"scattergl\":[{\"marker\":{\"colorbar\":{\"outlinewidth\":0,\"ticks\":\"\"}},\"type\":\"scattergl\"}],\"scattermapbox\":[{\"marker\":{\"colorbar\":{\"outlinewidth\":0,\"ticks\":\"\"}},\"type\":\"scattermapbox\"}],\"scatterpolar\":[{\"marker\":{\"colorbar\":{\"outlinewidth\":0,\"ticks\":\"\"}},\"type\":\"scatterpolar\"}],\"scatterpolargl\":[{\"marker\":{\"colorbar\":{\"outlinewidth\":0,\"ticks\":\"\"}},\"type\":\"scatterpolargl\"}],\"scatterternary\":[{\"marker\":{\"colorbar\":{\"outlinewidth\":0,\"ticks\":\"\"}},\"type\":\"scatterternary\"}],\"surface\":[{\"colorbar\":{\"outlinewidth\":0,\"ticks\":\"\"},\"colorscale\":[[0.0,\"#0d0887\"],[0.1111111111111111,\"#46039f\"],[0.2222222222222222,\"#7201a8\"],[0.3333333333333333,\"#9c179e\"],[0.4444444444444444,\"#bd3786\"],[0.5555555555555556,\"#d8576b\"],[0.6666666666666666,\"#ed7953\"],[0.7777777777777778,\"#fb9f3a\"],[0.8888888888888888,\"#fdca26\"],[1.0,\"#f0f921\"]],\"type\":\"surface\"}],\"table\":[{\"cells\":{\"fill\":{\"color\":\"#EBF0F8\"},\"line\":{\"color\":\"white\"}},\"header\":{\"fill\":{\"color\":\"#C8D4E3\"},\"line\":{\"color\":\"white\"}},\"type\":\"table\"}]},\"layout\":{\"annotationdefaults\":{\"arrowcolor\":\"#2a3f5f\",\"arrowhead\":0,\"arrowwidth\":1},\"autotypenumbers\":\"strict\",\"coloraxis\":{\"colorbar\":{\"outlinewidth\":0,\"ticks\":\"\"}},\"colorscale\":{\"diverging\":[[0,\"#8e0152\"],[0.1,\"#c51b7d\"],[0.2,\"#de77ae\"],[0.3,\"#f1b6da\"],[0.4,\"#fde0ef\"],[0.5,\"#f7f7f7\"],[0.6,\"#e6f5d0\"],[0.7,\"#b8e186\"],[0.8,\"#7fbc41\"],[0.9,\"#4d9221\"],[1,\"#276419\"]],\"sequential\":[[0.0,\"#0d0887\"],[0.1111111111111111,\"#46039f\"],[0.2222222222222222,\"#7201a8\"],[0.3333333333333333,\"#9c179e\"],[0.4444444444444444,\"#bd3786\"],[0.5555555555555556,\"#d8576b\"],[0.6666666666666666,\"#ed7953\"],[0.7777777777777778,\"#fb9f3a\"],[0.8888888888888888,\"#fdca26\"],[1.0,\"#f0f921\"]],\"sequentialminus\":[[0.0,\"#0d0887\"],[0.1111111111111111,\"#46039f\"],[0.2222222222222222,\"#7201a8\"],[0.3333333333333333,\"#9c179e\"],[0.4444444444444444,\"#bd3786\"],[0.5555555555555556,\"#d8576b\"],[0.6666666666666666,\"#ed7953\"],[0.7777777777777778,\"#fb9f3a\"],[0.8888888888888888,\"#fdca26\"],[1.0,\"#f0f921\"]]},\"colorway\":[\"#636efa\",\"#EF553B\",\"#00cc96\",\"#ab63fa\",\"#FFA15A\",\"#19d3f3\",\"#FF6692\",\"#B6E880\",\"#FF97FF\",\"#FECB52\"],\"font\":{\"color\":\"#2a3f5f\"},\"geo\":{\"bgcolor\":\"white\",\"lakecolor\":\"white\",\"landcolor\":\"#E5ECF6\",\"showlakes\":true,\"showland\":true,\"subunitcolor\":\"white\"},\"hoverlabel\":{\"align\":\"left\"},\"hovermode\":\"closest\",\"mapbox\":{\"style\":\"light\"},\"paper_bgcolor\":\"white\",\"plot_bgcolor\":\"#E5ECF6\",\"polar\":{\"angularaxis\":{\"gridcolor\":\"white\",\"linecolor\":\"white\",\"ticks\":\"\"},\"bgcolor\":\"#E5ECF6\",\"radialaxis\":{\"gridcolor\":\"white\",\"linecolor\":\"white\",\"ticks\":\"\"}},\"scene\":{\"xaxis\":{\"backgroundcolor\":\"#E5ECF6\",\"gridcolor\":\"white\",\"gridwidth\":2,\"linecolor\":\"white\",\"showbackground\":true,\"ticks\":\"\",\"zerolinecolor\":\"white\"},\"yaxis\":{\"backgroundcolor\":\"#E5ECF6\",\"gridcolor\":\"white\",\"gridwidth\":2,\"linecolor\":\"white\",\"showbackground\":true,\"ticks\":\"\",\"zerolinecolor\":\"white\"},\"zaxis\":{\"backgroundcolor\":\"#E5ECF6\",\"gridcolor\":\"white\",\"gridwidth\":2,\"linecolor\":\"white\",\"showbackground\":true,\"ticks\":\"\",\"zerolinecolor\":\"white\"}},\"shapedefaults\":{\"line\":{\"color\":\"#2a3f5f\"}},\"ternary\":{\"aaxis\":{\"gridcolor\":\"white\",\"linecolor\":\"white\",\"ticks\":\"\"},\"baxis\":{\"gridcolor\":\"white\",\"linecolor\":\"white\",\"ticks\":\"\"},\"bgcolor\":\"#E5ECF6\",\"caxis\":{\"gridcolor\":\"white\",\"linecolor\":\"white\",\"ticks\":\"\"}},\"title\":{\"x\":0.05},\"xaxis\":{\"automargin\":true,\"gridcolor\":\"white\",\"linecolor\":\"white\",\"ticks\":\"\",\"title\":{\"standoff\":15},\"zerolinecolor\":\"white\",\"zerolinewidth\":2},\"yaxis\":{\"automargin\":true,\"gridcolor\":\"white\",\"linecolor\":\"white\",\"ticks\":\"\",\"title\":{\"standoff\":15},\"zerolinecolor\":\"white\",\"zerolinewidth\":2}}}},                        {\"responsive\": true}                    ).then(function(){\n",
       "                            \n",
       "var gd = document.getElementById('7888c70d-15c8-4696-b672-51e95903881c');\n",
       "var x = new MutationObserver(function (mutations, observer) {{\n",
       "        var display = window.getComputedStyle(gd).display;\n",
       "        if (!display || display === 'none') {{\n",
       "            console.log([gd, 'removed!']);\n",
       "            Plotly.purge(gd);\n",
       "            observer.disconnect();\n",
       "        }}\n",
       "}});\n",
       "\n",
       "// Listen for the removal of the full notebook cells\n",
       "var notebookContainer = gd.closest('#notebook-container');\n",
       "if (notebookContainer) {{\n",
       "    x.observe(notebookContainer, {childList: true});\n",
       "}}\n",
       "\n",
       "// Listen for the clearing of the current output cell\n",
       "var outputEl = gd.closest('.output');\n",
       "if (outputEl) {{\n",
       "    x.observe(outputEl, {childList: true});\n",
       "}}\n",
       "\n",
       "                        })                };                });            </script>        </div>"
      ]
     },
     "metadata": {},
     "output_type": "display_data"
    }
   ],
   "source": [
    "trace = go.Scatter(  \n",
    "    x=to_plot.index,\n",
    "    y=to_plot.title,\n",
    "    marker={'color': 'grey'}\n",
    ")\n",
    "\n",
    "our_data = [trace] \n",
    "\n",
    "our_layout = go.Layout(\n",
    "    title=\"Количество фильмов по годам\", \n",
    "    xaxis={'title':'Год'}, \n",
    "    yaxis={'title':'Фильмы'})\n",
    "\n",
    "\n",
    "fig = go.Figure(data=our_data, layout=our_layout)\n",
    "\n",
    "fig.show()"
   ]
  },
  {
   "cell_type": "markdown",
   "id": "4036cf73",
   "metadata": {},
   "source": [
    "## Часть 4. Регулярные выражения\n"
   ]
  },
  {
   "cell_type": "markdown",
   "id": "fda58731",
   "metadata": {},
   "source": [
    "**14. *(2 балла)* Дан текст. Используйте регулярные выражения и вытащите из него следующую информацию:**\n",
    "\n",
    "1. Всех отправителей\n",
    "2. Все даты\n",
    "3. Все время (в формате hh:mm:ss)\n",
    "4. ID сообщения (считаем, что ID -- это первые цифры до точки, например, вот здесь `<200801051412.m05ECIaH010327@nakamura.uits.iupui.edu>` ID -- `200801051412`"
   ]
  },
  {
   "cell_type": "code",
   "execution_count": 249,
   "id": "b2b887bd",
   "metadata": {},
   "outputs": [
    {
     "name": "stdout",
     "output_type": "stream",
     "text": [
      "To: source@collab.sakaiproject.org\n",
      "From: stephen.marquard@uct.ac.za\n",
      "Message-ID: <200801051412.m05ECIaH010327@nakamura.uits.iupui.edu>\n",
      "Date: Sat, 5 Jan 2008 09:12:18\n",
      "To: source@collab.sakaiproject.org\n",
      "From: louis@media.berkeley.edu\n",
      "Message-ID: <200801042308.m04N8v6O008125@nakamura.uits.iupui.edu>\n",
      "Date: Fri, 4 Jan 2008 18:08:57\n",
      "To: source@collab.sakaiproject.org\n",
      "From: zqian@umich.edu\n",
      "Message-ID: <200801042109.m04L92hb007923@nakamura.uits.iupui.edu>\n",
      "Date: Fri, 14 Jan 2008 16:09:02\n",
      "To: source@collab.sakaiproject.org\n",
      "From: rjlowe@iupui.edu\n",
      "Message-ID: <200801042044.m04Kiem3007881@nakamura.uits.iupui.edu>\n",
      "Date: Fri, 4 Jan 2008 15:44:40\n"
     ]
    }
   ],
   "source": [
    "emails = \\\n",
    "'To: source@collab.sakaiproject.org\\n\\\n",
    "From: stephen.marquard@uct.ac.za\\n\\\n",
    "Message-ID: <200801051412.m05ECIaH010327@nakamura.uits.iupui.edu>\\n\\\n",
    "Date: Sat, 5 Jan 2008 09:12:18\\n\\\n",
    "To: source@collab.sakaiproject.org\\n\\\n",
    "From: louis@media.berkeley.edu\\n\\\n",
    "Message-ID: <200801042308.m04N8v6O008125@nakamura.uits.iupui.edu>\\n\\\n",
    "Date: Fri, 4 Jan 2008 18:08:57\\n\\\n",
    "To: source@collab.sakaiproject.org\\n\\\n",
    "From: zqian@umich.edu\\n\\\n",
    "Message-ID: <200801042109.m04L92hb007923@nakamura.uits.iupui.edu>\\n\\\n",
    "Date: Fri, 14 Jan 2008 16:09:02\\n\\\n",
    "To: source@collab.sakaiproject.org\\n\\\n",
    "From: rjlowe@iupui.edu\\n\\\n",
    "Message-ID: <200801042044.m04Kiem3007881@nakamura.uits.iupui.edu>\\n\\\n",
    "Date: Fri, 4 Jan 2008 15:44:40'\n",
    "print(emails)"
   ]
  },
  {
   "cell_type": "code",
   "execution_count": 251,
   "id": "aead9547",
   "metadata": {},
   "outputs": [
    {
     "data": {
      "text/plain": [
       "['stephen.marquard@uct.ac.za',\n",
       " 'louis@media.berkeley.edu',\n",
       " 'zqian@umich.edu',\n",
       " 'rjlowe@iupui.edu']"
      ]
     },
     "execution_count": 251,
     "metadata": {},
     "output_type": "execute_result"
    }
   ],
   "source": [
    "# отправители\n",
    "re.findall(r'From: (.+)\\n', emails)"
   ]
  },
  {
   "cell_type": "code",
   "execution_count": 252,
   "id": "bfccd1ee",
   "metadata": {},
   "outputs": [
    {
     "data": {
      "text/plain": [
       "['5 Jan 2008', '4 Jan 2008', '14 Jan 2008', '4 Jan 2008']"
      ]
     },
     "execution_count": 252,
     "metadata": {},
     "output_type": "execute_result"
    }
   ],
   "source": [
    "# даты\n",
    "re.findall(r'\\d{1,2} \\w{3} \\d{4}', emails)"
   ]
  },
  {
   "cell_type": "code",
   "execution_count": 253,
   "id": "32e111fc",
   "metadata": {},
   "outputs": [
    {
     "data": {
      "text/plain": [
       "['09:12:18', '18:08:57', '16:09:02', '15:44:40']"
      ]
     },
     "execution_count": 253,
     "metadata": {},
     "output_type": "execute_result"
    }
   ],
   "source": [
    "# время\n",
    "re.findall(r'\\d{2}:\\d{2}:\\d{2}', emails)"
   ]
  },
  {
   "cell_type": "code",
   "execution_count": 255,
   "id": "99096928",
   "metadata": {},
   "outputs": [
    {
     "data": {
      "text/plain": [
       "['200801051412', '200801042308', '200801042109', '200801042044']"
      ]
     },
     "execution_count": 255,
     "metadata": {},
     "output_type": "execute_result"
    }
   ],
   "source": [
    "# ID\n",
    "re.findall(r'<(\\d+)\\.', emails)"
   ]
  },
  {
   "cell_type": "markdown",
   "id": "242a3d82",
   "metadata": {},
   "source": [
    "## Часть 5. Работа с html\n",
    "\n",
    "**15. *(2 балла)* Дан кусочек кода страницы новостного сайта. Вытащите из него следующую информацию:**\n",
    "\n",
    "1. Ссылки на новости\n",
    "2. Заголовки новостей\n",
    "3. Время публикации новости\n",
    "\n",
    "**Результаты соберите в таблицу. Назовите колонки. Сохраните получившиеся данные.**"
   ]
  },
  {
   "cell_type": "code",
   "execution_count": 278,
   "id": "771e2bf6",
   "metadata": {},
   "outputs": [
    {
     "name": "stdout",
     "output_type": "stream",
     "text": [
      "<html><body><li class=\"news-listing__item news-listing__item_hot\"><a class=\"news-listing__item-link\" href=\"https://www.mk.ru/politics/2022/10/19/sovfed-utverdil-ukaz-putina-o-voennom-polozhenii-v-novykh-regionakh.html\"><span class=\"news-listing__item-time\">17:32</span><h3 class=\"news-listing__item-title\">Совфед утвердил указ Путина о военном положении в новых регионах</h3></a></li> <li class=\"news-listing__item\"><a class=\"news-listing__item-link\" href=\"https://www.mk.ru/social/2022/10/19/v-rostovskoy-oblasti-zayavili-chto-ne-vvodyat-zapret-na-vezd-i-vyezd.html\"><span class=\"news-listing__item-time\">17:26</span><h3 class=\"news-listing__item-title\">В Ростовской области заявили, что не вводят запрет на въезд и выезд</h3></a></li> <li class=\"news-listing__item\"><a class=\"news-listing__item-link\" href=\"https://www.mk.ru/social/2022/10/19/priluchnyy-vystupil-v-sude-po-delu-ob-izbienii-v-nochnom-klube.html\"><span class=\"news-listing__item-time\">17:25</span><h3 class=\"news-listing__item-title\">Прилучный выступил в суде по делу об избиении в ночном клубе</h3></a></li> <li class=\"news-listing__item\"><a class=\"news-listing__item-link\" href=\"https://www.mk.ru/politics/2022/10/19/sozdatel-chvk-vagner-prigozhin-podtverdil-nachalo-sozdaniya-narodnogo-opolcheniya.html\"><span class=\"news-listing__item-time\">17:22</span><h3 class=\"news-listing__item-title\">Создатель ЧВК «Вагнер» Пригожин подтвердил начало создания народного ополчения</h3></a></li></body></html>\n"
     ]
    }
   ],
   "source": [
    "soup = BeautifulSoup(\n",
    "    '<li class=\"news-listing__item news-listing__item_hot\"><a href=\"https://www.mk.ru/politics/2022/10/19/sovfed-utverdil-ukaz-putina-o-voennom-polozhenii-v-novykh-regionakh.html\" class=\"news-listing__item-link\"><span class=\"news-listing__item-time\">17:32</span><h3 class=\"news-listing__item-title \">Совфед утвердил указ Путина о военном положении в новых регионах</h3></a></li>\\\n",
    "    <li class=\"news-listing__item \"><a href=\"https://www.mk.ru/social/2022/10/19/v-rostovskoy-oblasti-zayavili-chto-ne-vvodyat-zapret-na-vezd-i-vyezd.html\" class=\"news-listing__item-link\"><span class=\"news-listing__item-time\">17:26</span><h3 class=\"news-listing__item-title \">В Ростовской области заявили, что не вводят запрет на въезд и выезд</h3></a></li>\\\n",
    "    <li class=\"news-listing__item \"><a href=\"https://www.mk.ru/social/2022/10/19/priluchnyy-vystupil-v-sude-po-delu-ob-izbienii-v-nochnom-klube.html\" class=\"news-listing__item-link\"><span class=\"news-listing__item-time\">17:25</span><h3 class=\"news-listing__item-title \">Прилучный выступил в суде по делу об избиении в ночном клубе</h3></a></li>\\\n",
    "    <li class=\"news-listing__item \"><a href=\"https://www.mk.ru/politics/2022/10/19/sozdatel-chvk-vagner-prigozhin-podtverdil-nachalo-sozdaniya-narodnogo-opolcheniya.html\" class=\"news-listing__item-link\"><span class=\"news-listing__item-time\">17:22</span><h3 class=\"news-listing__item-title \">Создатель ЧВК «Вагнер» Пригожин подтвердил начало создания народного ополчения</h3></a></li>'\n",
    ")\n",
    "print(soup)"
   ]
  },
  {
   "cell_type": "code",
   "execution_count": 287,
   "id": "429a943b",
   "metadata": {},
   "outputs": [
    {
     "data": {
      "text/plain": [
       "['https://www.mk.ru/politics/2022/10/19/sovfed-utverdil-ukaz-putina-o-voennom-polozhenii-v-novykh-regionakh.html',\n",
       " 'https://www.mk.ru/social/2022/10/19/v-rostovskoy-oblasti-zayavili-chto-ne-vvodyat-zapret-na-vezd-i-vyezd.html',\n",
       " 'https://www.mk.ru/social/2022/10/19/priluchnyy-vystupil-v-sude-po-delu-ob-izbienii-v-nochnom-klube.html',\n",
       " 'https://www.mk.ru/politics/2022/10/19/sozdatel-chvk-vagner-prigozhin-podtverdil-nachalo-sozdaniya-narodnogo-opolcheniya.html']"
      ]
     },
     "execution_count": 287,
     "metadata": {},
     "output_type": "execute_result"
    }
   ],
   "source": [
    "# ссылки\n",
    "urls = [i.get('href') for i in soup.find_all('a')]\n",
    "urls"
   ]
  },
  {
   "cell_type": "code",
   "execution_count": 288,
   "id": "5e75efe3",
   "metadata": {},
   "outputs": [
    {
     "data": {
      "text/plain": [
       "['Совфед утвердил указ Путина о военном положении в новых регионах',\n",
       " 'В Ростовской области заявили, что не вводят запрет на въезд и выезд',\n",
       " 'Прилучный выступил в суде по делу об избиении в ночном клубе',\n",
       " 'Создатель ЧВК «Вагнер» Пригожин подтвердил начало создания народного ополчения']"
      ]
     },
     "execution_count": 288,
     "metadata": {},
     "output_type": "execute_result"
    }
   ],
   "source": [
    "# заголовки новостей\n",
    "title = [i.text for i in soup.find_all('h3')]\n",
    "title"
   ]
  },
  {
   "cell_type": "code",
   "execution_count": 289,
   "id": "6ca001ab",
   "metadata": {},
   "outputs": [
    {
     "data": {
      "text/plain": [
       "['17:32', '17:26', '17:25', '17:22']"
      ]
     },
     "execution_count": 289,
     "metadata": {},
     "output_type": "execute_result"
    }
   ],
   "source": [
    "# время\n",
    "time = [i.text for i in soup.find_all('span')]\n",
    "time"
   ]
  },
  {
   "cell_type": "code",
   "execution_count": 293,
   "id": "f9f16ada",
   "metadata": {},
   "outputs": [],
   "source": [
    "news = pd.DataFrame([urls, title, time]).transpose()\n",
    "news.columns = ['Ссылка', 'Заголовок', 'Время']\n",
    "news.to_csv('news.csv')"
   ]
  }
 ],
 "metadata": {
  "kernelspec": {
   "display_name": "Python 3 (ipykernel)",
   "language": "python",
   "name": "python3"
  },
  "language_info": {
   "codemirror_mode": {
    "name": "ipython",
    "version": 3
   },
   "file_extension": ".py",
   "mimetype": "text/x-python",
   "name": "python",
   "nbconvert_exporter": "python",
   "pygments_lexer": "ipython3",
   "version": "3.9.7"
  }
 },
 "nbformat": 4,
 "nbformat_minor": 5
}
