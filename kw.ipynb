{
 "cells": [
  {
   "cell_type": "markdown",
   "metadata": {},
   "source": [
    "<center>\n",
    "<img src=\"https://mlcourse.ai/_images/ods_stickers.jpg\" />\n",
    "    \n",
    "## [mlcourse.ai](https://mlcourse.ai) – Open Machine Learning Course \n",
    "Author: Arina Lopukhova (@erynn). Edited by [Yury Kashnitskiy](https://yorko.github.io) (@yorko) and Vadim Shestopalov (@vchulski). This material is subject to the terms and conditions of the [Creative Commons CC BY-NC-SA 4.0](https://creativecommons.org/licenses/by-nc-sa/4.0/) license. Free use is permitted for any non-commercial purpose."
   ]
  },
  {
   "cell_type": "markdown",
   "metadata": {},
   "source": [
    "# Контрольная работа | Python \n",
    "    \n",
    "Данные содержат следующие признаки:\n",
    "\n",
    "* `ID` - Unique number for each athlete\n",
    "* `Name` - Athlete's name\n",
    "* `Sex` - M or F\n",
    "* `Age` - Integer\n",
    "* `Height` - In centimeters\n",
    "* `Weight` - In kilograms\n",
    "* `Team` - Team name\n",
    "* `NOC` - National Olympic Committee 3-letter code\n",
    "* `Games` - Year and season\n",
    "* `Year` - Integer\n",
    "* `Season` - Summer or Winter\n",
    "* `City` - Host city\n",
    "* `Sport` - Sport\n",
    "* `Event` - Event\n",
    "* `Medal` - Gold, Silver, Bronze, or NA\n",
    "\n",
    "**Можно пользоваться только документацией по pandas (обратите внимание, что там есть поиск)** https://pandas.pydata.org/docs/user_guide/10min.html \n",
    "\n",
    "**Загружать сюда файл .ipynb https://www.dropbox.com/request/xgfKc5lqdFyESup0UZNv**"
   ]
  },
  {
   "cell_type": "markdown",
   "metadata": {},
   "source": [
    "**1. *(0.25 балла)* Загрузите данные.**\n",
    "\n",
    "Ссылка на данные: https://raw.githubusercontent.com/rogovich/Data/master/data/olympics/athlete_events.csv"
   ]
  },
  {
   "cell_type": "code",
   "execution_count": 1,
   "metadata": {},
   "outputs": [],
   "source": [
    "# your code here"
   ]
  },
  {
   "cell_type": "markdown",
   "metadata": {},
   "source": [
    "**2. *(0.5 балла)* Посчитайте сколько стран (NOC) участвовало в 1988 году на Олимпиаде. Какая страна отправила больше всего спортсменов?**"
   ]
  },
  {
   "cell_type": "code",
   "execution_count": 2,
   "metadata": {},
   "outputs": [],
   "source": [
    "# your code here"
   ]
  },
  {
   "cell_type": "markdown",
   "metadata": {},
   "source": [
    "**3. *(0.5 балла)* Какая страна завоевала больше всего золотых/серебряных/бронзовых медалей?**"
   ]
  },
  {
   "cell_type": "code",
   "execution_count": 3,
   "metadata": {},
   "outputs": [],
   "source": [
    "# your code here"
   ]
  },
  {
   "cell_type": "markdown",
   "metadata": {},
   "source": [
    "**3. *(0.75 балла)*  Определите сколько медалей различного достоинства получали мужчины/женщины. Результат выведите в виде таблицы. Выберите наиболее подходящий вариант визуализации и проиллюстрируйте результат.**\n",
    "\n",
    "*Подсказка/указание: используйте группировку*"
   ]
  },
  {
   "cell_type": "code",
   "execution_count": 4,
   "metadata": {},
   "outputs": [],
   "source": [
    "# your code here"
   ]
  },
  {
   "cell_type": "markdown",
   "metadata": {},
   "source": [
    "__4. *(1.5 балла)* Создайте новый признак BMI, который содержит информацию об индексе массы тела для каждого спортсмена.__\n",
    "\n",
    "*Подсказка: $BMI = \\frac{\\text{Масса тела (кг)}}{\\text{Рост (м)}^2}$*\n",
    "\n",
    "**Выберите наиболее подходящий вариант визуализации и проиллюстрируйте новый признак.**\n",
    "\n",
    "**Уберите пропущенные значения, посчитайте среднее значение индекса массы тела для всех видов спорта**\n",
    "\n",
    "**Опредилите, в каком виде спорта максимальное значение BMI**"
   ]
  },
  {
   "cell_type": "code",
   "execution_count": 5,
   "metadata": {},
   "outputs": [],
   "source": [
    "# your code here"
   ]
  },
  {
   "cell_type": "markdown",
   "metadata": {},
   "source": [
    "__6. *(1 балл)* Узнайте минимальный, максимальный и средний возраст мужчин и женщин, которые учавствовали в разных видах спорта. Выведите результат в виде таблицы, где Sport указан в строках, а Sex -- в столбцах.__\n",
    "\n",
    "*Подсказка: используйте группировку; обратите внимание на аргумент level в методе .unstack()*"
   ]
  },
  {
   "cell_type": "code",
   "execution_count": 7,
   "metadata": {},
   "outputs": [],
   "source": [
    "# your code here"
   ]
  },
  {
   "cell_type": "markdown",
   "metadata": {},
   "source": [
    "__7. (0.5 балла) Обратите внимание на медали Австралии за всю историю зимних олипиад. Корректро визуализируйте данные.__"
   ]
  },
  {
   "cell_type": "code",
   "execution_count": 8,
   "metadata": {},
   "outputs": [],
   "source": [
    "# your code here"
   ]
  },
  {
   "cell_type": "markdown",
   "metadata": {},
   "source": [
    "**8. (1.5 балла) Обратите на значение BMI в 2000 году. Посчитайте межквартильный размах, границы, за которыми лежат выбросы. Посмотрите на выбросы в данных по полу (визуализируйте). В каком виде спорта наблюдается больше всего выбросов?**\n",
    "\n",
    "*Подсказка: для ответа на последний вопрос отфильтруйте данные по двум условиям через | (раньше мы использовали & -- когда хотели посмотреть, что соблюдаются оба условия)*"
   ]
  },
  {
   "cell_type": "code",
   "execution_count": 9,
   "metadata": {},
   "outputs": [],
   "source": [
    "# your code here"
   ]
  },
  {
   "cell_type": "markdown",
   "metadata": {},
   "source": [
    "**9. (0.5 балл) Выберите только 2000 год. Выберите любые три переменные. Укажите, в какой шкале они измеряются. Предложите корректную визуализацию этих переменных.**"
   ]
  },
  {
   "cell_type": "code",
   "execution_count": null,
   "metadata": {},
   "outputs": [],
   "source": [
    "# your code here"
   ]
  }
 ],
 "metadata": {
  "kernelspec": {
   "display_name": "Python 3 (ipykernel)",
   "language": "python",
   "name": "python3"
  },
  "language_info": {
   "codemirror_mode": {
    "name": "ipython",
    "version": 3
   },
   "file_extension": ".py",
   "mimetype": "text/x-python",
   "name": "python",
   "nbconvert_exporter": "python",
   "pygments_lexer": "ipython3",
   "version": "3.9.7"
  }
 },
 "nbformat": 4,
 "nbformat_minor": 2
}
